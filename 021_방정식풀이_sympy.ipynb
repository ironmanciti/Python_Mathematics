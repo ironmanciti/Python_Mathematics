{
  "cells": [
    {
      "cell_type": "markdown",
      "id": "4350c1ae-5fa3-4e45-9aef-ee3b0eb9892b",
      "metadata": {
        "id": "4350c1ae-5fa3-4e45-9aef-ee3b0eb9892b"
      },
      "source": [
        "# SymPy를 이용한 방정식 풀이\n",
        "\n",
        "IPython.display.Math 클래스는 주로 LaTeX 수학 공식을 주피터 노트북에 표시하기 위해 사용됩니다.  \n",
        "\n",
        "이 함수를 사용하면, LaTeX 표기법으로 작성된 수학적 표현이나 방정식을 문자열 형태로 Math 객체에 전달할 수 있고, 이를 통해 주피터 노트북에서 수학 공식을 깔끔하고 정확한 형태로 시각화할 수 있습니다.\n",
        "\n",
        "SymPy의 `solve`와 `solveset` 함수는 방정식 해결에 사용되며 몇 가지 차이가 있습니다:\n",
        "\n",
        "1. **반환 값**:\n",
        "   - `solve`는 해를 리스트나 딕셔너리로 반환하며, 이는 간단한 해나 시스템 해를 나타냅니다.\n",
        "   - `solveset`은 `FiniteSet`, `Interval`, `Union` 등으로 해를 반환하여, 해의 집합을 더 일반화된 형태로 제공합니다.\n",
        "\n",
        "2. **입력 방식**:\n",
        "   - `solve`는 단일 또는 여러 방정식의 해를 찾는 데 사용됩니다.\n",
        "   - `solveset`은 주로 단일 방정식에 적용되며, 해의 도메인을 명시적으로 지정할 수 있습니다.\n",
        "\n",
        "3. **도메인 지정**:\n",
        "   - `solve`는 도메인 지정 기능이 명시적이지 않습니다.\n",
        "   - `solveset`은 해를 찾을 도메인을 복소수 도메인이나 실수 도메인으로 명시적으로 지정할 수 있습니다.\n",
        "\n",
        "4. **확장성**:\n",
        "   - `solveset`은 `solve`보다 최신이며, 더 로버스트하고 확장 가능하게 설계되었습니다.\n",
        "\n",
        "간단히 말해, `solve`는 전통적인 방식으로 간단한 방정식이나 방정식 시스템의 해를 찾는 데 적합하고, `solveset`은 더 유연하고 일반화된 해결책을 제공하여 복잡한 방정식이나 명시적 도메인 지정이 필요할 때 유용합니다."
      ]
    },
    {
      "cell_type": "code",
      "execution_count": 37,
      "id": "0fd52286-2859-40c1-959a-4f5e181b525d",
      "metadata": {
        "id": "0fd52286-2859-40c1-959a-4f5e181b525d"
      },
      "outputs": [],
      "source": [
        "from sympy import *\n",
        "from IPython.display import Math"
      ]
    },
    {
      "cell_type": "markdown",
      "id": "742e9f50-7dd4-47c9-8de1-d76ed399d5e0",
      "metadata": {
        "id": "742e9f50-7dd4-47c9-8de1-d76ed399d5e0"
      },
      "source": [
        "## solve를 이용한 방정식 풀이\n",
        "1원 1차 방정식 $2*x + 4 = 9$를 sympy를 이용하여 풀이"
      ]
    },
    {
      "cell_type": "code",
      "execution_count": 38,
      "id": "36c65334-092f-4dc0-a666-b8dbddc9edd7",
      "metadata": {
        "colab": {
          "base_uri": "https://localhost:8080/",
          "height": 57
        },
        "id": "36c65334-092f-4dc0-a666-b8dbddc9edd7",
        "outputId": "f049cc0f-af9e-4550-862f-42c8cfff858d"
      },
      "outputs": [
        {
          "output_type": "display_data",
          "data": {
            "text/plain": [
              "2*x - 5"
            ],
            "text/latex": "$\\displaystyle 2 x - 5$"
          },
          "metadata": {}
        },
        {
          "output_type": "execute_result",
          "data": {
            "text/plain": [
              "[5/2]"
            ]
          },
          "metadata": {},
          "execution_count": 38
        }
      ],
      "source": [
        "from sympy import symbols, solve\n",
        "\n",
        "x = symbols('x')\n",
        "\n",
        "# 표현식 정의: 2x + 4 - 9\n",
        "expr = 2*x + 4 - 9\n",
        "\n",
        "display(expr)\n",
        "\n",
        "# 표현식 풀기\n",
        "solution = solve(expr)\n",
        "solution"
      ]
    },
    {
      "cell_type": "code",
      "execution_count": 39,
      "id": "a9071cd9-e567-4e4f-9ae9-f2ee4bfbfd97",
      "metadata": {
        "colab": {
          "base_uri": "https://localhost:8080/",
          "height": 39
        },
        "id": "a9071cd9-e567-4e4f-9ae9-f2ee4bfbfd97",
        "outputId": "c9a0fc7d-d409-4d3c-b447-2049b7bae15f"
      },
      "outputs": [
        {
          "output_type": "display_data",
          "data": {
            "text/plain": [
              "<IPython.core.display.Math object>"
            ],
            "text/latex": "$\\displaystyle \\text{방정식 } 2*x - 5 \\text{의 해는 } 2.5 \\text{입니다}$"
          },
          "metadata": {}
        }
      ],
      "source": [
        "# LaTeX 표현\n",
        "display(Math(\"\\\\text{방정식 } %s \\\\text{의 해는 } %g \\\\text{입니다}\" % (expr, solution[0])))"
      ]
    },
    {
      "cell_type": "code",
      "execution_count": 40,
      "id": "cfeb0c4e-7942-4606-95c1-45be21875233",
      "metadata": {
        "colab": {
          "base_uri": "https://localhost:8080/",
          "height": 39
        },
        "id": "cfeb0c4e-7942-4606-95c1-45be21875233",
        "outputId": "946f8318-3c30-423f-eb63-66de2bc33ade"
      },
      "outputs": [
        {
          "output_type": "display_data",
          "data": {
            "text/plain": [
              "<IPython.core.display.Math object>"
            ],
            "text/latex": "$\\displaystyle 2*x - 5 \\Rightarrow [5/2]$"
          },
          "metadata": {}
        }
      ],
      "source": [
        "display(Math(f\"{expr} \\\\Rightarrow {solution}\"))"
      ]
    },
    {
      "cell_type": "markdown",
      "id": "84c5cb59-ae68-42c9-9578-62267b61e867",
      "metadata": {
        "id": "84c5cb59-ae68-42c9-9578-62267b61e867"
      },
      "source": [
        "## solveset 함수를 이용한 방정식 풀이\n",
        "변수 x에 대한 방정식을 풀기 위해 SymPy 함수solvet(equation, x)를 사용합니다. solveset 함수는 방정식의 해집합을 반환합니다."
      ]
    },
    {
      "cell_type": "code",
      "execution_count": 41,
      "id": "0d0ccb3b-a524-4bc8-b971-985d842b666a",
      "metadata": {
        "colab": {
          "base_uri": "https://localhost:8080/",
          "height": 80
        },
        "id": "0d0ccb3b-a524-4bc8-b971-985d842b666a",
        "outputId": "aa72be82-1a16-47d7-e1bf-64f5c03e6053"
      },
      "outputs": [
        {
          "output_type": "display_data",
          "data": {
            "text/plain": [
              "Eq(5*x + 3, 1)"
            ],
            "text/latex": "$\\displaystyle 5 x + 3 = 1$"
          },
          "metadata": {}
        },
        {
          "output_type": "execute_result",
          "data": {
            "text/plain": [
              "{-2/5}"
            ],
            "text/latex": "$\\displaystyle \\left\\{- \\frac{2}{5}\\right\\}$"
          },
          "metadata": {},
          "execution_count": 41
        }
      ],
      "source": [
        "# 방정식 5x + 3 = 1\n",
        "x = symbols('x')\n",
        "equation = Eq(5*x + 3, 1)\n",
        "display(equation)\n",
        "\n",
        "solveset(equation, x)"
      ]
    },
    {
      "cell_type": "markdown",
      "id": "7aa3256e-e34b-473e-9812-a5aa7eb9bff4",
      "metadata": {
        "id": "7aa3256e-e34b-473e-9812-a5aa7eb9bff4"
      },
      "source": [
        "SymPy는 일반적으로 기호를 복소수라고 가정합니다. 이러한 이유로 SymPy에서 지수 또는 로그 방정식을 풀면 이상해 보이는 결과가 나올 수 있습니다.\n",
        "\n",
        "예를 들어, 다음 방정식 $2^x = 8$을 고려해보세요."
      ]
    },
    {
      "cell_type": "code",
      "execution_count": 42,
      "id": "b90fdd37-6e2e-4a7a-b2dc-3ff2424ad41b",
      "metadata": {
        "colab": {
          "base_uri": "https://localhost:8080/",
          "height": 39
        },
        "id": "b90fdd37-6e2e-4a7a-b2dc-3ff2424ad41b",
        "outputId": "fd2688a7-decf-4097-96b5-bb27f0db6fea"
      },
      "outputs": [
        {
          "output_type": "execute_result",
          "data": {
            "text/plain": [
              "ConditionSet(x, Eq(2**x - 8, 0), Complexes)"
            ],
            "text/latex": "$\\displaystyle \\left\\{x\\; \\middle|\\; x \\in \\mathbb{C} \\wedge 2^{x} - 8 = 0 \\right\\}$"
          },
          "metadata": {},
          "execution_count": 42
        }
      ],
      "source": [
        "x = symbols('x')\n",
        "\n",
        "solveset(Eq(2**x, 8), x)"
      ]
    },
    {
      "cell_type": "markdown",
      "id": "73255b0a-53a5-42ca-b4bf-b4514a355935",
      "metadata": {
        "id": "73255b0a-53a5-42ca-b4bf-b4514a355935"
      },
      "source": [
        "위 표현식은 \"복소수 집합 C에 속하는 모든 x에 대해, $2x^2-8 = 0$을 만족하는 x의 집합\"을 의미합니다.\n",
        "\n",
        "이런 일이 발생하지 않도록 솔루션 x의 정의역을 실수로만 설정할 수 있습니다. domain = S.Reals 인수를solvet()에 추가하여 이를 해결합니다."
      ]
    },
    {
      "cell_type": "code",
      "execution_count": 43,
      "id": "6bee2d8a-97bc-4f96-a9a5-1511022f665a",
      "metadata": {
        "colab": {
          "base_uri": "https://localhost:8080/",
          "height": 37
        },
        "id": "6bee2d8a-97bc-4f96-a9a5-1511022f665a",
        "outputId": "0594fce2-98b0-4bdc-ce2f-d383d1a5f84a"
      },
      "outputs": [
        {
          "output_type": "execute_result",
          "data": {
            "text/plain": [
              "{3}"
            ],
            "text/latex": "$\\displaystyle \\left\\{3\\right\\}$"
          },
          "metadata": {},
          "execution_count": 43
        }
      ],
      "source": [
        "x = symbols('x')\n",
        "\n",
        "solveset(Eq(2**x, 8), x, domain = S.Reals)"
      ]
    },
    {
      "cell_type": "markdown",
      "source": [
        "## 미분"
      ],
      "metadata": {
        "id": "CM2VciRPDakp"
      },
      "id": "CM2VciRPDakp"
    },
    {
      "cell_type": "code",
      "source": [
        "from sympy import symbols, diff\n",
        "\n",
        "# 심볼 x 정의\n",
        "x = symbols('x')\n",
        "\n",
        "# 표현식 정의: 2x + 4 - 9\n",
        "expr = 2*x + 4 - 9\n",
        "display(expr)\n",
        "\n",
        "# 표현식 미분\n",
        "diff_expr = diff(expr, x)\n",
        "\n",
        "# 미분 결과 출력\n",
        "diff_expr"
      ],
      "metadata": {
        "colab": {
          "base_uri": "https://localhost:8080/",
          "height": 59
        },
        "id": "5B8NYo8bC1mF",
        "outputId": "2672215e-68af-45c2-9873-b8ef65487b08"
      },
      "id": "5B8NYo8bC1mF",
      "execution_count": 44,
      "outputs": [
        {
          "output_type": "display_data",
          "data": {
            "text/plain": [
              "2*x - 5"
            ],
            "text/latex": "$\\displaystyle 2 x - 5$"
          },
          "metadata": {}
        },
        {
          "output_type": "execute_result",
          "data": {
            "text/plain": [
              "2"
            ],
            "text/latex": "$\\displaystyle 2$"
          },
          "metadata": {},
          "execution_count": 44
        }
      ]
    },
    {
      "cell_type": "code",
      "source": [
        "# 심볼 x 정의\n",
        "x = symbols('x')\n",
        "\n",
        "# 자연로그 표현식 정의: log(x)\n",
        "log_expr = log(x)\n",
        "# 지수함수 표현식 정의: exp(x)\n",
        "exp_expr = exp(x)\n",
        "\n",
        "display(log_expr, exp_expr)\n",
        "\n",
        "# 자연로그 표현식 미분\n",
        "diff_log_expr = diff(log_expr, x)\n",
        "# 지수함수 표현식 미분\n",
        "diff_exp_expr = diff(exp_expr, x)\n",
        "\n",
        "display(diff_log_expr, diff_exp_expr)"
      ],
      "metadata": {
        "colab": {
          "base_uri": "https://localhost:8080/",
          "height": 117
        },
        "id": "WCFjvqbbSvOj",
        "outputId": "84a538a2-b766-4324-cb98-af019d781721"
      },
      "id": "WCFjvqbbSvOj",
      "execution_count": 50,
      "outputs": [
        {
          "output_type": "display_data",
          "data": {
            "text/plain": [
              "log(x)"
            ],
            "text/latex": "$\\displaystyle \\log{\\left(x \\right)}$"
          },
          "metadata": {}
        },
        {
          "output_type": "display_data",
          "data": {
            "text/plain": [
              "exp(x)"
            ],
            "text/latex": "$\\displaystyle e^{x}$"
          },
          "metadata": {}
        },
        {
          "output_type": "display_data",
          "data": {
            "text/plain": [
              "1/x"
            ],
            "text/latex": "$\\displaystyle \\frac{1}{x}$"
          },
          "metadata": {}
        },
        {
          "output_type": "display_data",
          "data": {
            "text/plain": [
              "exp(x)"
            ],
            "text/latex": "$\\displaystyle e^{x}$"
          },
          "metadata": {}
        }
      ]
    },
    {
      "cell_type": "code",
      "source": [
        "# 편미분\n",
        "# 심볼 x, y 정의\n",
        "x, y = symbols('x y')\n",
        "\n",
        "# 표현식 정의: x^2*y + x*y^2\n",
        "expr = x**2*y + x*y**2\n",
        "display(expr)\n",
        "\n",
        "# expr을 x에 대해 편미분\n",
        "partial_diff_x = diff(expr, x)\n",
        "display(partial_diff_x)\n",
        "\n",
        "# expr을 y에 대해 편미분\n",
        "partial_diff_y = diff(expr, y)\n",
        "display(partial_diff_y)"
      ],
      "metadata": {
        "colab": {
          "base_uri": "https://localhost:8080/",
          "height": 83
        },
        "id": "cAd9ZxCwC1dS",
        "outputId": "f953dc12-1355-48ed-925c-393121210099"
      },
      "id": "cAd9ZxCwC1dS",
      "execution_count": 45,
      "outputs": [
        {
          "output_type": "display_data",
          "data": {
            "text/plain": [
              "x**2*y + x*y**2"
            ],
            "text/latex": "$\\displaystyle x^{2} y + x y^{2}$"
          },
          "metadata": {}
        },
        {
          "output_type": "display_data",
          "data": {
            "text/plain": [
              "2*x*y + y**2"
            ],
            "text/latex": "$\\displaystyle 2 x y + y^{2}$"
          },
          "metadata": {}
        },
        {
          "output_type": "display_data",
          "data": {
            "text/plain": [
              "x**2 + 2*x*y"
            ],
            "text/latex": "$\\displaystyle x^{2} + 2 x y$"
          },
          "metadata": {}
        }
      ]
    },
    {
      "cell_type": "markdown",
      "source": [
        "## 부등식\n",
        "\n",
        "부등식 `4x > 8`을 푸는 과정을 LaTeX 코드로 나타내면 다음과 같습니다:\n",
        "\n",
        "1. **부등식 간소화**:\n",
        "   양변을 4로 나누어 간소화합니다:\n",
        "   $\\frac{4x}{4} > \\frac{8}{4}$\n",
        "\n",
        "3. **부등식의 해 구하기**:\n",
        "   간소화된 부등식은 $x > 2$ 입니다.\n",
        "\n",
        "따라서, 부등식 $4x > 8$의 해는 $x > 2$입니다. 이는 $x$가 2보다 클 때, 부등식이 만족된다는 것을 의미합니다."
      ],
      "metadata": {
        "id": "pvzQCztsGA_0"
      },
      "id": "pvzQCztsGA_0"
    },
    {
      "cell_type": "code",
      "source": [
        "x = symbols('x')\n",
        "expr = 4*x > 8\n",
        "solve(expr)"
      ],
      "metadata": {
        "colab": {
          "base_uri": "https://localhost:8080/",
          "height": 39
        },
        "id": "U2vIBAyhGMpW",
        "outputId": "5168bfab-7ace-4d77-c466-9d3d23e00494"
      },
      "id": "U2vIBAyhGMpW",
      "execution_count": 33,
      "outputs": [
        {
          "output_type": "execute_result",
          "data": {
            "text/plain": [
              "(2 < x) & (x < oo)"
            ],
            "text/latex": "$\\displaystyle 2 < x \\wedge x < \\infty$"
          },
          "metadata": {},
          "execution_count": 33
        }
      ]
    },
    {
      "cell_type": "markdown",
      "source": [
        "$2 < x \\land x < \\infty\n",
        "$는 x가 2보다 크고, 동시에 무한대보다 작다는 것을 의미($\\land$는 logical AND)"
      ],
      "metadata": {
        "id": "kWl5OdqzGOJt"
      },
      "id": "kWl5OdqzGOJt"
    },
    {
      "cell_type": "code",
      "source": [
        "oo > 999999999999999999999999"
      ],
      "metadata": {
        "colab": {
          "base_uri": "https://localhost:8080/",
          "height": 37
        },
        "id": "o-YATobiGWbi",
        "outputId": "c461fe39-cfa6-4da1-aab3-64880a4e660c"
      },
      "id": "o-YATobiGWbi",
      "execution_count": 34,
      "outputs": [
        {
          "output_type": "execute_result",
          "data": {
            "text/plain": [
              "True"
            ],
            "text/latex": "$\\displaystyle \\text{True}$"
          },
          "metadata": {},
          "execution_count": 34
        }
      ]
    },
    {
      "cell_type": "code",
      "source": [
        "expr = (x-1)*(x+3) > 0\n",
        "solve(expr)"
      ],
      "metadata": {
        "colab": {
          "base_uri": "https://localhost:8080/",
          "height": 39
        },
        "id": "XW24_AiMGbR5",
        "outputId": "af645c83-c1c3-48e3-b73f-b0e6d4e241fe"
      },
      "id": "XW24_AiMGbR5",
      "execution_count": 35,
      "outputs": [
        {
          "output_type": "execute_result",
          "data": {
            "text/plain": [
              "((-oo < x) & (x < -3)) | ((1 < x) & (x < oo))"
            ],
            "text/latex": "$\\displaystyle \\left(-\\infty < x \\wedge x < -3\\right) \\vee \\left(1 < x \\wedge x < \\infty\\right)$"
          },
          "metadata": {},
          "execution_count": 35
        }
      ]
    },
    {
      "cell_type": "code",
      "source": [
        "a, b, c = symbols('a b c')\n",
        "expr = a*x > b**2/c\n",
        "display(expr)"
      ],
      "metadata": {
        "colab": {
          "base_uri": "https://localhost:8080/",
          "height": 54
        },
        "id": "2NpAM74eGezZ",
        "outputId": "a21a68ca-682e-4277-c654-f68328e25ee7"
      },
      "id": "2NpAM74eGezZ",
      "execution_count": 36,
      "outputs": [
        {
          "output_type": "display_data",
          "data": {
            "text/plain": [
              "a*x > b**2/c"
            ],
            "text/latex": "$\\displaystyle a x > \\frac{b^{2}}{c}$"
          },
          "metadata": {}
        }
      ]
    },
    {
      "cell_type": "markdown",
      "id": "5d832b7c-f0d9-4a15-84e2-b6bece24b872",
      "metadata": {
        "id": "5d832b7c-f0d9-4a15-84e2-b6bece24b872"
      },
      "source": [
        "## 연습 문제\n",
        "### (문제 1)\n",
        "$$3*q+\\frac{4}{q}+3 = 5*q + \\frac{1}{q} + 1$$\n",
        "- 이 방정식을 Sympy로 표현\n",
        "- Simplify\n",
        "- q에 관해 해를 구함"
      ]
    },
    {
      "cell_type": "markdown",
      "id": "45f8f6da-602f-4fd2-985b-cf7db2ab1efc",
      "metadata": {
        "id": "45f8f6da-602f-4fd2-985b-cf7db2ab1efc"
      },
      "source": [
        "**(방정식 풀이 과정)**\n",
        "\n",
        "1. **방정식 정의**:\n",
        "$3q + \\frac{4}{q} + 3 = 5q + \\frac{1}{q} + 1$\n",
        "\n",
        "3. **방정식 양변을 같은 형태로 정리**:\n",
        "   이 단계에서는 방정식을 간단하게 만들고, 모든 항을 한쪽으로 옮깁니다. 이를 위해 양변에서 $5q + \\frac{1}{q} + 1$을 뺍니다.\n",
        "\n",
        "4. **정리된 방정식**:\n",
        "$-2q + 2 + \\frac{3}{q} = 0$에서 양변에 $q$를 곱해 이차방정식의 표준 형태 $−2q^2+2q+3=0$로 만듭니다.\n",
        "\n",
        "5. 이제 이 방정식의 해를 구하기 위해 이차방정식의 근의 공식을 사용합니다:\n",
        "$q = \\frac{-b \\pm \\sqrt{b^2 - 4ac}}{2a}$\n",
        "여기서 $a = -2$, $b = 2$, 그리고 $c = 3$입니다.\n",
        "\n",
        "6. 근의 공식 적용:\n",
        "근의 공식에 값을 대입하여 $q$에 대한 해를 구합니다:\n",
        "\n",
        "    $q = \\frac{-2 \\pm \\sqrt{2^2 - 4(-2)(3)}}{2(-2)}$\n",
        "    $q = \\frac{-2 \\pm \\sqrt{4 + 24}}{-4}$  \n",
        "    $q = \\frac{-2 \\pm \\sqrt{28}}{-4}$  \n",
        "    $q = \\frac{-2 \\pm 2\\sqrt{7}}{-4}$\n",
        "\n",
        "6.이제 이 해를 단순화합니다:\n",
        "$q = \\frac{1}{2} \\pm \\frac{\\sqrt{7}}{2}$\n",
        "\n",
        "따라서, 최종 해는 다음과 같습니다:\n",
        "$q = \\left[ \\frac{1}{2} - \\frac{\\sqrt{7}}{2}, \\, \\frac{1}{2} + \\frac{\\sqrt{7}}{2} \\right]$"
      ]
    },
    {
      "cell_type": "code",
      "source": [],
      "metadata": {
        "id": "aTUfpMU5TH-Q"
      },
      "id": "aTUfpMU5TH-Q",
      "execution_count": null,
      "outputs": []
    },
    {
      "cell_type": "markdown",
      "id": "4a4fe8a0-4e97-43b2-948c-2e9dd5c2f9bd",
      "metadata": {
        "id": "4a4fe8a0-4e97-43b2-948c-2e9dd5c2f9bd"
      },
      "source": [
        "### (문제 2)\n",
        "$$2q + 3q^2 - \\frac{5}{q} - \\frac{4}{q^3}$$\n",
        "- 이 방정식을 Sympy로 표현\n",
        "- Simplify and cancel  \n",
        " simplify() 메소드는 수식을 가능한 가장 간단한 형태로 만들기 위해 여러 방법을 시도하고, cancel() 메소드는 수식의 분수 형태를 간단하게 만듭니다."
      ]
    },
    {
      "cell_type": "code",
      "execution_count": 36,
      "id": "65765b0b-c124-43d9-ae13-5ea7aa06cfc1",
      "metadata": {
        "id": "65765b0b-c124-43d9-ae13-5ea7aa06cfc1"
      },
      "outputs": [],
      "source": []
    },
    {
      "cell_type": "markdown",
      "id": "e99a951b-61ed-4bf6-b161-302a0a4b2673",
      "metadata": {
        "id": "e99a951b-61ed-4bf6-b161-302a0a4b2673"
      },
      "source": [
        "### (문제 3)\n",
        "$$\\frac{\\sqrt{3}+\\sqrt{15}q}{\\sqrt{2}+\\sqrt{10}q}$$\n",
        "- 이 방정식을 Sympy로 표현\n",
        "- Simplify and cancel\n",
        "- $q$를 임의의 실수로 대체"
      ]
    },
    {
      "cell_type": "markdown",
      "id": "1017cfad-69d8-4059-8e4c-d84b60a91fc5",
      "metadata": {
        "id": "1017cfad-69d8-4059-8e4c-d84b60a91fc5"
      },
      "source": [
        "(풀이 과정)\n",
        "$$\\frac{\\sqrt{3}+\\sqrt{15}q}{\\sqrt{2}+\\sqrt{10}q} = \\frac{\\sqrt{3}+\\sqrt{3}\\sqrt{5}q}{\\sqrt{2}+\\sqrt{2}\\sqrt{5}q}=\\frac{\\sqrt{3}(1+\\sqrt{5}q)}{\\sqrt{2}(1+\\sqrt{5}q)}=\\frac{\\sqrt{6}}{2}$$"
      ]
    },
    {
      "cell_type": "code",
      "source": [],
      "metadata": {
        "id": "VLK6Py43G8X3"
      },
      "id": "VLK6Py43G8X3",
      "execution_count": 36,
      "outputs": []
    },
    {
      "cell_type": "markdown",
      "id": "8015502d-69ca-48e5-8eb2-07f6079d393d",
      "metadata": {
        "id": "8015502d-69ca-48e5-8eb2-07f6079d393d"
      },
      "source": [
        "&nbsp;"
      ]
    },
    {
      "cell_type": "markdown",
      "id": "91b1a763-bf36-4d3b-a68c-3b52cb7da2b9",
      "metadata": {
        "id": "91b1a763-bf36-4d3b-a68c-3b52cb7da2b9"
      },
      "source": [
        "### (문제 4) 지수 및 로그 방정식 풀기. $x$에 대해 각 방정식을 풀어보세요.\n",
        "(a) $e^{3x^2} = \\left(e^4\\right)^{4x + 3}$  \n",
        "(b) $\\ln(x + 1) - \\ln(x) = 1$"
      ]
    },
    {
      "cell_type": "code",
      "execution_count": 36,
      "id": "fd3495bb-7c98-4060-965d-1b606ac66469",
      "metadata": {
        "id": "fd3495bb-7c98-4060-965d-1b606ac66469"
      },
      "outputs": [],
      "source": []
    },
    {
      "cell_type": "markdown",
      "id": "690641c2-3dcc-4b57-8fae-41baa7619fc3",
      "metadata": {
        "id": "690641c2-3dcc-4b57-8fae-41baa7619fc3"
      },
      "source": [
        "### 문제 5)\n",
        "함수 g(x)는 $g(x)=3^{kx}$의 형태를 가지고 있으며, 여기서 $k$는 상수입니다. 만약 $g(−4)=9$라면, $k$의 값은 얼마인가요?"
      ]
    },
    {
      "cell_type": "code",
      "execution_count": 36,
      "id": "582e4ac9-3f28-49cb-8486-9971d4c1a238",
      "metadata": {
        "id": "582e4ac9-3f28-49cb-8486-9971d4c1a238"
      },
      "outputs": [],
      "source": []
    },
    {
      "cell_type": "markdown",
      "id": "7162dd81-a4cf-4075-88b0-b42016d7ebc7",
      "metadata": {
        "id": "7162dd81-a4cf-4075-88b0-b42016d7ebc7"
      },
      "source": [
        "### 문제 6)\n",
        "서울의 인구 P는 $P(t)=9,000,000e^{0.01t}$ 함수로 제공됩니다. 여기서 t는 2000년 이후의 연수입니다.   \n",
        "(a) 함수 P(t)에 따르면 2010년 서울의 인구는 얼마입니까?  \n",
        "(b) 서울 인구가 1200만명에 도달하는 것은 언제 입니까 ?"
      ]
    },
    {
      "cell_type": "code",
      "execution_count": 36,
      "id": "39c7e084-d67e-4922-9437-324432d43d93",
      "metadata": {
        "id": "39c7e084-d67e-4922-9437-324432d43d93"
      },
      "outputs": [],
      "source": []
    }
  ],
  "metadata": {
    "kernelspec": {
      "display_name": "Python 3 (ipykernel)",
      "language": "python",
      "name": "python3"
    },
    "language_info": {
      "codemirror_mode": {
        "name": "ipython",
        "version": 3
      },
      "file_extension": ".py",
      "mimetype": "text/x-python",
      "name": "python",
      "nbconvert_exporter": "python",
      "pygments_lexer": "ipython3",
      "version": "3.9.16"
    },
    "colab": {
      "provenance": []
    }
  },
  "nbformat": 4,
  "nbformat_minor": 5
}