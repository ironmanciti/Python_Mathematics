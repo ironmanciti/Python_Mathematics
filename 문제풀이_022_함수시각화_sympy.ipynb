{
 "cells": [
  {
   "cell_type": "markdown",
   "id": "79ce4b33-900c-4e03-acb4-93da023519a8",
   "metadata": {},
   "source": [
    "## 연습 문제\n",
    "\n",
    "### 문제 1)\n",
    "$f(x)$는 선형 방정식 입니다. $f(1)=−4$ 및 $f(3)=6$이라고 할 때, 이를 바탕으로 함수 $f(x)$의 식을 구하세요.  \n",
    "\n",
    "$f(x)=mx+b$이므로 $m$과 $b$를 구하면,"
   ]
  },
  {
   "cell_type": "code",
   "execution_count": 5,
   "id": "a2ec7c9a",
   "metadata": {
    "colab": {
     "base_uri": "https://localhost:8080/"
    },
    "id": "a2ec7c9a",
    "outputId": "5cb22ad7-f1cd-4d3d-eaa5-89410cca0ae2"
   },
   "outputs": [
    {
     "data": {
      "text/plain": [
       "{m: 5, b: -9}"
      ]
     },
     "execution_count": 5,
     "metadata": {},
     "output_type": "execute_result"
    }
   ],
   "source": [
    "from sympy import *\n",
    "\n",
    "# 변수 정의\n",
    "x, m, b = symbols('x m b')\n",
    "\n",
    "# 주어진 두 점 - f(1)=−4 및 f(3)=6\n",
    "point1 = (1, -4)\n",
    "point2 = (3, 6)\n",
    "\n",
    "# 첫 번째 점을 사용한 방정식\n",
    "eq1 = Eq(point1[1], m * point1[0] + b)\n",
    "\n",
    "# 두 번째 점을 사용한 방정식\n",
    "eq2 = Eq(point2[1], m * point2[0] + b)\n",
    "\n",
    "# m과 b에 대해 연립방정식 풀기\n",
    "solution = solve((eq1, eq2), (m, b))\n",
    "\n",
    "solution"
   ]
  },
  {
   "cell_type": "code",
   "execution_count": 6,
   "id": "e16c4ac2",
   "metadata": {
    "colab": {
     "base_uri": "https://localhost:8080/"
    },
    "id": "e16c4ac2",
    "outputId": "98a37f32-b3c7-4a4c-b381-cabc3627acdf"
   },
   "outputs": [
    {
     "name": "stdout",
     "output_type": "stream",
     "text": [
      "f(x) = 5*x - 9\n"
     ]
    }
   ],
   "source": [
    "m = solution[m]\n",
    "b = solution[b]\n",
    "\n",
    "# 함수 f(x) 정의\n",
    "f = m * x + b\n",
    "\n",
    "# 함수의 식\n",
    "print(f\"f(x) = {f}\")"
   ]
  },
  {
   "cell_type": "markdown",
   "id": "47af5127-bf11-45aa-8b42-448119ced2ca",
   "metadata": {},
   "source": [
    "### 문제 2)\r\n",
    "두 점의 좌표 (a,b)와 (c,d)가 주어졌을 때, 이 두 점을 지나는 직선의 방정식을 반환하는 함수 linear(a, b, c, d)를 정의하라\r\n",
    "\r\n",
    "- 기울기 : $slope = \\frac{(d - b)}{(c - a)}$\r\n",
    "\r\n",
    "- \"점-기울기 형식(Point-Slope Form)\"은 직선의 방정식을 표현하는 한 방법으로, 한 점과 그 직선의 기울기를 사용하여 직선의 방정식을 나타냅니다. 이 형식은 다음과 같은 수학적 공식으로 표현됩니다:  \r\n",
    "$$y−y_1=m(x−x_1)$$\r\n",
    "\r\n",
    "여기서 $(x_1, y_1)$은 직선 위의 한 점, $m$은 직선의 기울기를 나타냅니다. 이 공식을 사용하면, 직선 위의 어떤 점과 그 점을 지나는 직선의 기울기가 주어졌을 때, 그 직선의 방정식을 쉽게 구할 수 있습니다.  \r\n",
    "\r\n",
    "예를 들어, 직선이 점 $(a,b)$를 지나고 기울기가 $m$일 때, 이 직선의 방정식은 $y−b=m(x−a)$로 표현됩니다. 이 방정식은 직선의 모든 점 $(x,y)$에 대해 성립합니다."
   ]
  },
  {
   "cell_type": "code",
   "execution_count": 7,
   "id": "19321ed1",
   "metadata": {
    "colab": {
     "base_uri": "https://localhost:8080/",
     "height": 39
    },
    "id": "19321ed1",
    "outputId": "17d060f1-1941-45a5-e86f-dd2a748fcef3"
   },
   "outputs": [
    {
     "data": {
      "text/latex": [
       "$\\displaystyle 5.0 x - 9.0$"
      ],
      "text/plain": [
       "5.0*x - 9.0"
      ]
     },
     "execution_count": 7,
     "metadata": {},
     "output_type": "execute_result"
    }
   ],
   "source": [
    "# 심볼 x, y 정의\n",
    "x, y = symbols('x y')\n",
    "\n",
    "# 선형 함수를 정의하는 함수\n",
    "def linear(a, b, c, d):\n",
    "    \"\"\"\n",
    "    이 함수는 두 점 (a, b)와 (c, d)를 이용해 선형 함수의 방정식을 찾습니다.\n",
    "    \n",
    "    매개변수:\n",
    "    a, b: 첫 번째 점의 x, y 좌표\n",
    "    c, d: 두 번째 점의 x, y 좌표\n",
    "    \n",
    "    반환값:\n",
    "    선형 함수의 심볼릭 표현\n",
    "    \"\"\"\n",
    "    # 두 점을 통해 기울기 계산\n",
    "    slope = (d - b) / (c - a)\n",
    "    \n",
    "    # 점-기울기 형태(y-y1 = m(x-x1))의 식을 사용해 선형 함수 정의\n",
    "    return slope * (x - a) + b\n",
    "\n",
    "# 값으로 함수 테스트: (1, -4)와 (3, 6)을 지나는 선형 함수의 방정식 찾기\n",
    "y = linear(1, -4, 3, 6)\n",
    "\n",
    "# 계산된 선형 함수의 방정식 출력\n",
    "y"
   ]
  },
  {
   "cell_type": "code",
   "execution_count": 8,
   "id": "7913db2c",
   "metadata": {
    "colab": {
     "base_uri": "https://localhost:8080/",
     "height": 325
    },
    "id": "7913db2c",
    "outputId": "6761830a-1920-4844-ac2d-67b2e912ca40"
   },
   "outputs": [
    {
     "data": {
      "image/png": "[encoded data removed]",
      "text/plain": [
       "<Figure size 640x480 with 1 Axes>"
      ]
     },
     "metadata": {},
     "output_type": "display_data"
    },
    {
     "data": {
      "text/plain": [
       "<sympy.plotting.plot.Plot at 0x1852da60c10>"
      ]
     },
     "execution_count": 8,
     "metadata": {},
     "output_type": "execute_result"
    }
   ],
   "source": [
    "plot(y)"
   ]
  },
  {
   "cell_type": "code",
   "execution_count": null,
   "id": "2a3e8c9e",
   "metadata": {
    "id": "2a3e8c9e"
   },
   "outputs": [],
   "source": []
  }
 ],
 "metadata": {
  "colab": {
   "provenance": []
  },
  "kernelspec": {
   "display_name": "Python 3 (ipykernel)",
   "language": "python",
   "name": "python3"
  },
  "language_info": {
   "codemirror_mode": {
    "name": "ipython",
    "version": 3
   },
   "file_extension": ".py",
   "mimetype": "text/x-python",
   "name": "python",
   "nbconvert_exporter": "python",
   "pygments_lexer": "ipython3",
   "version": "3.9.16"
  }
 },
 "nbformat": 4,
 "nbformat_minor": 5
}
