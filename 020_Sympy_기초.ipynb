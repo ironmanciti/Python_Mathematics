{
  "cells": [
    {
      "cell_type": "markdown",
      "id": "1f8a2c02",
      "metadata": {
        "id": "1f8a2c02"
      },
      "source": [
        "# Sympy 기초\n",
        "\n",
        "SymPy는 기호 형식의 수학적 표현을 사용하기 위한 Python 라이브러리입니다. 수학에서는 변수를 사용하여 미지수를 나타내는 경우가 많습니다. 기호 계산을 사용하면 값이 할당되지 않은 변수로 표현식을 조작할 수 있습니다.\n",
        "\n",
        "또한 기호 계산은 소수점 이하 자릿수로 반올림하는 대신 표현식의 정확한 값을 유지합니다. 기호 계산의 대안은 수치 계산입니다. 수치 계산에서 모든 값은 정수 또는 부동 소수점 숫자로 표시됩니다."
      ]
    },
    {
      "cell_type": "code",
      "execution_count": 76,
      "id": "f8ca5119",
      "metadata": {
        "id": "f8ca5119"
      },
      "outputs": [],
      "source": [
        "#!pip install sympy"
      ]
    },
    {
      "cell_type": "code",
      "execution_count": 117,
      "id": "d8e897e7",
      "metadata": {
        "id": "d8e897e7"
      },
      "outputs": [],
      "source": [
        "from sympy import *"
      ]
    },
    {
      "cell_type": "markdown",
      "id": "35bb2939",
      "metadata": {
        "id": "35bb2939"
      },
      "source": [
        "## Symbols\n",
        "변수를 알 수 없는 변수로 사용하려면 기호()를 사용하여 변수를 정의합니다.\n",
        "\n",
        "기호()는 공백이나 쉼표로 구분된 문자열로 여러 변수를 한 번에 정의하는 데 사용할 수 있습니다."
      ]
    },
    {
      "cell_type": "code",
      "execution_count": 118,
      "id": "a3ce8c3e",
      "metadata": {
        "colab": {
          "base_uri": "https://localhost:8080/",
          "height": 39
        },
        "id": "a3ce8c3e",
        "outputId": "6ce786f4-5aa7-4795-d290-d038d732ffcd"
      },
      "outputs": [
        {
          "output_type": "execute_result",
          "data": {
            "text/plain": [
              "x"
            ],
            "text/latex": "$\\displaystyle x$"
          },
          "metadata": {},
          "execution_count": 118
        }
      ],
      "source": [
        "x = symbols('x')\n",
        "x"
      ]
    },
    {
      "cell_type": "code",
      "execution_count": 119,
      "id": "21c7f590",
      "metadata": {
        "colab": {
          "base_uri": "https://localhost:8080/",
          "height": 83
        },
        "id": "21c7f590",
        "outputId": "41c59cca-656b-41e8-c1db-f57bef0e8408"
      },
      "outputs": [
        {
          "output_type": "display_data",
          "data": {
            "text/plain": [
              "a"
            ],
            "text/latex": "$\\displaystyle a$"
          },
          "metadata": {}
        },
        {
          "output_type": "display_data",
          "data": {
            "text/plain": [
              "b"
            ],
            "text/latex": "$\\displaystyle b$"
          },
          "metadata": {}
        },
        {
          "output_type": "display_data",
          "data": {
            "text/plain": [
              "c"
            ],
            "text/latex": "$\\displaystyle c$"
          },
          "metadata": {}
        }
      ],
      "source": [
        "a, b, c = symbols('a, b, c')\n",
        "display(a, b, c)"
      ]
    },
    {
      "cell_type": "code",
      "execution_count": 80,
      "id": "bd962bf4-c119-4a27-9a47-f96e7db1aee3",
      "metadata": {
        "colab": {
          "base_uri": "https://localhost:8080/",
          "height": 39
        },
        "id": "bd962bf4-c119-4a27-9a47-f96e7db1aee3",
        "outputId": "79bffec3-bcff-4dc3-bbac-23cbf765e283"
      },
      "outputs": [
        {
          "output_type": "display_data",
          "data": {
            "text/plain": [
              "a + b + c"
            ],
            "text/latex": "$\\displaystyle a + b + c$"
          },
          "metadata": {}
        }
      ],
      "source": [
        "expr = a + b + c\n",
        "\n",
        "# 심볼릭 표현식 expr을 화면에 출력\n",
        "display(expr)"
      ]
    },
    {
      "cell_type": "code",
      "execution_count": 81,
      "id": "d4632326",
      "metadata": {
        "colab": {
          "base_uri": "https://localhost:8080/",
          "height": 83
        },
        "id": "d4632326",
        "outputId": "32d892d5-2e52-4404-f41b-a3bfca8c69d6"
      },
      "outputs": [
        {
          "output_type": "display_data",
          "data": {
            "text/plain": [
              "tau"
            ],
            "text/latex": "$\\displaystyle \\tau$"
          },
          "metadata": {}
        },
        {
          "output_type": "display_data",
          "data": {
            "text/plain": [
              "sigma"
            ],
            "text/latex": "$\\displaystyle \\sigma$"
          },
          "metadata": {}
        },
        {
          "output_type": "display_data",
          "data": {
            "text/plain": [
              "mu"
            ],
            "text/latex": "$\\displaystyle \\mu$"
          },
          "metadata": {}
        }
      ],
      "source": [
        "# 심볼(변수) tau, sigma, mu 정의\n",
        "tau, sigma, mu = symbols('tau sigma mu')\n",
        "\n",
        "# 정의된 심볼들 tau, sigma, mu를 화면에 출력\n",
        "display(tau, sigma, mu)"
      ]
    },
    {
      "cell_type": "code",
      "execution_count": 82,
      "id": "8613843f",
      "metadata": {
        "colab": {
          "base_uri": "https://localhost:8080/",
          "height": 51
        },
        "id": "8613843f",
        "outputId": "f697606e-ce44-49de-a895-18f163c0f0ae"
      },
      "outputs": [
        {
          "output_type": "execute_result",
          "data": {
            "text/plain": [
              "3/x"
            ],
            "text/latex": "$\\displaystyle \\frac{3}{x}$"
          },
          "metadata": {},
          "execution_count": 82
        }
      ],
      "source": [
        "expr = 3/x\n",
        "expr"
      ]
    },
    {
      "cell_type": "code",
      "execution_count": 83,
      "id": "cb4da242",
      "metadata": {
        "colab": {
          "base_uri": "https://localhost:8080/",
          "height": 39
        },
        "id": "cb4da242",
        "outputId": "fbd38228-c50c-4662-9e39-2761c2707f0c"
      },
      "outputs": [
        {
          "output_type": "execute_result",
          "data": {
            "text/plain": [
              "2*a*b"
            ],
            "text/latex": "$\\displaystyle 2 a b$"
          },
          "metadata": {},
          "execution_count": 83
        }
      ],
      "source": [
        "a*b + b*a"
      ]
    },
    {
      "cell_type": "code",
      "execution_count": 84,
      "id": "1927bfb7",
      "metadata": {
        "colab": {
          "base_uri": "https://localhost:8080/",
          "height": 40
        },
        "id": "1927bfb7",
        "outputId": "965b3ee3-ee63-4d15-a502-a4a82429ec3c"
      },
      "outputs": [
        {
          "output_type": "execute_result",
          "data": {
            "text/plain": [
              "(a + b)**2"
            ],
            "text/latex": "$\\displaystyle \\left(a + b\\right)^{2}$"
          },
          "metadata": {},
          "execution_count": 84
        }
      ],
      "source": [
        "(a+b)**2"
      ]
    },
    {
      "cell_type": "code",
      "execution_count": 85,
      "id": "98830265",
      "metadata": {
        "colab": {
          "base_uri": "https://localhost:8080/",
          "height": 39
        },
        "id": "98830265",
        "outputId": "d1d7a6b0-80b9-4e76-afb7-9c94086875e6"
      },
      "outputs": [
        {
          "output_type": "execute_result",
          "data": {
            "text/plain": [
              "a**2 + 2*a*b + b**2"
            ],
            "text/latex": "$\\displaystyle a^{2} + 2 a b + b^{2}$"
          },
          "metadata": {},
          "execution_count": 85
        }
      ],
      "source": [
        "g = (a+b)**2\n",
        "\n",
        "#표현식을 대수적으로 전개\n",
        "g.expand()"
      ]
    },
    {
      "cell_type": "code",
      "execution_count": 86,
      "id": "4dae22c6",
      "metadata": {
        "colab": {
          "base_uri": "https://localhost:8080/",
          "height": 39
        },
        "id": "4dae22c6",
        "outputId": "322d781f-cfaf-4b96-acc4-cd3bc38c007f"
      },
      "outputs": [
        {
          "output_type": "execute_result",
          "data": {
            "text/plain": [
              "(a - b)*(a + b)"
            ],
            "text/latex": "$\\displaystyle \\left(a - b\\right) \\left(a + b\\right)$"
          },
          "metadata": {},
          "execution_count": 86
        }
      ],
      "source": [
        "# 인수분해\n",
        "(a**2-b**2).factor()"
      ]
    },
    {
      "cell_type": "markdown",
      "id": "d5ad6b28",
      "metadata": {
        "id": "d5ad6b28"
      },
      "source": [
        "### 치환\n",
        "표현식에서 변수 x를 x = 5라는 값으로 대체한다고 가정해 보겠습니다.\n",
        "\n",
        "x = 5를 입력하면 표현식을 변경하는 대신 Python 변수만 재정의합니다.\n",
        "\n",
        "대신에 subs(x, 5)를 사용해야 합니다."
      ]
    },
    {
      "cell_type": "code",
      "source": [
        "expr = a + b + c\n",
        "\n",
        "# 심볼릭 표현식 expr을 화면에 출력\n",
        "display(expr)\n",
        "\n",
        "# expr 표현식에서 a, b, c를 각각 1, -2, 5로 대체한 후 결과를 출력\n",
        "# 여기서는 a=1, b=-2, c=5로 대체하고, 이를 수행한 결과를 반환\n",
        "expr.subs({a:1, b:-2, c:5})"
      ],
      "metadata": {
        "colab": {
          "base_uri": "https://localhost:8080/",
          "height": 59
        },
        "id": "9E8tjRE2v3IP",
        "outputId": "bc937b94-ad46-4b14-f6aa-edcb7bd32068"
      },
      "id": "9E8tjRE2v3IP",
      "execution_count": 87,
      "outputs": [
        {
          "output_type": "display_data",
          "data": {
            "text/plain": [
              "a + b + c"
            ],
            "text/latex": "$\\displaystyle a + b + c$"
          },
          "metadata": {}
        },
        {
          "output_type": "execute_result",
          "data": {
            "text/plain": [
              "4"
            ],
            "text/latex": "$\\displaystyle 4$"
          },
          "metadata": {},
          "execution_count": 87
        }
      ]
    },
    {
      "cell_type": "code",
      "execution_count": 88,
      "id": "6673a0e0",
      "metadata": {
        "colab": {
          "base_uri": "https://localhost:8080/",
          "height": 39
        },
        "id": "6673a0e0",
        "outputId": "bea30402-3284-41ad-ee13-335f6635ef26"
      },
      "outputs": [
        {
          "output_type": "execute_result",
          "data": {
            "text/plain": [
              "2*x - 1"
            ],
            "text/latex": "$\\displaystyle 2 x - 1$"
          },
          "metadata": {},
          "execution_count": 88
        }
      ],
      "source": [
        "# symbol 정의\n",
        "x = symbols('x')\n",
        "# expression 정의\n",
        "expression = 2*x - 1\n",
        "expression"
      ]
    },
    {
      "cell_type": "code",
      "execution_count": 89,
      "id": "c487a9cf",
      "metadata": {
        "colab": {
          "base_uri": "https://localhost:8080/",
          "height": 37
        },
        "id": "c487a9cf",
        "outputId": "e4c6882e-fde2-488b-cc34-7e2f8854a9a7"
      },
      "outputs": [
        {
          "output_type": "execute_result",
          "data": {
            "text/plain": [
              "9"
            ],
            "text/latex": "$\\displaystyle 9$"
          },
          "metadata": {},
          "execution_count": 89
        }
      ],
      "source": [
        "# x를 5로 대체\n",
        "expression.subs(x, 5)"
      ]
    },
    {
      "cell_type": "code",
      "execution_count": 90,
      "id": "170a067f",
      "metadata": {
        "colab": {
          "base_uri": "https://localhost:8080/",
          "height": 39
        },
        "id": "170a067f",
        "outputId": "a9177e2b-c0fe-4886-a750-727a017449c7"
      },
      "outputs": [
        {
          "output_type": "execute_result",
          "data": {
            "text/plain": [
              "8*x**4 - 4*x**3 + 10*x**2"
            ],
            "text/latex": "$\\displaystyle 8 x^{4} - 4 x^{3} + 10 x^{2}$"
          },
          "metadata": {},
          "execution_count": 90
        }
      ],
      "source": [
        "f = 8*x**4 - 4*x**3 + 10*x**2\n",
        "f"
      ]
    },
    {
      "cell_type": "code",
      "execution_count": 91,
      "id": "ac70e8bd",
      "metadata": {
        "colab": {
          "base_uri": "https://localhost:8080/",
          "height": 37
        },
        "id": "ac70e8bd",
        "outputId": "83ecd3f9-fe86-485e-9fb3-baaba3498a0b"
      },
      "outputs": [
        {
          "output_type": "execute_result",
          "data": {
            "text/plain": [
              "630"
            ],
            "text/latex": "$\\displaystyle 630$"
          },
          "metadata": {},
          "execution_count": 91
        }
      ],
      "source": [
        "f.subs(x, 3)"
      ]
    },
    {
      "cell_type": "code",
      "source": [
        "f.factor()"
      ],
      "metadata": {
        "colab": {
          "base_uri": "https://localhost:8080/",
          "height": 39
        },
        "id": "hNQkNt0Mvxyg",
        "outputId": "e63e961a-27b8-46c1-d0bd-9b55d5431cc4"
      },
      "id": "hNQkNt0Mvxyg",
      "execution_count": 92,
      "outputs": [
        {
          "output_type": "execute_result",
          "data": {
            "text/plain": [
              "2*x**2*(4*x**2 - 2*x + 5)"
            ],
            "text/latex": "$\\displaystyle 2 x^{2} \\cdot \\left(4 x^{2} - 2 x + 5\\right)$"
          },
          "metadata": {},
          "execution_count": 92
        }
      ]
    },
    {
      "cell_type": "code",
      "execution_count": 93,
      "id": "f95d7a59",
      "metadata": {
        "colab": {
          "base_uri": "https://localhost:8080/",
          "height": 54
        },
        "id": "f95d7a59",
        "outputId": "2f986af6-3cea-4c19-8a43-980ec7351aa0"
      },
      "outputs": [
        {
          "output_type": "execute_result",
          "data": {
            "text/plain": [
              "(8*x**4 - 4*x**3 + 10*x**2)/(2*x**2)"
            ],
            "text/latex": "$\\displaystyle \\frac{8 x^{4} - 4 x^{3} + 10 x^{2}}{2 x^{2}}$"
          },
          "metadata": {},
          "execution_count": 93
        }
      ],
      "source": [
        "g = f / (2*x**2)\n",
        "g"
      ]
    },
    {
      "cell_type": "code",
      "execution_count": 94,
      "id": "bd044ffb",
      "metadata": {
        "colab": {
          "base_uri": "https://localhost:8080/",
          "height": 39
        },
        "id": "bd044ffb",
        "outputId": "c1779d8a-549c-4353-b112-f9ebd38b1576"
      },
      "outputs": [
        {
          "output_type": "execute_result",
          "data": {
            "text/plain": [
              "4*x**2 - 2*x + 5"
            ],
            "text/latex": "$\\displaystyle 4 x^{2} - 2 x + 5$"
          },
          "metadata": {},
          "execution_count": 94
        }
      ],
      "source": [
        "# 단순화 (약분)\n",
        "g.simplify()"
      ]
    },
    {
      "cell_type": "code",
      "execution_count": 95,
      "id": "05b255fa",
      "metadata": {
        "colab": {
          "base_uri": "https://localhost:8080/",
          "height": 37
        },
        "id": "05b255fa",
        "outputId": "a15222ac-78aa-4313-9297-3c405b023e99"
      },
      "outputs": [
        {
          "output_type": "execute_result",
          "data": {
            "text/plain": [
              "nan"
            ],
            "text/latex": "$\\displaystyle \\text{NaN}$"
          },
          "metadata": {},
          "execution_count": 95
        }
      ],
      "source": [
        "# zero division\n",
        "g.subs(x, 0)"
      ]
    },
    {
      "cell_type": "code",
      "execution_count": 96,
      "id": "b88923a6",
      "metadata": {
        "colab": {
          "base_uri": "https://localhost:8080/",
          "height": 37
        },
        "id": "b88923a6",
        "outputId": "c1bdd2c3-a8be-4392-a57d-db69d8b8fbca"
      },
      "outputs": [
        {
          "output_type": "execute_result",
          "data": {
            "text/plain": [
              "5"
            ],
            "text/latex": "$\\displaystyle 5$"
          },
          "metadata": {},
          "execution_count": 96
        }
      ],
      "source": [
        "g.simplify().subs(x, 0)"
      ]
    },
    {
      "cell_type": "markdown",
      "id": "8b2c4953",
      "metadata": {
        "id": "8b2c4953"
      },
      "source": [
        "## 유리수\n",
        "기호 계산의 또 다른 특징은 정확한 값을 유지한다는 것입니다.   \n",
        "\n",
        "Python에서 `/`로 나누면 정수 또는 부동 소수점 숫자가 생성됩니다. 몫이 종료되지 않는 소수인 경우 잘립니다. SymPy는 Python의 모든 산술 연산자에 대해 동일한 의미를 유지합니다.  \n",
        "\n",
        "Python에서 유리수를 정확하게 표현하고 계산하고자 할 때, SymPy 라이브러리의 Rational 클래스를 사용할 수 있습니다. Rational(a, b)는 분자 a와 분모 b를 가지는 분수를 나타냅니다. 이 방법은 유리수를 부동소수점으로 표현할 때 발생할 수 있는 오차 없이 정확한 값을 유지하고자 할 때 유용합니다. 예를 들어, Rational(1, 3)은 1/3을 정확한 분수 형태로 나타냅니다."
      ]
    },
    {
      "cell_type": "code",
      "execution_count": 97,
      "id": "ebbae6df",
      "metadata": {
        "colab": {
          "base_uri": "https://localhost:8080/"
        },
        "id": "ebbae6df",
        "outputId": "8e13f662-f439-481a-fbbc-8755f0ca2b58"
      },
      "outputs": [
        {
          "output_type": "execute_result",
          "data": {
            "text/plain": [
              "0.3333333333333333"
            ]
          },
          "metadata": {},
          "execution_count": 97
        }
      ],
      "source": [
        "1/3"
      ]
    },
    {
      "cell_type": "code",
      "execution_count": 98,
      "id": "b5769b0b",
      "metadata": {
        "colab": {
          "base_uri": "https://localhost:8080/",
          "height": 51
        },
        "id": "b5769b0b",
        "outputId": "f107025b-e3a9-471c-d80b-eae2b720dd8c"
      },
      "outputs": [
        {
          "output_type": "execute_result",
          "data": {
            "text/plain": [
              "1/3"
            ],
            "text/latex": "$\\displaystyle \\frac{1}{3}$"
          },
          "metadata": {},
          "execution_count": 98
        }
      ],
      "source": [
        "# 1/3은 유리수로 유지됩니다.\n",
        "Rational(1, 3)"
      ]
    },
    {
      "cell_type": "markdown",
      "id": "7cc6107b",
      "metadata": {
        "id": "7cc6107b"
      },
      "source": [
        "### 평가하기\n",
        "\n",
        "SymPy 라이브러리를 사용하여 문제를 해결할 때 종종 정답의 소수점 근사값을 구하고 싶을 때가 있습니다. SymPy에서 표현식을 부동소수점 숫자로 변환하기 위해서는 evalf() 메서드를 사용할 수 있습니다.\n",
        "\n",
        "예를 들어, $\\sqrt{2}$는 무리수이므로, SymPy에서는 항상 sqrt(2)로 표현됩니다. $\\sqrt{2}$의 소수점 근사값을 찾기 위해서는 다음과 같은 코드를 사용할 수 있습니다."
      ]
    },
    {
      "cell_type": "code",
      "execution_count": 99,
      "id": "6154f646",
      "metadata": {
        "colab": {
          "base_uri": "https://localhost:8080/",
          "height": 38
        },
        "id": "6154f646",
        "outputId": "fc79ca63-1865-4abe-9ca3-ea171fc3c514"
      },
      "outputs": [
        {
          "output_type": "execute_result",
          "data": {
            "text/plain": [
              "sqrt(2)"
            ],
            "text/latex": "$\\displaystyle \\sqrt{2}$"
          },
          "metadata": {},
          "execution_count": 99
        }
      ],
      "source": [
        "expr = sqrt(2)\n",
        "expr"
      ]
    },
    {
      "cell_type": "code",
      "execution_count": 100,
      "id": "f5082aab",
      "metadata": {
        "colab": {
          "base_uri": "https://localhost:8080/",
          "height": 37
        },
        "id": "f5082aab",
        "outputId": "c96e9605-b045-42b4-f180-a2465f6c0242"
      },
      "outputs": [
        {
          "output_type": "execute_result",
          "data": {
            "text/plain": [
              "1.41421356237310"
            ],
            "text/latex": "$\\displaystyle 1.4142135623731$"
          },
          "metadata": {},
          "execution_count": 100
        }
      ],
      "source": [
        "# 부동소수점 변환\n",
        "expr.evalf()"
      ]
    },
    {
      "cell_type": "code",
      "execution_count": 101,
      "id": "547fba90-78c4-4b3d-b61f-d272835a03b8",
      "metadata": {
        "colab": {
          "base_uri": "https://localhost:8080/",
          "height": 59
        },
        "id": "547fba90-78c4-4b3d-b61f-d272835a03b8",
        "outputId": "9fdb6d4a-7577-4a91-d456-09626755f06b"
      },
      "outputs": [
        {
          "output_type": "display_data",
          "data": {
            "text/plain": [
              "exp(2)"
            ],
            "text/latex": "$\\displaystyle e^{2}$"
          },
          "metadata": {}
        },
        {
          "output_type": "execute_result",
          "data": {
            "text/plain": [
              "7.38905609893065"
            ],
            "text/latex": "$\\displaystyle 7.38905609893065$"
          },
          "metadata": {},
          "execution_count": 101
        }
      ],
      "source": [
        "# e^2\n",
        "expr = exp(2)\n",
        "\n",
        "display(expr)\n",
        "\n",
        "expr.evalf()"
      ]
    },
    {
      "cell_type": "markdown",
      "id": "be97f4a3-f88d-4fc6-92cf-b1269d1f7dc0",
      "metadata": {
        "id": "be97f4a3-f88d-4fc6-92cf-b1269d1f7dc0"
      },
      "source": [
        "각 표현식의 값 구하기.   \n",
        "(a) $\\ln\\left(\\frac{1}{e^3}\\right)$\n",
        "\n",
        "\n",
        "(b) $e^{\\ln 2 - \\ln 4}$"
      ]
    },
    {
      "cell_type": "code",
      "execution_count": 102,
      "id": "2e253b1a-2673-437e-81cc-573a74342a94",
      "metadata": {
        "colab": {
          "base_uri": "https://localhost:8080/",
          "height": 37
        },
        "id": "2e253b1a-2673-437e-81cc-573a74342a94",
        "outputId": "2e9060a0-6afb-47e1-8ff0-fdebff0128e6"
      },
      "outputs": [
        {
          "output_type": "execute_result",
          "data": {
            "text/plain": [
              "-3.00000000000000"
            ],
            "text/latex": "$\\displaystyle -3.0$"
          },
          "metadata": {},
          "execution_count": 102
        }
      ],
      "source": [
        "expr = log(1/exp(3))\n",
        "expr.evalf()"
      ]
    },
    {
      "cell_type": "code",
      "execution_count": 103,
      "id": "e61a8116-1cff-48c7-8964-cbe03a652864",
      "metadata": {
        "colab": {
          "base_uri": "https://localhost:8080/",
          "height": 37
        },
        "id": "e61a8116-1cff-48c7-8964-cbe03a652864",
        "outputId": "da379145-4b5c-4d6b-e363-4fb74547f508"
      },
      "outputs": [
        {
          "output_type": "execute_result",
          "data": {
            "text/plain": [
              "0.500000000000000"
            ],
            "text/latex": "$\\displaystyle 0.5$"
          },
          "metadata": {},
          "execution_count": 103
        }
      ],
      "source": [
        "expr = exp(log(2)-log(4))\n",
        "expr.evalf()"
      ]
    },
    {
      "cell_type": "markdown",
      "id": "bf5f1f3c-3436-4281-9dee-1e997f592c16",
      "metadata": {
        "id": "bf5f1f3c-3436-4281-9dee-1e997f592c16"
      },
      "source": [
        "### SymPy를 활용한 지수법칙 이해\n",
        "\n",
        "지수법칙은 다음과 같습니다:\n",
        "\n",
        "1. 곱셈 법칙: 같은 밑의 지수가 곱해질 때, 지수는 더해집니다.\n",
        "$$a^m \\times a^n = a^{m+n}$$\n",
        "2. 나눗셈 법칙: 같은 밑의 지수가 나눠질 때, 지수는 빼집니다.\n",
        "$$a^m \\div a^n = a^{m-n}$$\n",
        "3. 거듭제곱 법칙: 지수가 거듭제곱될 때, 지수는 곱해집니다.\n",
        "$$(a^m)^n = a^{m \\times n}$$\n",
        "4. 곱의 지수 법칙: 곱이 지수로 들어갈 때, 각각의 항은 지수로 들어갑니다.\n",
        "$$(ab)^n = a^n b^n$$\n",
        "5. 분수의 지수 법칙: 분수의 지수는 분자와 분모에 각각 적용됩니다.\n",
        "$$\\left(\\frac{a}{b}\\right)^n = \\frac{a^n}{b^n}$$\n",
        "6. 음의 지수 법칙: 음의 지수는 지수의 역수를 나타냅니다.\n",
        "$$a^{-n} = \\frac{1}{a^n}$$\n",
        "7. 0의 지수 법칙: 어떤 수의 0승은 1입니다 (단, 0의 0승은 정의되지 않음).\n",
        "$$a^0 = 1$$\n"
      ]
    },
    {
      "cell_type": "code",
      "source": [
        "# 심볼 정의\n",
        "a, b, m, n = symbols(\"a b m n\")\n",
        "\n",
        "# 곱셈 법칙\n",
        "print(\"곱셈 법칙:\")\n",
        "expr_mul = a**m * a**n\n",
        "display(expr_mul)\n",
        "display(simplify(expr_mul))\n",
        "\n",
        "# 나눗셈 법칙\n",
        "print(\"\\n나눗셈 법칙:\")\n",
        "expr_div = a**m / a**n\n",
        "display(expr_div)\n",
        "display(simplify(expr_div))\n",
        "\n",
        "# 거듭제곱 법칙\n",
        "print(\"\\n거듭제곱 법칙 예:\")\n",
        "expr_pow = (a**m)**n\n",
        "# 거듭제곱 법칙 적용된 형태로 직접 표현\n",
        "expr_applied = a**(m*n)\n",
        "display(expr_pow)\n",
        "display(expr_applied)\n",
        "\n",
        "# 곱의 지수 법칙\n",
        "print(\"\\n곱의 지수 법칙 예:\")\n",
        "expr_prod = (a*b)**n\n",
        "\n",
        "# 곱의 지수 법칙 적용된 형태로 직접 표현\n",
        "expr_applied = a**n * b**n\n",
        "display(expr_prod)\n",
        "display(expr_applied)\n",
        "\n",
        "# 분수의 지수 법칙\n",
        "print(\"\\n분수의 지수 법칙 예:\")\n",
        "expr_frac = (a/b)**n\n",
        "# 분수의 지수 법칙 적용된 형태로 직접 표현\n",
        "expr_applied = a**n / b**n\n",
        "display(expr_frac)\n",
        "display(expr_applied)\n",
        "\n",
        "# 음의 지수 법칙\n",
        "print(\"\\n음의 지수 법칙 예:\")\n",
        "expr_neg = a**-n\n",
        "# 음의 지수 법칙 적용된 형태로 직접 표현\n",
        "expr_applied = (1 / a**n)\n",
        "display(expr_neg)\n",
        "display(expr_applied)\n",
        "\n",
        "# 0의 지수 법칙\n",
        "print(\"\\n0의 지수 법칙:\")\n",
        "expr_zero = a**0\n",
        "display(expr_zero)"
      ],
      "metadata": {
        "colab": {
          "base_uri": "https://localhost:8080/",
          "height": 550
        },
        "id": "nwoKEZRH0ZeQ",
        "outputId": "544015fc-192a-4b49-af99-714730f3d01b"
      },
      "id": "nwoKEZRH0ZeQ",
      "execution_count": 104,
      "outputs": [
        {
          "output_type": "stream",
          "name": "stdout",
          "text": [
            "곱셈 법칙:\n"
          ]
        },
        {
          "output_type": "display_data",
          "data": {
            "text/plain": [
              "a**m*a**n"
            ],
            "text/latex": "$\\displaystyle a^{m} a^{n}$"
          },
          "metadata": {}
        },
        {
          "output_type": "display_data",
          "data": {
            "text/plain": [
              "a**(m + n)"
            ],
            "text/latex": "$\\displaystyle a^{m + n}$"
          },
          "metadata": {}
        },
        {
          "output_type": "stream",
          "name": "stdout",
          "text": [
            "\n",
            "나눗셈 법칙:\n"
          ]
        },
        {
          "output_type": "display_data",
          "data": {
            "text/plain": [
              "a**m/a**n"
            ],
            "text/latex": "$\\displaystyle a^{m} a^{- n}$"
          },
          "metadata": {}
        },
        {
          "output_type": "display_data",
          "data": {
            "text/plain": [
              "a**(m - n)"
            ],
            "text/latex": "$\\displaystyle a^{m - n}$"
          },
          "metadata": {}
        },
        {
          "output_type": "stream",
          "name": "stdout",
          "text": [
            "\n",
            "거듭제곱 법칙 예:\n"
          ]
        },
        {
          "output_type": "display_data",
          "data": {
            "text/plain": [
              "(a**m)**n"
            ],
            "text/latex": "$\\displaystyle \\left(a^{m}\\right)^{n}$"
          },
          "metadata": {}
        },
        {
          "output_type": "display_data",
          "data": {
            "text/plain": [
              "a**(m*n)"
            ],
            "text/latex": "$\\displaystyle a^{m n}$"
          },
          "metadata": {}
        },
        {
          "output_type": "stream",
          "name": "stdout",
          "text": [
            "\n",
            "곱의 지수 법칙 예:\n"
          ]
        },
        {
          "output_type": "display_data",
          "data": {
            "text/plain": [
              "(a*b)**n"
            ],
            "text/latex": "$\\displaystyle \\left(a b\\right)^{n}$"
          },
          "metadata": {}
        },
        {
          "output_type": "display_data",
          "data": {
            "text/plain": [
              "a**n*b**n"
            ],
            "text/latex": "$\\displaystyle a^{n} b^{n}$"
          },
          "metadata": {}
        },
        {
          "output_type": "stream",
          "name": "stdout",
          "text": [
            "\n",
            "분수의 지수 법칙 예:\n"
          ]
        },
        {
          "output_type": "display_data",
          "data": {
            "text/plain": [
              "(a/b)**n"
            ],
            "text/latex": "$\\displaystyle \\left(\\frac{a}{b}\\right)^{n}$"
          },
          "metadata": {}
        },
        {
          "output_type": "display_data",
          "data": {
            "text/plain": [
              "a**n/b**n"
            ],
            "text/latex": "$\\displaystyle a^{n} b^{- n}$"
          },
          "metadata": {}
        },
        {
          "output_type": "stream",
          "name": "stdout",
          "text": [
            "\n",
            "음의 지수 법칙 예:\n"
          ]
        },
        {
          "output_type": "display_data",
          "data": {
            "text/plain": [
              "a**(-n)"
            ],
            "text/latex": "$\\displaystyle a^{- n}$"
          },
          "metadata": {}
        },
        {
          "output_type": "display_data",
          "data": {
            "text/plain": [
              "a**(-n)"
            ],
            "text/latex": "$\\displaystyle a^{- n}$"
          },
          "metadata": {}
        },
        {
          "output_type": "stream",
          "name": "stdout",
          "text": [
            "\n",
            "0의 지수 법칙:\n"
          ]
        },
        {
          "output_type": "display_data",
          "data": {
            "text/plain": [
              "1"
            ],
            "text/latex": "$\\displaystyle 1$"
          },
          "metadata": {}
        }
      ]
    },
    {
      "cell_type": "markdown",
      "id": "1df4c003-2942-411a-96ce-205d5c4e843b",
      "metadata": {
        "id": "1df4c003-2942-411a-96ce-205d5c4e843b"
      },
      "source": [
        "### Eq 함수\n",
        "SymPy의 Eq 함수는 수학적인 방정식을 나타내기 위해 사용됩니다. 이 함수는 주로 두 표현식이나 값이 같다는 것을 표현하는 데 쓰입니다. Eq는 Equation의 약자로, 방정식을 정의할 때 사용됩니다."
      ]
    },
    {
      "cell_type": "code",
      "execution_count": 105,
      "id": "53543157-2130-4ea3-bc83-612b0a3acccf",
      "metadata": {
        "colab": {
          "base_uri": "https://localhost:8080/",
          "height": 37
        },
        "id": "53543157-2130-4ea3-bc83-612b0a3acccf",
        "outputId": "1cf0a0d2-8711-4768-9910-d2b413217e40"
      },
      "outputs": [
        {
          "output_type": "execute_result",
          "data": {
            "text/plain": [
              "True"
            ],
            "text/latex": "$\\displaystyle \\text{True}$"
          },
          "metadata": {},
          "execution_count": 105
        }
      ],
      "source": [
        "from sympy import Eq, symbols\n",
        "\n",
        "Eq(2+4, 6)"
      ]
    },
    {
      "cell_type": "code",
      "execution_count": 106,
      "id": "11f767b0-a037-454b-adb9-60bcffcf88dc",
      "metadata": {
        "colab": {
          "base_uri": "https://localhost:8080/",
          "height": 39
        },
        "id": "11f767b0-a037-454b-adb9-60bcffcf88dc",
        "outputId": "c1e25680-7a0b-4e0e-d141-125f87f956b3"
      },
      "outputs": [
        {
          "output_type": "execute_result",
          "data": {
            "text/plain": [
              "Eq(x + y, 2)"
            ],
            "text/latex": "$\\displaystyle x + y = 2$"
          },
          "metadata": {},
          "execution_count": 106
        }
      ],
      "source": [
        "# 변수 정의\n",
        "x, y = symbols('x y')\n",
        "\n",
        "# 방정식 생성: x + y = 2\n",
        "equation = Eq(x + y, 2)\n",
        "\n",
        "# 방정식 출력\n",
        "equation"
      ]
    },
    {
      "cell_type": "markdown",
      "source": [
        "solve 함수는 equation을 0으로 만드는 x의 값을 찾습니다."
      ],
      "metadata": {
        "id": "j6Hup4lr6oyD"
      },
      "id": "j6Hup4lr6oyD"
    },
    {
      "cell_type": "code",
      "execution_count": 107,
      "id": "16437d7f-2763-4b80-a82f-c423115d5394",
      "metadata": {
        "colab": {
          "base_uri": "https://localhost:8080/"
        },
        "id": "16437d7f-2763-4b80-a82f-c423115d5394",
        "outputId": "730fd013-bdb6-4dba-bf17-93cfe1dc37c8"
      },
      "outputs": [
        {
          "output_type": "execute_result",
          "data": {
            "text/plain": [
              "[2 - y]"
            ]
          },
          "metadata": {},
          "execution_count": 107
        }
      ],
      "source": [
        "from sympy import solve\n",
        "\n",
        "# 방정식 풀기: x에 대해 풀기\n",
        "solution = solve(equation, x)\n",
        "\n",
        "# 해 출력\n",
        "solution"
      ]
    },
    {
      "cell_type": "markdown",
      "id": "afd684fa-2510-4c44-a347-b5091dcfce6d",
      "metadata": {
        "id": "afd684fa-2510-4c44-a347-b5091dcfce6d"
      },
      "source": [
        "## 분배법칙\n",
        "\n",
        "분배법칙(distributive law)은 덧셈과 곱셈을 연결하는 중요한 규칙입니다. 분배법칙에 따르면, 하나의 수를 덧셈 또는 뺄셈으로 연결된 수들의 집합과 곱할 때, 각각의 수에 그 수를 곱하고 그 결과들을 더하거나 뺀 것과 같습니다."
      ]
    },
    {
      "cell_type": "code",
      "source": [
        "a, b, c = symbols(\"a, b, c\")\n",
        "print(a*(b+c))\n",
        "\n",
        "# 식 전개\n",
        "expanded_expr = expand(a*(b+c))\n",
        "\n",
        "# 전개된 식 출력\n",
        "expanded_expr"
      ],
      "metadata": {
        "colab": {
          "base_uri": "https://localhost:8080/",
          "height": 57
        },
        "id": "ZxnWy5IuF6nv",
        "outputId": "d3f06703-3ca4-49d9-c931-ce4d0ba5d562"
      },
      "id": "ZxnWy5IuF6nv",
      "execution_count": 108,
      "outputs": [
        {
          "output_type": "stream",
          "name": "stdout",
          "text": [
            "a*(b + c)\n"
          ]
        },
        {
          "output_type": "execute_result",
          "data": {
            "text/plain": [
              "a*b + a*c"
            ],
            "text/latex": "$\\displaystyle a b + a c$"
          },
          "metadata": {},
          "execution_count": 108
        }
      ]
    },
    {
      "cell_type": "code",
      "source": [
        "print(a*(b-c))\n",
        "\n",
        "expanded_expr = expand(a*(b-c))\n",
        "expanded_expr"
      ],
      "metadata": {
        "colab": {
          "base_uri": "https://localhost:8080/",
          "height": 57
        },
        "id": "W0BWYDR4GJ4m",
        "outputId": "e073946f-1b02-49ff-fe76-ce645469142b"
      },
      "id": "W0BWYDR4GJ4m",
      "execution_count": 109,
      "outputs": [
        {
          "output_type": "stream",
          "name": "stdout",
          "text": [
            "a*(b - c)\n"
          ]
        },
        {
          "output_type": "execute_result",
          "data": {
            "text/plain": [
              "a*b - a*c"
            ],
            "text/latex": "$\\displaystyle a b - a c$"
          },
          "metadata": {},
          "execution_count": 109
        }
      ]
    },
    {
      "cell_type": "code",
      "execution_count": 110,
      "id": "1085a165-1b65-4735-9348-144745e327c9",
      "metadata": {
        "colab": {
          "base_uri": "https://localhost:8080/",
          "height": 106
        },
        "id": "1085a165-1b65-4735-9348-144745e327c9",
        "outputId": "f1f94036-ffdf-467b-bddd-1a5328fb827e"
      },
      "outputs": [
        {
          "output_type": "display_data",
          "data": {
            "text/plain": [
              "x*(4*x + 5)"
            ],
            "text/latex": "$\\displaystyle x \\left(4 x + 5\\right)$"
          },
          "metadata": {}
        },
        {
          "output_type": "display_data",
          "data": {
            "text/plain": [
              "4*x**2 + 5*x"
            ],
            "text/latex": "$\\displaystyle 4 x^{2} + 5 x$"
          },
          "metadata": {}
        },
        {
          "output_type": "display_data",
          "data": {
            "text/plain": [
              "(x - 7)*(4*x + 5)"
            ],
            "text/latex": "$\\displaystyle \\left(x - 7\\right) \\left(4 x + 5\\right)$"
          },
          "metadata": {}
        },
        {
          "output_type": "display_data",
          "data": {
            "text/plain": [
              "4*x**2 - 23*x - 35"
            ],
            "text/latex": "$\\displaystyle 4 x^{2} - 23 x - 35$"
          },
          "metadata": {}
        }
      ],
      "source": [
        "# 심볼 x 정의\n",
        "x = symbols('x')\n",
        "\n",
        "# 식들 정의\n",
        "term1 = 4*x + 5  # 첫 번째 식\n",
        "term2 = x  # 두 번째 식\n",
        "term3 = x - 7  # 세 번째 식\n",
        "\n",
        "# term1과 term2의 곱을 계산하고 전개하지 않은 결과와 전개된 결과를 보여줌\n",
        "display(term1 * term2)  # 곱셈 결과를 직접 보여줌\n",
        "display(expand(term1 * term2))  # 곱셈 결과를 전개하여 보여줌\n",
        "\n",
        "# term1과 term3의 곱을 계산하고 전개하지 않은 결과와 전개된 결과를 보여줌\n",
        "display(term1 * term3)  # 곱셈 결과를 직접 보여줌\n",
        "display(expand(term1 * term3))  # 곱셈 결과를 전개하여 보여줌"
      ]
    },
    {
      "cell_type": "code",
      "execution_count": 111,
      "id": "c4bf2edb-e393-4511-bca9-c5212fd02795",
      "metadata": {
        "colab": {
          "base_uri": "https://localhost:8080/",
          "height": 80
        },
        "id": "c4bf2edb-e393-4511-bca9-c5212fd02795",
        "outputId": "155c295a-f40d-42ef-b2a4-33c070c2149a"
      },
      "outputs": [
        {
          "output_type": "display_data",
          "data": {
            "text/plain": [
              "x*(-5**x/x + 2*y**2)"
            ],
            "text/latex": "$\\displaystyle x \\left(- \\frac{5^{x}}{x} + 2 y^{2}\\right)$"
          },
          "metadata": {}
        },
        {
          "output_type": "display_data",
          "data": {
            "text/plain": [
              "-5**x + 2*x*y**2"
            ],
            "text/latex": "$\\displaystyle - 5^{x} + 2 x y^{2}$"
          },
          "metadata": {}
        }
      ],
      "source": [
        "# 심볼 x와 y 정의\n",
        "x, y = symbols('x y')\n",
        "\n",
        "# 식 정의: x와 y의 식인 x(2y^2 - 5^x/x)을 생성\n",
        "expr = x*(2*y**2 - 5**x/x)\n",
        "\n",
        "# 정의된 식을 화면에 출력\n",
        "display(expr)  # 식을 직접 보여줌\n",
        "\n",
        "# 정의된 식을 전개하여 화면에 출력\n",
        "display(expr.expand())  # 식을 전개하여 보여줌"
      ]
    },
    {
      "cell_type": "code",
      "execution_count": 112,
      "id": "6dc96fbc-cec5-4a06-b915-6bb18a226a29",
      "metadata": {
        "colab": {
          "base_uri": "https://localhost:8080/",
          "height": 137
        },
        "id": "6dc96fbc-cec5-4a06-b915-6bb18a226a29",
        "outputId": "58461e06-2c42-49df-abe5-5e4681daa5fd"
      },
      "outputs": [
        {
          "output_type": "display_data",
          "data": {
            "text/plain": [
              "(y + z)*((w*(4 - w) + w + 1 + w**(-2))**2 + 3/(w*(4 - w) + w + 1 + w**(-2)))*(w*(4 - w) + w + 1 + w**(-2))"
            ],
            "text/latex": "$\\displaystyle \\left(y + z\\right) \\left(\\left(w \\left(4 - w\\right) + w + 1 + \\frac{1}{w^{2}}\\right)^{2} + \\frac{3}{w \\left(4 - w\\right) + w + 1 + \\frac{1}{w^{2}}}\\right) \\left(w \\left(4 - w\\right) + w + 1 + \\frac{1}{w^{2}}\\right)$"
          },
          "metadata": {}
        },
        {
          "output_type": "display_data",
          "data": {
            "text/plain": [
              "(3*w**6 + (w**2*(-w*(w - 4) + w + 1) + 1)**3)*(y + z)/w**6"
            ],
            "text/latex": "$\\displaystyle \\frac{\\left(3 w^{6} + \\left(w^{2} \\left(- w \\left(w - 4\\right) + w + 1\\right) + 1\\right)^{3}\\right) \\left(y + z\\right)}{w^{6}}$"
          },
          "metadata": {}
        },
        {
          "output_type": "display_data",
          "data": {
            "text/plain": [
              "0"
            ],
            "text/latex": "$\\displaystyle 0$"
          },
          "metadata": {}
        }
      ],
      "source": [
        "# 심볼 x, y, z, w 정의\n",
        "x, y, z, w = symbols('x y z w')\n",
        "\n",
        "# 식 x 정의: w에 대한 다항식과 분수식의 조합\n",
        "x = w*(4-w) + 1/w**2 + (1+w)\n",
        "\n",
        "# 식 f1, f2 정의: x, y, z를 이용한 식\n",
        "f1 = x*(y+z)  # 식 f1: x와 (y+z)의 곱\n",
        "f2 = 3/x + x**2  # 식 f2: x에 대한 분수와 제곱의 합\n",
        "\n",
        "# f1과 f2의 곱을 화면에 출력\n",
        "display(f1*f2)  # f1과 f2의 곱을 직접 보여줌\n",
        "\n",
        "# f1과 f2의 곱을 간소화하여 화면에 출력\n",
        "display(simplify(f1*f2))  # f1과 f2의 곱을 간소화하여 보여줌\n",
        "\n",
        "# f1과 f2의 곱에서 f2와 f1의 곱을 뺀 결과를 간소화하여 화면에 출력\n",
        "# 이는 결합법칙에 따라 0이 됨을 확인하는 과정\n",
        "display(simplify(f1*f2 - f2*f1))  # f1*f2와 f2*f1의 차이를 간소화하여 보여줌"
      ]
    },
    {
      "cell_type": "markdown",
      "id": "97a0066d-9f63-43cb-9832-128a822192d9",
      "metadata": {
        "id": "97a0066d-9f63-43cb-9832-128a822192d9"
      },
      "source": [
        "### 소인수분해\n",
        "소인수분해(prime factorization)는 하나의 정수를 소수(prime numbers)의 곱으로 나타내는 과정입니다.  \n",
        "factorint 함수는 주어진 정수를 소인수분해하는 데 사용됩니다. 이 함수는 정수를 소인수로 분해하고, 각 소인수의 지수를 포함한 딕셔너리를 반환합니다."
      ]
    },
    {
      "cell_type": "code",
      "execution_count": 113,
      "id": "9b883392-e33d-46e0-97ea-b8d2df045a7b",
      "metadata": {
        "colab": {
          "base_uri": "https://localhost:8080/"
        },
        "id": "9b883392-e33d-46e0-97ea-b8d2df045a7b",
        "outputId": "07ac925c-e23c-4613-cab2-3128bbe9b379"
      },
      "outputs": [
        {
          "output_type": "execute_result",
          "data": {
            "text/plain": [
              "{2: 2, 3: 1, 5: 1}"
            ]
          },
          "metadata": {},
          "execution_count": 113
        }
      ],
      "source": [
        "# 60의 소인수분해는 2^2 + 3^1 + 5^1\n",
        "result = factorint(60)\n",
        "result"
      ]
    },
    {
      "cell_type": "code",
      "execution_count": 114,
      "id": "5d9f5c13-bed0-4543-ae5b-eb1ec89a6ebf",
      "metadata": {
        "colab": {
          "base_uri": "https://localhost:8080/",
          "height": 37
        },
        "id": "5d9f5c13-bed0-4543-ae5b-eb1ec89a6ebf",
        "outputId": "1173c389-d012-4b5a-8131-09ba1c777056"
      },
      "outputs": [
        {
          "output_type": "display_data",
          "data": {
            "text/plain": [
              "<IPython.core.display.Math object>"
            ],
            "text/latex": "$\\displaystyle 2^2\\times3^1\\times5^1$"
          },
          "metadata": {}
        }
      ],
      "source": [
        "from sympy import latex\n",
        "from IPython.display import Math\n",
        "\n",
        "# 위에서 얻은 result 딕셔너리를 사용하여 LaTeX 형식으로 출력\n",
        "latex_expression = '\\\\times'.join([f'{factor}^{exponent}' for factor, exponent in result.items()])\n",
        "\n",
        "display(Math(latex_expression))"
      ]
    },
    {
      "cell_type": "markdown",
      "id": "6edbf66c-2bfc-41dd-ac14-f40fb2b80457",
      "metadata": {
        "id": "6edbf66c-2bfc-41dd-ac14-f40fb2b80457"
      },
      "source": [
        "### 로그 표시\n",
        "$\\ln x - 3 \\ln y + 4 \\ln(z + 1)$을 단일 로그로 표현"
      ]
    },
    {
      "cell_type": "code",
      "source": [
        "from sympy import symbols, ln, logcombine\n",
        "\n",
        "# 변수 x, y, z를 양수로 정의\n",
        "x, y, z = symbols('x y z', positive=True)\n",
        "\n",
        "# 로그 표현식 정의\n",
        "k = ln(x) - 3*ln(y) + 4*ln(z + 1)\n",
        "print(k)"
      ],
      "metadata": {
        "colab": {
          "base_uri": "https://localhost:8080/"
        },
        "id": "Z-KPjXrpH58l",
        "outputId": "c1286f87-a768-4506-aace-ed929d2affb9"
      },
      "id": "Z-KPjXrpH58l",
      "execution_count": 115,
      "outputs": [
        {
          "output_type": "stream",
          "name": "stdout",
          "text": [
            "log(x) - 3*log(y) + 4*log(z + 1)\n"
          ]
        }
      ]
    },
    {
      "cell_type": "code",
      "execution_count": 116,
      "id": "93427377-7f5e-4d41-ab64-91e398d10685",
      "metadata": {
        "colab": {
          "base_uri": "https://localhost:8080/",
          "height": 68
        },
        "id": "93427377-7f5e-4d41-ab64-91e398d10685",
        "outputId": "45575f01-d660-46c9-b526-c1a9b8974a49"
      },
      "outputs": [
        {
          "output_type": "execute_result",
          "data": {
            "text/plain": [
              "log(x*(z + 1)**4/y**3)"
            ],
            "text/latex": "$\\displaystyle \\log{\\left(\\frac{x \\left(z + 1\\right)^{4}}{y^{3}} \\right)}$"
          },
          "metadata": {},
          "execution_count": 116
        }
      ],
      "source": [
        "# 로그 조합\n",
        "combined_log = logcombine(k)\n",
        "\n",
        "# 조합된 로그 표현식 출력\n",
        "combined_log"
      ]
    },
    {
      "cell_type": "code",
      "execution_count": 116,
      "id": "56ff70bc-235f-4c3c-bf70-cf8236cef73a",
      "metadata": {
        "id": "56ff70bc-235f-4c3c-bf70-cf8236cef73a"
      },
      "outputs": [],
      "source": []
    }
  ],
  "metadata": {
    "kernelspec": {
      "display_name": "Python 3 (ipykernel)",
      "language": "python",
      "name": "python3"
    },
    "language_info": {
      "codemirror_mode": {
        "name": "ipython",
        "version": 3
      },
      "file_extension": ".py",
      "mimetype": "text/x-python",
      "name": "python",
      "nbconvert_exporter": "python",
      "pygments_lexer": "ipython3",
      "version": "3.9.16"
    },
    "colab": {
      "provenance": []
    }
  },
  "nbformat": 4,
  "nbformat_minor": 5
}