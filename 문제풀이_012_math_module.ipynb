{
 "cells": [
  {
   "cell_type": "markdown",
   "id": "32649100-c016-4dfa-a89b-e16c83f42389",
   "metadata": {},
   "source": [
    "## 연습문제: 수학 함수와 상수 활용하기  \n",
    "Python의 math 모듈을 사용하여 다음 문제를 해결하세요.  \n",
    "\n",
    "제곱근 구하기: 숫자 25의 제곱근을 구하세요.  \n",
    "거듭제곱 계산하기: 5를 3번 거듭제곱한 값을 계산하세요.  \n",
    "지수 함수 값 구하기: e의 3승 값을 구하세요.  \n",
    "자연로그 계산하기: 숫자 10의 자연로그 값을 구하세요.  \n",
    "삼각 함수 계산하기: 30도(π/6 라디안)의 사인, 코사인, 탄젠트 값을 각각 구하세요.  \n",
    "팩토리얼 계산하기: 7의 팩토리얼 값을 구하세요.  \n",
    "상수 사용하기: math 모듈의 π와 e 값을 출력하고, 이를 사용하여 원의 둘레와 면적을 구하는 공식(반지름이 10인 원 기준)과 자연로그의 밑 e를 사용하여 $e^\\pi$ 값과 $\\pi^e$ 값을 각각 계산하세요.  \n",
    "각 문제에 대한 답을 구한 후, Python 코드를 작성하여 확인해보세요."
   ]
  },
  {
   "cell_type": "code",
   "execution_count": 4,
   "id": "74244e49-8206-4275-b9be-dbcc85f5e691",
   "metadata": {},
   "outputs": [
    {
     "data": {
      "text/plain": [
       "{'sqrt_example': 5.0,\n",
       " 'pow_example': 125.0,\n",
       " 'exp_example': 20.085536923187668,\n",
       " 'log_example': 2.302585092994046,\n",
       " 'sin_example': 0.49999999999999994,\n",
       " 'cos_example': 0.8660254037844387,\n",
       " 'tan_example': 0.5773502691896257,\n",
       " 'factorial_example': 5040,\n",
       " 'pi_value': 3.141592653589793,\n",
       " 'e_value': 2.718281828459045,\n",
       " 'circumference': 62.83185307179586,\n",
       " 'area': 314.1592653589793,\n",
       " 'e_pi': 23.140692632779267,\n",
       " 'pi_e': 22.45915771836104}"
      ]
     },
     "execution_count": 4,
     "metadata": {},
     "output_type": "execute_result"
    }
   ],
   "source": [
    "import math\n",
    "\n",
    "# 제곱근 구하기\n",
    "sqrt_example = math.sqrt(25)\n",
    "\n",
    "# 거듭제곱 계산하기\n",
    "pow_example = math.pow(5, 3)\n",
    "\n",
    "# 지수 함수 값 구하기\n",
    "exp_example = math.exp(3)\n",
    "\n",
    "# 자연로그 계산하기\n",
    "log_example = math.log(10)\n",
    "\n",
    "# 삼각 함수 계산하기: 30도(π/6 라디안)\n",
    "sin_example = math.sin(math.pi / 6)\n",
    "cos_example = math.cos(math.pi / 6)\n",
    "tan_example = math.tan(math.pi / 6)\n",
    "\n",
    "# 팩토리얼 계산하기\n",
    "factorial_example = math.factorial(7)\n",
    "\n",
    "# math 모듈의 π와 e 값을 출력\n",
    "pi_value = math.pi\n",
    "e_value = math.e\n",
    "\n",
    "# 원의 둘레와 면적 계산하기 (반지름이 10인 원 기준)\n",
    "circumference = 2 * math.pi * 10  # 원의 둘레\n",
    "area = math.pi * 10**2  # 원의 면적\n",
    "\n",
    "# e^π 값과 π^e 값을 계산하기\n",
    "e_pi = math.exp(math.pi)\n",
    "pi_e = math.pow(math.pi, math.e)\n",
    "\n",
    "{\n",
    "    \"sqrt_example\": sqrt_example,\n",
    "    \"pow_example\": pow_example,\n",
    "    \"exp_example\": exp_example,\n",
    "    \"log_example\": log_example,\n",
    "    \"sin_example\": sin_example,\n",
    "    \"cos_example\": cos_example,\n",
    "    \"tan_example\": tan_example,\n",
    "    \"factorial_example\": factorial_example,\n",
    "    \"pi_value\": pi_value,\n",
    "    \"e_value\": e_value,\n",
    "    \"circumference\": circumference,\n",
    "    \"area\": area,\n",
    "    \"e_pi\": e_pi,\n",
    "    \"pi_e\": pi_e\n",
    "}"
   ]
  },
  {
   "cell_type": "code",
   "execution_count": null,
   "id": "4c9264ee-0c3b-4dd0-be05-5a774982a6ee",
   "metadata": {},
   "outputs": [],
   "source": []
  }
 ],
 "metadata": {
  "kernelspec": {
   "display_name": "Python 3 (ipykernel)",
   "language": "python",
   "name": "python3"
  },
  "language_info": {
   "codemirror_mode": {
    "name": "ipython",
    "version": 3
   },
   "file_extension": ".py",
   "mimetype": "text/x-python",
   "name": "python",
   "nbconvert_exporter": "python",
   "pygments_lexer": "ipython3",
   "version": "3.9.16"
  }
 },
 "nbformat": 4,
 "nbformat_minor": 5
}
