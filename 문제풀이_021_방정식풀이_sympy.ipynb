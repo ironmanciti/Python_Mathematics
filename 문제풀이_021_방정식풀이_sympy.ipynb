{
 "cells": [
  {
   "cell_type": "markdown",
   "id": "5d832b7c-f0d9-4a15-84e2-b6bece24b872",
   "metadata": {
    "id": "5d832b7c-f0d9-4a15-84e2-b6bece24b872"
   },
   "source": [
    "## 연습 문제\n",
    "### (문제 1)\n",
    "$$3*q+\\frac{4}{q}+3 = 5*q + \\frac{1}{q} + 1$$\n",
    "- 이 방정식을 Sympy로 표현\n",
    "- Simplify\n",
    "- q에 관해 해를 구함"
   ]
  },
  {
   "cell_type": "code",
   "execution_count": 3,
   "id": "039bae3c-4140-4d02-8fe4-f1351561ebb0",
   "metadata": {},
   "outputs": [],
   "source": [
    "from IPython.display import Math\n",
    "from sympy import *"
   ]
  },
  {
   "cell_type": "markdown",
   "id": "45f8f6da-602f-4fd2-985b-cf7db2ab1efc",
   "metadata": {
    "id": "45f8f6da-602f-4fd2-985b-cf7db2ab1efc"
   },
   "source": [
    "**(방정식 풀이 과정)**\n",
    "\n",
    "1. **방정식 정의**:\n",
    "$3q + \\frac{4}{q} + 3 = 5q + \\frac{1}{q} + 1$\n",
    "\n",
    "3. **방정식 양변을 같은 형태로 정리**:\n",
    "   이 단계에서는 방정식을 간단하게 만들고, 모든 항을 한쪽으로 옮깁니다. 이를 위해 양변에서 $5q + \\frac{1}{q} + 1$을 뺍니다.\n",
    "\n",
    "4. **정리된 방정식**:\n",
    "$-2q + 2 + \\frac{3}{q} = 0$에서 양변에 $q$를 곱해 이차방정식의 표준 형태 $−2q^2+2q+3=0$로 만듭니다.\n",
    "\n",
    "5. 이제 이 방정식의 해를 구하기 위해 이차방정식의 근의 공식을 사용합니다:\n",
    "$q = \\frac{-b \\pm \\sqrt{b^2 - 4ac}}{2a}$\n",
    "여기서 $a = -2$, $b = 2$, 그리고 $c = 3$입니다.\n",
    "\n",
    "6. 근의 공식 적용:\n",
    "근의 공식에 값을 대입하여 $q$에 대한 해를 구합니다:\n",
    "\n",
    "    $q = \\frac{-2 \\pm \\sqrt{2^2 - 4(-2)(3)}}{2(-2)}$\n",
    "    $q = \\frac{-2 \\pm \\sqrt{4 + 24}}{-4}$  \n",
    "    $q = \\frac{-2 \\pm \\sqrt{28}}{-4}$  \n",
    "    $q = \\frac{-2 \\pm 2\\sqrt{7}}{-4}$\n",
    "\n",
    "6.이제 이 해를 단순화합니다:\n",
    "$q = \\frac{1}{2} \\pm \\frac{\\sqrt{7}}{2}$\n",
    "\n",
    "따라서, 최종 해는 다음과 같습니다:\n",
    "$q = \\left[ \\frac{1}{2} - \\frac{\\sqrt{7}}{2}, \\, \\frac{1}{2} + \\frac{\\sqrt{7}}{2} \\right]$"
   ]
  },
  {
   "cell_type": "code",
   "execution_count": 33,
   "id": "f0d44383-c22e-4db1-b5b6-4a46919fe641",
   "metadata": {},
   "outputs": [
    {
     "data": {
      "text/latex": [
       "$\\displaystyle - 2 q + 2 + \\frac{3}{q}$"
      ],
      "text/plain": [
       "-2*q + 2 + 3/q"
      ]
     },
     "metadata": {},
     "output_type": "display_data"
    },
    {
     "data": {
      "text/latex": [
       "$\\displaystyle q=\\left[ \\frac{1}{2} - \\frac{\\sqrt{7}}{2}, \\  \\frac{1}{2} + \\frac{\\sqrt{7}}{2}\\right]$"
      ],
      "text/plain": [
       "<IPython.core.display.Math object>"
      ]
     },
     "metadata": {},
     "output_type": "display_data"
    }
   ],
   "source": [
    "# 심볼 q 정의\n",
    "q = symbols('q')\n",
    "\n",
    "# 방정식 eq 정의\n",
    "eq = 3*q + 4/q + 3 - (5*q + 1/q + 1)\n",
    "\n",
    "# 정의된 방정식을 화면에 출력\n",
    "display(eq) \n",
    "\n",
    "# 방정식을 풀어서 q에 대한 해를 구하고, LaTeX 형식으로 변환하여 출력\n",
    "display(Math(\"q=\" + latex(solve(eq))))"
   ]
  },
  {
   "cell_type": "markdown",
   "id": "4a4fe8a0-4e97-43b2-948c-2e9dd5c2f9bd",
   "metadata": {
    "id": "4a4fe8a0-4e97-43b2-948c-2e9dd5c2f9bd"
   },
   "source": [
    "### (문제 2)\n",
    "$$2q + 3q^2 - \\frac{5}{q} - \\frac{4}{q^3}$$\n",
    "- 이 방정식을 Sympy로 표현\n",
    "- Simplify and cancel  \n",
    " simplify() 메소드는 수식을 가능한 가장 간단한 형태로 만들기 위해 여러 방법을 시도하고, cancel() 메소드는 수식의 분수 형태를 간단하게 만듭니다."
   ]
  },
  {
   "cell_type": "code",
   "execution_count": 32,
   "id": "65765b0b-c124-43d9-ae13-5ea7aa06cfc1",
   "metadata": {
    "id": "65765b0b-c124-43d9-ae13-5ea7aa06cfc1"
   },
   "outputs": [
    {
     "data": {
      "text/latex": [
       "$\\displaystyle 3 q^{2} + 2 q - \\frac{5}{q} - \\frac{4}{q^{3}}$"
      ],
      "text/plain": [
       "3*q**2 + 2*q - 5/q - 4/q**3"
      ]
     },
     "metadata": {},
     "output_type": "display_data"
    },
    {
     "data": {
      "text/latex": [
       "$\\displaystyle \\frac{3 q^{5} + 2 q^{4} - 5 q^{2} - 4}{q^{3}}$"
      ],
      "text/plain": [
       "(3*q**5 + 2*q**4 - 5*q**2 - 4)/q**3"
      ]
     },
     "metadata": {},
     "output_type": "display_data"
    }
   ],
   "source": [
    "# 심볼 q 정의\n",
    "q = symbols('q')\n",
    "\n",
    "# 방정식 eq 정의\n",
    "eq = 2*q + 3*q**2 - 5/q - 4/q**3\n",
    "\n",
    "# 정의된 방정식을 화면에 출력\n",
    "display(eq)\n",
    "\n",
    "# 방정식을 간소화하고, 분모를 통합하여 출력\n",
    "display(eq.simplify().cancel())  "
   ]
  },
  {
   "cell_type": "markdown",
   "id": "e99a951b-61ed-4bf6-b161-302a0a4b2673",
   "metadata": {
    "id": "e99a951b-61ed-4bf6-b161-302a0a4b2673"
   },
   "source": [
    "### (문제 3)\n",
    "$$\\frac{\\sqrt{3}+\\sqrt{15}q}{\\sqrt{2}+\\sqrt{10}q}$$\n",
    "- 이 방정식을 Sympy로 표현\n",
    "- Simplify and cancel\n",
    "- $q$를 임의의 실수로 대체"
   ]
  },
  {
   "cell_type": "markdown",
   "id": "1017cfad-69d8-4059-8e4c-d84b60a91fc5",
   "metadata": {
    "id": "1017cfad-69d8-4059-8e4c-d84b60a91fc5"
   },
   "source": [
    "(풀이 과정)\n",
    "$$\\frac{\\sqrt{3}+\\sqrt{15}q}{\\sqrt{2}+\\sqrt{10}q} = \\frac{\\sqrt{3}+\\sqrt{3}\\sqrt{5}q}{\\sqrt{2}+\\sqrt{2}\\sqrt{5}q}=\\frac{\\sqrt{3}(1+\\sqrt{5}q)}{\\sqrt{2}(1+\\sqrt{5}q)}=\\frac{\\sqrt{6}}{2}$$"
   ]
  },
  {
   "cell_type": "code",
   "execution_count": 31,
   "id": "d61dd55f-8c00-471c-b093-4c4da3f1d5af",
   "metadata": {},
   "outputs": [
    {
     "data": {
      "text/latex": [
       "$\\displaystyle \\frac{\\sqrt{15} q + \\sqrt{3}}{\\sqrt{10} q + \\sqrt{2}}$"
      ],
      "text/plain": [
       "(sqrt(15)*q + sqrt(3))/(sqrt(10)*q + sqrt(2))"
      ]
     },
     "metadata": {},
     "output_type": "display_data"
    },
    {
     "data": {
      "text/latex": [
       "$\\displaystyle \\frac{\\sqrt{6}}{2}$"
      ],
      "text/plain": [
       "sqrt(6)/2"
      ]
     },
     "metadata": {},
     "output_type": "display_data"
    }
   ],
   "source": [
    "# 심볼 q 정의\n",
    "q = symbols('q')\n",
    "\n",
    "# 방정식 eq 정의\n",
    "eq = (sqrt(3) + sqrt(15)*q) / (sqrt(2) + sqrt(10)*q)\n",
    "\n",
    "# 정의된 방정식을 화면에 출력\n",
    "display(eq)\n",
    "\n",
    "# 방정식을 간소화하고 출력\n",
    "# simplify() 메소드는 방정식 내의 표현을 간소화하며,\n",
    "# cancel() 메소드는 분수 형태의 방정식에서 가능한 분모와 분자를 약분합니다.\n",
    "simplified_eq = eq.simplify().cancel()\n",
    "\n",
    "# 간소화된 방정식 출력\n",
    "display(simplified_eq)"
   ]
  },
  {
   "cell_type": "code",
   "execution_count": 34,
   "id": "e9b0899b-faba-4456-a07b-a211c48c7f75",
   "metadata": {},
   "outputs": [
    {
     "data": {
      "text/latex": [
       "$\\displaystyle -17.7$"
      ],
      "text/plain": [
       "-17.7000000000000"
      ]
     },
     "metadata": {},
     "output_type": "display_data"
    }
   ],
   "source": [
    "# q에 10을 대입하고, 결과를 실수 형태로 평가\n",
    "evaluated_eq = eq.subs(q, 10).evalf()\n",
    "\n",
    "# 평가된 결과 출력\n",
    "display(evaluated_eq) "
   ]
  },
  {
   "cell_type": "markdown",
   "id": "91b1a763-bf36-4d3b-a68c-3b52cb7da2b9",
   "metadata": {
    "id": "91b1a763-bf36-4d3b-a68c-3b52cb7da2b9"
   },
   "source": [
    "### (문제 4) 지수 및 로그 방정식 풀기. $x$에 대해 각 방정식을 풀어보세요.\n",
    "(a) $e^{3x^2} = \\left(e^4\\right)^{4x + 3}$  \n",
    "(b) $\\ln(x + 1) - \\ln(x) = 1$"
   ]
  },
  {
   "cell_type": "code",
   "execution_count": 35,
   "id": "fd3495bb-7c98-4060-965d-1b606ac66469",
   "metadata": {
    "id": "fd3495bb-7c98-4060-965d-1b606ac66469"
   },
   "outputs": [
    {
     "data": {
      "text/latex": [
       "$\\displaystyle e^{3 x^{2}} = e^{16 x + 12}$"
      ],
      "text/plain": [
       "Eq(exp(3*x**2), exp(16*x + 12))"
      ]
     },
     "metadata": {},
     "output_type": "display_data"
    },
    {
     "data": {
      "text/latex": [
       "$\\displaystyle \\left\\{- \\frac{2}{3}, 6\\right\\}$"
      ],
      "text/plain": [
       "{-2/3, 6}"
      ]
     },
     "execution_count": 35,
     "metadata": {},
     "output_type": "execute_result"
    }
   ],
   "source": [
    "# 심볼 x 정의\n",
    "x = symbols('x')\n",
    "\n",
    "# 지수 함수를 포함하는 방정식 정의\n",
    "equation = Eq(exp(3*x**2), exp(4)**(4*x+3))\n",
    "\n",
    "# 방정식을 화면에 출력\n",
    "display(equation) \n",
    "\n",
    "# 방정식을 실수 범위 내에서 x에 대해 풀기\n",
    "solution = solveset(equation, x, domain=S.Reals)\n",
    "\n",
    "# 해를 화면에 출력\n",
    "solution "
   ]
  },
  {
   "cell_type": "code",
   "execution_count": 36,
   "id": "a61ee84b-c7f0-4275-b9b0-8423bacf2fb6",
   "metadata": {
    "id": "a61ee84b-c7f0-4275-b9b0-8423bacf2fb6"
   },
   "outputs": [
    {
     "data": {
      "text/latex": [
       "$\\displaystyle - \\log{\\left(x \\right)} + \\log{\\left(x + 1 \\right)} = 1$"
      ],
      "text/plain": [
       "Eq(-log(x) + log(x + 1), 1)"
      ]
     },
     "metadata": {},
     "output_type": "display_data"
    },
    {
     "data": {
      "text/latex": [
       "$\\displaystyle \\left\\{\\frac{1}{-1 + e}\\right\\}$"
      ],
      "text/plain": [
       "{1/(-1 + E)}"
      ]
     },
     "execution_count": 36,
     "metadata": {},
     "output_type": "execute_result"
    }
   ],
   "source": [
    "# 심볼 x 정의\n",
    "x = symbols('x')\n",
    "\n",
    "# 자연 로그를 포함하는 방정식 정의\n",
    "equation = Eq(ln(x+1) - ln(x), 1)\n",
    "\n",
    "# 방정식을 화면에 출력\n",
    "display(equation) \n",
    "\n",
    "# 방정식을 실수 범위 내에서 x에 대해 풀기\n",
    "solution = solveset(equation, x, domain=S.Reals)\n",
    "\n",
    "# 해를 화면에 출력\n",
    "solution  "
   ]
  },
  {
   "cell_type": "markdown",
   "id": "690641c2-3dcc-4b57-8fae-41baa7619fc3",
   "metadata": {
    "id": "690641c2-3dcc-4b57-8fae-41baa7619fc3"
   },
   "source": [
    "### 문제 5)\n",
    "함수 g(x)는 $g(x)=3^{kx}$의 형태를 가지고 있으며, 여기서 $k$는 상수입니다. 만약 $g(−4)=9$라면, $k$의 값은 얼마인가요?"
   ]
  },
  {
   "cell_type": "code",
   "execution_count": 23,
   "id": "582e4ac9-3f28-49cb-8486-9971d4c1a238",
   "metadata": {
    "id": "582e4ac9-3f28-49cb-8486-9971d4c1a238"
   },
   "outputs": [
    {
     "data": {
      "text/latex": [
       "$\\displaystyle 3^{- 4 k} = 9$"
      ],
      "text/plain": [
       "Eq(3**(-4*k), 9)"
      ]
     },
     "metadata": {},
     "output_type": "display_data"
    },
    {
     "data": {
      "text/latex": [
       "$\\displaystyle \\left\\{- \\frac{1}{2}\\right\\}$"
      ],
      "text/plain": [
       "{-1/2}"
      ]
     },
     "execution_count": 23,
     "metadata": {},
     "output_type": "execute_result"
    }
   ],
   "source": [
    "k = symbols('k')\n",
    "\n",
    "equation = Eq(3**(-4*k), 9, domain=S.Reals)\n",
    "display(equation)\n",
    "\n",
    "solveset(equation, domain=S.Reals)"
   ]
  },
  {
   "cell_type": "markdown",
   "id": "7162dd81-a4cf-4075-88b0-b42016d7ebc7",
   "metadata": {
    "id": "7162dd81-a4cf-4075-88b0-b42016d7ebc7"
   },
   "source": [
    "### 문제 6)\n",
    "서울의 인구 P는 $P(t)=9,000,000e^{0.01t}$ 함수로 제공됩니다. 여기서 t는 2000년 이후의 연수입니다.   \n",
    "(a) 함수 P(t)에 따르면 2010년 서울의 인구는 얼마입니까?  \n",
    "(b) 서울 인구가 1200만명에 도달하는 것은 언제 입니까 ?"
   ]
  },
  {
   "cell_type": "code",
   "execution_count": 24,
   "id": "39c7e084-d67e-4922-9437-324432d43d93",
   "metadata": {
    "id": "39c7e084-d67e-4922-9437-324432d43d93"
   },
   "outputs": [
    {
     "name": "stdout",
     "output_type": "stream",
     "text": [
      "9,946,538명\n"
     ]
    }
   ],
   "source": [
    "t = symbols('t')\n",
    "# 인구 방정식 p 저장\n",
    "pop = 9_000_000 * exp(0.01*t)\n",
    "# t에 10을 대입\n",
    "result = pop.subs(t, 10)\n",
    "print(f'{result:,.0f}명')"
   ]
  },
  {
   "cell_type": "code",
   "execution_count": 25,
   "id": "6020a1ae-9d74-452b-b3db-e5bdb5e73fd5",
   "metadata": {
    "id": "6020a1ae-9d74-452b-b3db-e5bdb5e73fd5"
   },
   "outputs": [
    {
     "data": {
      "text/latex": [
       "$\\displaystyle \\left\\{100.0 \\log{\\left(\\frac{4}{3} \\right)}\\right\\}$"
      ],
      "text/plain": [
       "{100.0*log(4/3)}"
      ]
     },
     "execution_count": 25,
     "metadata": {},
     "output_type": "execute_result"
    }
   ],
   "source": [
    "# pop이 12,000,000 일 때의 t 계산\n",
    "sol = solveset(Eq(pop, 12_000_000), t, domain=S.Reals)\n",
    "sol"
   ]
  },
  {
   "cell_type": "code",
   "execution_count": 26,
   "id": "4f8bb3e8-70c4-4ccc-827d-9d434207f5ae",
   "metadata": {
    "id": "4f8bb3e8-70c4-4ccc-827d-9d434207f5ae"
   },
   "outputs": [
    {
     "data": {
      "text/latex": [
       "$\\displaystyle 2028.76820724518$"
      ],
      "text/plain": [
       "2028.76820724518"
      ]
     },
     "execution_count": 26,
     "metadata": {},
     "output_type": "execute_result"
    }
   ],
   "source": [
    "list(sol.evalf())[0] + 2000"
   ]
  },
  {
   "cell_type": "markdown",
   "id": "9f528969-d863-44e4-8665-f8043c18b445",
   "metadata": {
    "id": "9f528969-d863-44e4-8665-f8043c18b445"
   },
   "source": [
    "&nbsp;"
   ]
  },
  {
   "cell_type": "code",
   "execution_count": null,
   "id": "17997f87-f720-48ce-9d22-6a27f03c0b10",
   "metadata": {
    "id": "17997f87-f720-48ce-9d22-6a27f03c0b10"
   },
   "outputs": [],
   "source": []
  }
 ],
 "metadata": {
  "colab": {
   "provenance": []
  },
  "kernelspec": {
   "display_name": "Python 3 (ipykernel)",
   "language": "python",
   "name": "python3"
  },
  "language_info": {
   "codemirror_mode": {
    "name": "ipython",
    "version": 3
   },
   "file_extension": ".py",
   "mimetype": "text/x-python",
   "name": "python",
   "nbconvert_exporter": "python",
   "pygments_lexer": "ipython3",
   "version": "3.9.16"
  }
 },
 "nbformat": 4,
 "nbformat_minor": 5
}
