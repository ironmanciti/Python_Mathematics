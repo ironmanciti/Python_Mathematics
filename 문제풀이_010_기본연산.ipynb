{
 "cells": [
  {
   "cell_type": "markdown",
   "id": "48bb07da-7ef2-4daf-882d-e7d563ce4e47",
   "metadata": {},
   "source": [
    "## 프로그램 실습\n",
    "-. 짝수 / 홀수 분류 함수\r\n",
    "   - 입력 받은 숫자가 짝수면 0, 홀수면 1을 반환\r\n",
    "   - 입력 받은 숫자 다음에 위치하는 5개의 짝수 혹은 혹수 숫자를 반환  \r\n",
    "     ex) even_odd(2) --> 0, (4, 6, 8, 10, 12)  \r\n",
    "         even_odd(1) --> 1, (3, 5, 7, 9, 11)"
   ]
  },
  {
   "cell_type": "code",
   "execution_count": 7,
   "id": "f3cff454-71a1-4c43-97e9-e7740217d145",
   "metadata": {},
   "outputs": [
    {
     "name": "stdout",
     "output_type": "stream",
     "text": [
      "(0, (4, 6, 8, 10, 12))\n",
      "(1, (5, 7, 9, 11, 13))\n"
     ]
    }
   ],
   "source": [
    "def even_odd(x):\n",
    "    if x % 2 == 0:  # 입력 받은 숫자가 짝수인 경우\n",
    "        return 0, tuple(range(x+2, x+12, 2))\n",
    "    else:  # 입력 받은 숫자가 홀수인 경우\n",
    "        return 1, tuple(range(x+2, x+12, 2))\n",
    "\n",
    "# 예시 실행\n",
    "print(even_odd(2))  # 짝수 예시\n",
    "print(even_odd(3))  # 홀수 예시"
   ]
  },
  {
   "cell_type": "code",
   "execution_count": null,
   "id": "2947528a-d8d8-4894-ba60-26c0970b08de",
   "metadata": {},
   "outputs": [],
   "source": []
  }
 ],
 "metadata": {
  "kernelspec": {
   "display_name": "Python 3 (ipykernel)",
   "language": "python",
   "name": "python3"
  },
  "language_info": {
   "codemirror_mode": {
    "name": "ipython",
    "version": 3
   },
   "file_extension": ".py",
   "mimetype": "text/x-python",
   "name": "python",
   "nbconvert_exporter": "python",
   "pygments_lexer": "ipython3",
   "version": "3.9.16"
  }
 },
 "nbformat": 4,
 "nbformat_minor": 5
}
