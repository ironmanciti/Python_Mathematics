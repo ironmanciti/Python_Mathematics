{
 "cells": [
  {
   "cell_type": "markdown",
   "id": "4350c1ae-5fa3-4e45-9aef-ee3b0eb9892b",
   "metadata": {},
   "source": [
    "# SymPy를 이용한 방정식 풀이"
   ]
  },
  {
   "cell_type": "code",
   "execution_count": 69,
   "id": "0fd52286-2859-40c1-959a-4f5e181b525d",
   "metadata": {},
   "outputs": [],
   "source": [
    "from sympy import *\n",
    "from IPython.display import Math"
   ]
  },
  {
   "cell_type": "markdown",
   "id": "742e9f50-7dd4-47c9-8de1-d76ed399d5e0",
   "metadata": {},
   "source": [
    "## solve를 이용한 방정식 풀이\n",
    "1원 1차 방정식 $2*x + 4 = 9$를 sympy를 이용하여 풀이"
   ]
  },
  {
   "cell_type": "code",
   "execution_count": 70,
   "id": "36c65334-092f-4dc0-a666-b8dbddc9edd7",
   "metadata": {},
   "outputs": [
    {
     "data": {
      "text/latex": [
       "$\\displaystyle 2 x - 5$"
      ],
      "text/plain": [
       "2*x - 5"
      ]
     },
     "metadata": {},
     "output_type": "display_data"
    },
    {
     "data": {
      "text/plain": [
       "[5/2]"
      ]
     },
     "execution_count": 70,
     "metadata": {},
     "output_type": "execute_result"
    }
   ],
   "source": [
    "from sympy import symbols, solve\n",
    "\n",
    "x = symbols('x')\n",
    "\n",
    "# 표현식 정의: 2x + 4 - 9\n",
    "expr = 2*x + 4 - 9\n",
    "\n",
    "display(expr)\n",
    "\n",
    "# 표현식 풀기\n",
    "solution = solve(expr)\n",
    "solution"
   ]
  },
  {
   "cell_type": "code",
   "execution_count": 71,
   "id": "a9071cd9-e567-4e4f-9ae9-f2ee4bfbfd97",
   "metadata": {},
   "outputs": [
    {
     "data": {
      "text/latex": [
       "$\\displaystyle \\text{방정식 } 2*x - 5 \\text{의 해는 } 2.5 \\text{입니다}$"
      ],
      "text/plain": [
       "<IPython.core.display.Math object>"
      ]
     },
     "metadata": {},
     "output_type": "display_data"
    }
   ],
   "source": [
    "display(Math(\"\\\\text{방정식 } %s \\\\text{의 해는 } %g \\\\text{입니다}\" % (expr, solution[0])))"
   ]
  },
  {
   "cell_type": "code",
   "execution_count": 73,
   "id": "cfeb0c4e-7942-4606-95c1-45be21875233",
   "metadata": {},
   "outputs": [
    {
     "data": {
      "text/latex": [
       "$\\displaystyle 2*x - 5 \\Rightarrow [5/2]$"
      ],
      "text/plain": [
       "<IPython.core.display.Math object>"
      ]
     },
     "metadata": {},
     "output_type": "display_data"
    }
   ],
   "source": [
    "display(Math(f\"{expr} \\\\Rightarrow {solution}\"))"
   ]
  },
  {
   "cell_type": "markdown",
   "id": "84c5cb59-ae68-42c9-9578-62267b61e867",
   "metadata": {},
   "source": [
    "## solveset 함수를 이용한 방정식 풀이\n",
    "변수 x에 대한 방정식을 풀기 위해 SymPy 함수solvet(equation, x)를 사용합니다. solveset 함수는 방정식의 해집합을 반환합니다."
   ]
  },
  {
   "cell_type": "code",
   "execution_count": 91,
   "id": "0d0ccb3b-a524-4bc8-b971-985d842b666a",
   "metadata": {},
   "outputs": [
    {
     "data": {
      "text/latex": [
       "$\\displaystyle 5 x + 3 = 1$"
      ],
      "text/plain": [
       "Eq(5*x + 3, 1)"
      ]
     },
     "metadata": {},
     "output_type": "display_data"
    },
    {
     "data": {
      "text/latex": [
       "$\\displaystyle \\left\\{- \\frac{2}{5}\\right\\}$"
      ],
      "text/plain": [
       "{-2/5}"
      ]
     },
     "execution_count": 91,
     "metadata": {},
     "output_type": "execute_result"
    }
   ],
   "source": [
    "# 방정식 5x + 3 = 1 \n",
    "x = symbols('x')\n",
    "equation = Eq(5*x + 3, 1)\n",
    "display(equation)\n",
    "solveset(equation, x)"
   ]
  },
  {
   "cell_type": "markdown",
   "id": "7aa3256e-e34b-473e-9812-a5aa7eb9bff4",
   "metadata": {},
   "source": [
    "SymPy는 일반적으로 기호를 복소수라고 가정합니다. 이러한 이유로 SymPy에서 지수 또는 로그 방정식을 풀면 이상해 보이는 결과가 나올 수 있습니다.\n",
    "\n",
    "예를 들어, 다음 방정식 $2^x = 8$을 고려해보세요."
   ]
  },
  {
   "cell_type": "code",
   "execution_count": 92,
   "id": "b90fdd37-6e2e-4a7a-b2dc-3ff2424ad41b",
   "metadata": {},
   "outputs": [
    {
     "data": {
      "text/latex": [
       "$\\displaystyle \\left\\{x\\; \\middle|\\; x \\in \\mathbb{C} \\wedge 2^{x} - 8 = 0 \\right\\}$"
      ],
      "text/plain": [
       "ConditionSet(x, Eq(2**x - 8, 0), Complexes)"
      ]
     },
     "execution_count": 92,
     "metadata": {},
     "output_type": "execute_result"
    }
   ],
   "source": [
    "x = symbols('x')\n",
    "\n",
    "solveset(Eq(2**x, 8), x)"
   ]
  },
  {
   "cell_type": "markdown",
   "id": "73255b0a-53a5-42ca-b4bf-b4514a355935",
   "metadata": {},
   "source": [
    "이런 일이 발생하지 않도록 솔루션 x의 정의역을 실수로만 설정할 수 있습니다. domain = S.Reals 인수를solvet()에 추가하여 이를 해결합니다."
   ]
  },
  {
   "cell_type": "code",
   "execution_count": 93,
   "id": "6bee2d8a-97bc-4f96-a9a5-1511022f665a",
   "metadata": {},
   "outputs": [
    {
     "data": {
      "text/latex": [
       "$\\displaystyle \\left\\{3\\right\\}$"
      ],
      "text/plain": [
       "{3}"
      ]
     },
     "execution_count": 93,
     "metadata": {},
     "output_type": "execute_result"
    }
   ],
   "source": [
    "x = symbols('x')\n",
    "\n",
    "solveset(Eq(2**x, 8), x, domain = S.Reals)"
   ]
  },
  {
   "cell_type": "markdown",
   "id": "5d832b7c-f0d9-4a15-84e2-b6bece24b872",
   "metadata": {},
   "source": [
    "## 연습 문제\n",
    "### (문제 1)\n",
    "$$3*q+\\frac{4}{q}+3 = 5*q + \\frac{1}{q} + 1$$\n",
    "- 이 방정식을 Sympy로 표현\n",
    "- Simplify\n",
    "- q에 관해 해를 구함"
   ]
  },
  {
   "cell_type": "code",
   "execution_count": 24,
   "id": "b2fb91d4-7b08-441e-bb60-31b6c3dc2c80",
   "metadata": {},
   "outputs": [
    {
     "data": {
      "text/latex": [
       "$\\displaystyle - 2 q + 2 + \\frac{3}{q}$"
      ],
      "text/plain": [
       "-2*q + 2 + 3/q"
      ]
     },
     "metadata": {},
     "output_type": "display_data"
    },
    {
     "data": {
      "text/latex": [
       "$\\displaystyle q=\\left[ \\frac{1}{2} - \\frac{\\sqrt{7}}{2}, \\  \\frac{1}{2} + \\frac{\\sqrt{7}}{2}\\right]$"
      ],
      "text/plain": [
       "<IPython.core.display.Math object>"
      ]
     },
     "metadata": {},
     "output_type": "display_data"
    }
   ],
   "source": [
    "q = symbols('q')\n",
    "eq = 3*q+4/q+3 - (5*q+1/q+1)\n",
    "display(eq)\n",
    "display(Math(\"q=\" + latex(solve(eq))))"
   ]
  },
  {
   "cell_type": "markdown",
   "id": "45f8f6da-602f-4fd2-985b-cf7db2ab1efc",
   "metadata": {},
   "source": [
    "**(방정식 풀이 과정)**\n",
    "\n",
    "1. **방정식 정의**:\n",
    "$3q + \\frac{4}{q} + 3 = 5q + \\frac{1}{q} + 1$\n",
    "\n",
    "3. **방정식 양변을 같은 형태로 정리**:\n",
    "   이 단계에서는 방정식을 간단하게 만들고, 모든 항을 한쪽으로 옮깁니다. 이를 위해 양변에서 $5q + \\frac{1}{q} + 1$을 뺍니다.\n",
    "\n",
    "4. **정리된 방정식**:\n",
    "$-2q + 2 + \\frac{3}{q} = 0$에서 양변에 $q$를 곱해 이차방정식의 표준 형태 $−2q^2+2q+3=0$로 만듭니다.\n",
    "\n",
    "5. 이제 이 방정식의 해를 구하기 위해 이차방정식의 근의 공식을 사용합니다:\n",
    "$q = \\frac{-b \\pm \\sqrt{b^2 - 4ac}}{2a}$\n",
    "여기서 $a = -2$, $b = 2$, 그리고 $c = 3$입니다.\n",
    "\n",
    "6. 근의 공식 적용:\n",
    "근의 공식에 값을 대입하여 $q$에 대한 해를 구합니다:\n",
    "\n",
    "    $q = \\frac{-2 \\pm \\sqrt{2^2 - 4(-2)(3)}}{2(-2)}$\n",
    "    $q = \\frac{-2 \\pm \\sqrt{4 + 24}}{-4}$  \n",
    "    $q = \\frac{-2 \\pm \\sqrt{28}}{-4}$  \n",
    "    $q = \\frac{-2 \\pm 2\\sqrt{7}}{-4}$\n",
    "\n",
    "6.이제 이 해를 단순화합니다:\n",
    "$q = \\frac{1}{2} \\pm \\frac{\\sqrt{7}}{2}$\n",
    "\n",
    "따라서, 최종 해는 다음과 같습니다:\n",
    "$q = \\left[ \\frac{1}{2} - \\frac{\\sqrt{7}}{2}, \\, \\frac{1}{2} + \\frac{\\sqrt{7}}{2} \\right]$"
   ]
  },
  {
   "cell_type": "markdown",
   "id": "4a4fe8a0-4e97-43b2-948c-2e9dd5c2f9bd",
   "metadata": {},
   "source": [
    "### (문제 2)\n",
    "$$2q + 3q^2 - \\frac{5}{q} - \\frac{4}{q^3}$$\n",
    "- 이 방정식을 Sympy로 표현\n",
    "- Simplify and cancel"
   ]
  },
  {
   "cell_type": "code",
   "execution_count": 36,
   "id": "65765b0b-c124-43d9-ae13-5ea7aa06cfc1",
   "metadata": {},
   "outputs": [
    {
     "data": {
      "text/latex": [
       "$\\displaystyle 3 q^{2} + 2 q - \\frac{5}{q} - \\frac{4}{q^{3}}$"
      ],
      "text/plain": [
       "3*q**2 + 2*q - 5/q - 4/q**3"
      ]
     },
     "metadata": {},
     "output_type": "display_data"
    },
    {
     "data": {
      "text/latex": [
       "$\\displaystyle \\frac{3 q^{5} + 2 q^{4} - 5 q^{2} - 4}{q^{3}}$"
      ],
      "text/plain": [
       "(3*q**5 + 2*q**4 - 5*q**2 - 4)/q**3"
      ]
     },
     "metadata": {},
     "output_type": "display_data"
    }
   ],
   "source": [
    "eq = 2*q + 3*q**2 - 5/q - 4/q**3\n",
    "display(eq)\n",
    "display(eq.simplify().cancel())"
   ]
  },
  {
   "cell_type": "markdown",
   "id": "e99a951b-61ed-4bf6-b161-302a0a4b2673",
   "metadata": {},
   "source": [
    "### (문제 3)\n",
    "$$\\frac{\\sqrt{3}+\\sqrt{15}q}{\\sqrt{2}+\\sqrt{10}q}$$\n",
    "- 이 방정식을 Sympy로 표현\n",
    "- Simplify and cancel\n",
    "- $q$를 임의의 실수로 대체"
   ]
  },
  {
   "cell_type": "code",
   "execution_count": 41,
   "id": "e5b5e06c-852c-45cc-84cc-a7755a19b033",
   "metadata": {},
   "outputs": [
    {
     "data": {
      "text/latex": [
       "$\\displaystyle \\frac{\\sqrt{15} q + \\sqrt{3}}{\\sqrt{10} q + \\sqrt{2}}$"
      ],
      "text/plain": [
       "(sqrt(15)*q + sqrt(3))/(sqrt(10)*q + sqrt(2))"
      ]
     },
     "metadata": {},
     "output_type": "display_data"
    },
    {
     "data": {
      "text/latex": [
       "$\\displaystyle \\frac{\\sqrt{6}}{2}$"
      ],
      "text/plain": [
       "sqrt(6)/2"
      ]
     },
     "execution_count": 41,
     "metadata": {},
     "output_type": "execute_result"
    }
   ],
   "source": [
    "eq = (sqrt(3)+sqrt(15)*q) / (sqrt(2)+sqrt(10)*q)\n",
    "display(eq)\n",
    "eq.simplify().cancel()"
   ]
  },
  {
   "cell_type": "code",
   "execution_count": 43,
   "id": "75daa8ae-d7dd-48f3-8251-0cf57de60dcb",
   "metadata": {},
   "outputs": [
    {
     "data": {
      "text/latex": [
       "$\\displaystyle 1.22474487139159$"
      ],
      "text/plain": [
       "1.22474487139159"
      ]
     },
     "execution_count": 43,
     "metadata": {},
     "output_type": "execute_result"
    }
   ],
   "source": [
    "eq.subs(q, 10).evalf()"
   ]
  },
  {
   "cell_type": "markdown",
   "id": "1017cfad-69d8-4059-8e4c-d84b60a91fc5",
   "metadata": {},
   "source": [
    "(풀이 과정)\n",
    "$$\\frac{\\sqrt{3}+\\sqrt{15}q}{\\sqrt{2}+\\sqrt{10}q} = \\frac{\\sqrt{3}+\\sqrt{3}\\sqrt{5}q}{\\sqrt{2}+\\sqrt{2}\\sqrt{5}q}=\\frac{\\sqrt{3}(1+\\sqrt{5}q)}{\\sqrt{2}(1+\\sqrt{5}q)}=\\frac{\\sqrt{6}}{2}$$"
   ]
  },
  {
   "cell_type": "markdown",
   "id": "8015502d-69ca-48e5-8eb2-07f6079d393d",
   "metadata": {},
   "source": [
    "&nbsp;"
   ]
  },
  {
   "cell_type": "markdown",
   "id": "91b1a763-bf36-4d3b-a68c-3b52cb7da2b9",
   "metadata": {},
   "source": [
    "### (문제 4) 지수 및 로그 방정식 풀기. $x$에 대해 각 방정식을 풀어보세요.\n",
    "(a) $e^{3x^2} = \\left(e^4\\right)^{4x + 3}$  \n",
    "(b) $\\ln(x + 1) - \\ln(x) = 1$"
   ]
  },
  {
   "cell_type": "code",
   "execution_count": 95,
   "id": "fd3495bb-7c98-4060-965d-1b606ac66469",
   "metadata": {},
   "outputs": [
    {
     "data": {
      "text/latex": [
       "$\\displaystyle e^{3 x^{2}} = e^{16 x + 12}$"
      ],
      "text/plain": [
       "Eq(exp(3*x**2), exp(16*x + 12))"
      ]
     },
     "metadata": {},
     "output_type": "display_data"
    },
    {
     "data": {
      "text/latex": [
       "$\\displaystyle \\left\\{- \\frac{2}{3}, 6\\right\\}$"
      ],
      "text/plain": [
       "{-2/3, 6}"
      ]
     },
     "execution_count": 95,
     "metadata": {},
     "output_type": "execute_result"
    }
   ],
   "source": [
    "from sympy import exp, ln\n",
    "\n",
    "x = symbols('x')\n",
    "equation = Eq(exp(3*x**2), exp(4)**(4*x+3))\n",
    "display(equation)\n",
    "\n",
    "solveset(equation, x, domain=S.Reals)"
   ]
  },
  {
   "cell_type": "code",
   "execution_count": 96,
   "id": "a61ee84b-c7f0-4275-b9b0-8423bacf2fb6",
   "metadata": {},
   "outputs": [
    {
     "data": {
      "text/latex": [
       "$\\displaystyle - \\log{\\left(x \\right)} + \\log{\\left(x + 1 \\right)} = 1$"
      ],
      "text/plain": [
       "Eq(-log(x) + log(x + 1), 1)"
      ]
     },
     "metadata": {},
     "output_type": "display_data"
    },
    {
     "data": {
      "text/latex": [
       "$\\displaystyle \\left\\{\\frac{1}{-1 + e}\\right\\}$"
      ],
      "text/plain": [
       "{1/(-1 + E)}"
      ]
     },
     "execution_count": 96,
     "metadata": {},
     "output_type": "execute_result"
    }
   ],
   "source": [
    "equation = Eq(ln(x+1) - ln(x), 1)\n",
    "display(equation)\n",
    "\n",
    "solveset(equation, x, domain=S.Reals)"
   ]
  },
  {
   "cell_type": "markdown",
   "id": "690641c2-3dcc-4b57-8fae-41baa7619fc3",
   "metadata": {},
   "source": [
    "### 문제 5) \n",
    "함수 g(x)는 $g(x)=3^{kx}$의 형태를 가지고 있으며, 여기서 $k$는 상수입니다. 만약 $g(−4)=9$라면, $k$의 값은 얼마인가요?"
   ]
  },
  {
   "cell_type": "code",
   "execution_count": 97,
   "id": "582e4ac9-3f28-49cb-8486-9971d4c1a238",
   "metadata": {},
   "outputs": [
    {
     "data": {
      "text/latex": [
       "$\\displaystyle 3^{- 4 k} = 9$"
      ],
      "text/plain": [
       "Eq(3**(-4*k), 9)"
      ]
     },
     "metadata": {},
     "output_type": "display_data"
    },
    {
     "data": {
      "text/latex": [
       "$\\displaystyle \\left\\{- \\frac{1}{2}\\right\\}$"
      ],
      "text/plain": [
       "{-1/2}"
      ]
     },
     "execution_count": 97,
     "metadata": {},
     "output_type": "execute_result"
    }
   ],
   "source": [
    "k = symbols('k')\n",
    "\n",
    "equation = Eq(3**(-4*k), 9, domain=S.Reals)\n",
    "display(equation)\n",
    "\n",
    "solveset(equation, domain=S.Reals)"
   ]
  },
  {
   "cell_type": "markdown",
   "id": "7162dd81-a4cf-4075-88b0-b42016d7ebc7",
   "metadata": {},
   "source": [
    "### 문제 7) \n",
    "서울의 인구 P는 $P(t)=9,000,000e^{0.01t}$ 함수로 제공됩니다. 여기서 t는 2000년 이후의 연수입니다.   \n",
    "(a) 함수 P(t)에 따르면 2010년 서울의 인구는 얼마입니까?  \n",
    "(b) 서울 인구가 1200만명에 도달하는 것은 언제 입니까 ?"
   ]
  },
  {
   "cell_type": "code",
   "execution_count": 98,
   "id": "39c7e084-d67e-4922-9437-324432d43d93",
   "metadata": {},
   "outputs": [
    {
     "name": "stdout",
     "output_type": "stream",
     "text": [
      "9,946,538명\n"
     ]
    }
   ],
   "source": [
    "t = symbols('t')\n",
    "# 인구 방정식 p 저장\n",
    "pop = 9_000_000 * exp(0.01*t)\n",
    "# t에 10을 대입\n",
    "result = pop.subs(t, 10)\n",
    "print(f'{result:,.0f}명')"
   ]
  },
  {
   "cell_type": "code",
   "execution_count": 99,
   "id": "6020a1ae-9d74-452b-b3db-e5bdb5e73fd5",
   "metadata": {},
   "outputs": [
    {
     "data": {
      "text/latex": [
       "$\\displaystyle \\left\\{100.0 \\log{\\left(\\frac{4}{3} \\right)}\\right\\}$"
      ],
      "text/plain": [
       "{100.0*log(4/3)}"
      ]
     },
     "execution_count": 99,
     "metadata": {},
     "output_type": "execute_result"
    }
   ],
   "source": [
    "# pop이 12,000,000 일 때의 t 계산\n",
    "sol = solveset(Eq(pop, 12_000_000), t, domain=S.Reals)\n",
    "sol"
   ]
  },
  {
   "cell_type": "code",
   "execution_count": 100,
   "id": "4f8bb3e8-70c4-4ccc-827d-9d434207f5ae",
   "metadata": {},
   "outputs": [
    {
     "data": {
      "text/latex": [
       "$\\displaystyle 2028.76820724518$"
      ],
      "text/plain": [
       "2028.76820724518"
      ]
     },
     "execution_count": 100,
     "metadata": {},
     "output_type": "execute_result"
    }
   ],
   "source": [
    "list(sol.evalf())[0] + 2000"
   ]
  },
  {
   "cell_type": "markdown",
   "id": "9f528969-d863-44e4-8665-f8043c18b445",
   "metadata": {},
   "source": [
    "&nbsp;"
   ]
  },
  {
   "cell_type": "markdown",
   "id": "fddca7dd-fbd4-4ec7-9c55-d89f0668b4b3",
   "metadata": {},
   "source": [
    "## 부등식"
   ]
  },
  {
   "cell_type": "markdown",
   "id": "df75bdd0-9390-413e-9088-048eb16a5145",
   "metadata": {},
   "source": [
    "부등식 `4x > 8`을 푸는 과정을 LaTeX 코드로 나타내면 다음과 같습니다:\n",
    "\n",
    "1. **부등식 간소화**:\n",
    "   양변을 4로 나누어 간소화합니다:\n",
    "   $\\frac{4x}{4} > \\frac{8}{4}$\n",
    "\n",
    "3. **부등식의 해 구하기**:\n",
    "   간소화된 부등식은 $x > 2$ 입니다.\n",
    "\n",
    "따라서, 부등식 $4x > 8$의 해는 $x > 2$입니다. 이는 $x$가 2보다 클 때, 부등식이 만족된다는 것을 의미합니다. "
   ]
  },
  {
   "cell_type": "code",
   "execution_count": 81,
   "id": "5a3f9e27-5f5d-40f9-a4a5-c4f6ffb1def3",
   "metadata": {},
   "outputs": [
    {
     "data": {
      "text/latex": [
       "$\\displaystyle 2 < x \\wedge x < \\infty$"
      ],
      "text/plain": [
       "(2 < x) & (x < oo)"
      ]
     },
     "execution_count": 81,
     "metadata": {},
     "output_type": "execute_result"
    }
   ],
   "source": [
    "x = symbols('x')\n",
    "expr = 4*x > 8\n",
    "solve(expr)"
   ]
  },
  {
   "cell_type": "code",
   "execution_count": 80,
   "id": "977d8e4f-b830-4d90-9b76-82d8585ba445",
   "metadata": {},
   "outputs": [
    {
     "data": {
      "text/latex": [
       "$\\displaystyle \\text{True}$"
      ],
      "text/plain": [
       "True"
      ]
     },
     "execution_count": 80,
     "metadata": {},
     "output_type": "execute_result"
    }
   ],
   "source": [
    "oo > 999999999999999999999999"
   ]
  },
  {
   "cell_type": "code",
   "execution_count": 82,
   "id": "85bde2ca-4ba1-4011-858e-b39e8ad56c35",
   "metadata": {},
   "outputs": [
    {
     "data": {
      "text/latex": [
       "$\\displaystyle \\left(-\\infty < x \\wedge x < -3\\right) \\vee \\left(1 < x \\wedge x < \\infty\\right)$"
      ],
      "text/plain": [
       "((-oo < x) & (x < -3)) | ((1 < x) & (x < oo))"
      ]
     },
     "execution_count": 82,
     "metadata": {},
     "output_type": "execute_result"
    }
   ],
   "source": [
    "expr = (x-1)*(x+3) > 0\n",
    "solve(expr)"
   ]
  },
  {
   "cell_type": "code",
   "execution_count": 83,
   "id": "62d28d40-0e82-4161-b4c8-2b084fe8f31f",
   "metadata": {},
   "outputs": [
    {
     "data": {
      "text/latex": [
       "$\\displaystyle a x > \\frac{b^{2}}{c}$"
      ],
      "text/plain": [
       "a*x > b**2/c"
      ]
     },
     "metadata": {},
     "output_type": "display_data"
    }
   ],
   "source": [
    "a, b, c = symbols('a b c')\n",
    "expr = a*x > b**2/c\n",
    "display(expr)"
   ]
  },
  {
   "cell_type": "code",
   "execution_count": null,
   "id": "17997f87-f720-48ce-9d22-6a27f03c0b10",
   "metadata": {},
   "outputs": [],
   "source": []
  }
 ],
 "metadata": {
  "kernelspec": {
   "display_name": "Python 3 (ipykernel)",
   "language": "python",
   "name": "python3"
  },
  "language_info": {
   "codemirror_mode": {
    "name": "ipython",
    "version": 3
   },
   "file_extension": ".py",
   "mimetype": "text/x-python",
   "name": "python",
   "nbconvert_exporter": "python",
   "pygments_lexer": "ipython3",
   "version": "3.9.16"
  }
 },
 "nbformat": 4,
 "nbformat_minor": 5
}
