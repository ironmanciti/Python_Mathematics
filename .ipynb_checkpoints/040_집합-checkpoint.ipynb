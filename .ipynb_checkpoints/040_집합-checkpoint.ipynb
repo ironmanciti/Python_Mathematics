{
 "cells": [
  {
   "cell_type": "markdown",
   "id": "0622b1f7",
   "metadata": {},
   "source": [
    "# 집합 (set)\n",
    "집합은 서로 구별 가능한 객체들의 모임입니다. 이 객체들을 집합의 '원소' 또는 '멤버'라고 부릅니다. 집합은 일반적으로 중괄호 {}를 사용하여 표현하며, 원소들은 쉼표로 구분됩니다. 예를 들어, {1, 2, 3}은 1, 2, 3을 원소로 갖는 집합입니다.\n",
    "\n",
    "집합의 특징은 다음과 같습니다:\n",
    "\n",
    "순서가 없음: 집합 내의 원소들은 순서를 갖지 않습니다. 예를 들어, {1, 2, 3}과 {3, 2, 1}은 동일한 집합입니다.\n",
    "\n",
    "중복이 없음: 집합은 같은 원소를 두 번 이상 포함하지 않습니다. 예를 들어, {1, 2, 2, 3}는 {1, 2, 3}과 동일한 집합입니다.\n",
    "\n",
    "집합은 수학의 여러 분야에서 기본적인 개념으로 사용되며, 집합론은 수학의 여러 분야에 걸쳐 광범위하게 응용됩니다. 집합을 사용하여 교집합, 합집합, 차집합, 여집합 등 다양한 연산을 정의할 수 있습니다."
   ]
  },
  {
   "cell_type": "markdown",
   "id": "80d0a671",
   "metadata": {},
   "source": [
    "## 집합 생성"
   ]
  },
  {
   "cell_type": "markdown",
   "id": "8b7cb02c",
   "metadata": {},
   "source": [
    "- `set` 내장 함수를 이용한 집합 생성"
   ]
  },
  {
   "cell_type": "code",
   "execution_count": 1,
   "id": "ca2367c3",
   "metadata": {},
   "outputs": [
    {
     "data": {
      "text/plain": [
       "{1, 1.5, 3, 4}"
      ]
     },
     "execution_count": 1,
     "metadata": {},
     "output_type": "execute_result"
    }
   ],
   "source": [
    "s1 = set([1, 1.5, 3, 4])\n",
    "s1"
   ]
  },
  {
   "cell_type": "markdown",
   "id": "5b24aad2",
   "metadata": {},
   "source": [
    "- `{}`를 이용한 집합 생성"
   ]
  },
  {
   "cell_type": "code",
   "execution_count": 2,
   "id": "14d48300",
   "metadata": {},
   "outputs": [
    {
     "data": {
      "text/plain": [
       "{'a', 'b', 'c'}"
      ]
     },
     "execution_count": 2,
     "metadata": {},
     "output_type": "execute_result"
    }
   ],
   "source": [
    "s2 = {'a', 'b', 'c'}\n",
    "s2"
   ]
  },
  {
   "cell_type": "markdown",
   "id": "359557ec",
   "metadata": {},
   "source": [
    "- 집합의 카디널리티(cardinality) - 집합 구성원의 수"
   ]
  },
  {
   "cell_type": "code",
   "execution_count": 3,
   "id": "b619d5cd",
   "metadata": {},
   "outputs": [
    {
     "data": {
      "text/plain": [
       "4"
      ]
     },
     "execution_count": 3,
     "metadata": {},
     "output_type": "execute_result"
    }
   ],
   "source": [
    "len(s1)"
   ]
  },
  {
   "cell_type": "markdown",
   "id": "6c51a9f3",
   "metadata": {},
   "source": [
    "- 대상 집합에 숫자가 존재하는지 여부 확인"
   ]
  },
  {
   "cell_type": "code",
   "execution_count": 4,
   "id": "5162c9bd",
   "metadata": {},
   "outputs": [
    {
     "data": {
      "text/plain": [
       "False"
      ]
     },
     "execution_count": 4,
     "metadata": {},
     "output_type": "execute_result"
    }
   ],
   "source": [
    "5 in s1"
   ]
  },
  {
   "cell_type": "markdown",
   "id": "68626043",
   "metadata": {},
   "source": [
    "- 집합은 구성원의 중복을 무시한다."
   ]
  },
  {
   "cell_type": "code",
   "execution_count": 5,
   "id": "06129115",
   "metadata": {},
   "outputs": [
    {
     "data": {
      "text/plain": [
       "{1, 2, 3}"
      ]
     },
     "execution_count": 5,
     "metadata": {},
     "output_type": "execute_result"
    }
   ],
   "source": [
    "members = {1, 2, 3, 2}\n",
    "members"
   ]
  },
  {
   "cell_type": "markdown",
   "id": "95a7cac3",
   "metadata": {},
   "source": [
    "- 집합의 구성원은 순서가 없다(unordered). 따라서  indexing 을 허용 않는다."
   ]
  },
  {
   "cell_type": "code",
   "execution_count": 6,
   "id": "842aca3a",
   "metadata": {},
   "outputs": [
    {
     "data": {
      "text/plain": [
       "True"
      ]
     },
     "execution_count": 6,
     "metadata": {},
     "output_type": "execute_result"
    }
   ],
   "source": [
    "s = {3, 4, 5}\n",
    "t = {5, 4, 3}\n",
    "s == t"
   ]
  },
  {
   "cell_type": "code",
   "execution_count": 7,
   "id": "f3ec9474",
   "metadata": {},
   "outputs": [
    {
     "ename": "TypeError",
     "evalue": "'set' object is not subscriptable",
     "output_type": "error",
     "traceback": [
      "\u001b[1;31m---------------------------------------------------------------------------\u001b[0m",
      "\u001b[1;31mTypeError\u001b[0m                                 Traceback (most recent call last)",
      "\u001b[1;32m~\\AppData\\Local\\Temp\\ipykernel_21804\\243613605.py\u001b[0m in \u001b[0;36m<module>\u001b[1;34m\u001b[0m\n\u001b[1;32m----> 1\u001b[1;33m \u001b[0ms\u001b[0m\u001b[1;33m[\u001b[0m\u001b[1;36m0\u001b[0m\u001b[1;33m]\u001b[0m\u001b[1;33m\u001b[0m\u001b[1;33m\u001b[0m\u001b[0m\n\u001b[0m",
      "\u001b[1;31mTypeError\u001b[0m: 'set' object is not subscriptable"
     ]
    }
   ],
   "source": [
    "s[0]"
   ]
  },
  {
   "cell_type": "markdown",
   "id": "d17f0269",
   "metadata": {},
   "source": [
    "- 공집합 - 구성 요소가 없는 집합"
   ]
  },
  {
   "cell_type": "code",
   "execution_count": 8,
   "id": "099e646e",
   "metadata": {},
   "outputs": [
    {
     "data": {
      "text/plain": [
       "set()"
      ]
     },
     "execution_count": 8,
     "metadata": {},
     "output_type": "execute_result"
    }
   ],
   "source": [
    "empty = set({})\n",
    "empty"
   ]
  },
  {
   "cell_type": "markdown",
   "id": "92069353",
   "metadata": {},
   "source": [
    "## 부분집합, 초집합, 파워집합"
   ]
  },
  {
   "cell_type": "markdown",
   "id": "d93d7f2b",
   "metadata": {},
   "source": [
    "### 부분 집합 \n",
    "\n",
    "- 집합 A의 모든 구성원이 B의 구성원일 경우 A는 B의 부분집합이다.  \n",
    "- 공집합은 모든 집합의 부분집합이다.  \n",
    "- 모든 집합은 자기 자신의 부분 집합이다."
   ]
  },
  {
   "cell_type": "code",
   "execution_count": 9,
   "id": "d16ac105",
   "metadata": {},
   "outputs": [
    {
     "data": {
      "text/plain": [
       "True"
      ]
     },
     "execution_count": 9,
     "metadata": {},
     "output_type": "execute_result"
    }
   ],
   "source": [
    "A = {1, 2, 3}\n",
    "B = {1, 2, 3, 4, 5}\n",
    "\n",
    "# A가 B의 부분집합인지 확인\n",
    "is_subset = A.issubset(B)\n",
    "is_subset"
   ]
  },
  {
   "cell_type": "code",
   "execution_count": 10,
   "id": "2e0d09a0",
   "metadata": {},
   "outputs": [
    {
     "data": {
      "text/plain": [
       "True"
      ]
     },
     "execution_count": 10,
     "metadata": {},
     "output_type": "execute_result"
    }
   ],
   "source": [
    "empty.issubset(A)"
   ]
  },
  {
   "cell_type": "code",
   "execution_count": 11,
   "id": "1c6a8f83",
   "metadata": {},
   "outputs": [
    {
     "data": {
      "text/plain": [
       "True"
      ]
     },
     "execution_count": 11,
     "metadata": {},
     "output_type": "execute_result"
    }
   ],
   "source": [
    "A.issubset(A)"
   ]
  },
  {
   "cell_type": "markdown",
   "id": "e14cdd8c",
   "metadata": {},
   "source": [
    "### 초집합 \n",
    "집합 B가 집합 A의 모든 구성원을 포함하고 있다면 집합 B는 A의 초집합이 된다."
   ]
  },
  {
   "cell_type": "code",
   "execution_count": 12,
   "id": "e409724e",
   "metadata": {},
   "outputs": [
    {
     "data": {
      "text/plain": [
       "True"
      ]
     },
     "execution_count": 12,
     "metadata": {},
     "output_type": "execute_result"
    }
   ],
   "source": [
    "is_superset = B.issuperset(A)\n",
    "is_superset"
   ]
  },
  {
   "cell_type": "markdown",
   "id": "002977c8",
   "metadata": {},
   "source": [
    "### 파워집합\n",
    "파워집합(power set)은 어떤 집합의 모든 부분집합으로 구성된 집합입니다. 원래 집합의 모든 가능한 조합을 포함합니다.   \n",
    "예를 들어, 집합 A={1,2}의 파워집합은 {{},{1},{2},{1,2}}입니다. 여기서 {}는 공집합을 나타냅니다.  \n",
    "\n",
    "파워집합의 개수는 $2^{n}$개입니다. (여기서 $n$은 집합 구성원의 수)"
   ]
  },
  {
   "cell_type": "code",
   "execution_count": 13,
   "id": "10ccc511",
   "metadata": {},
   "outputs": [
    {
     "name": "stdout",
     "output_type": "stream",
     "text": [
      "[set(), {1}, {2}, {3}, {1, 2}, {1, 3}, {2, 3}, {1, 2, 3}]\n"
     ]
    }
   ],
   "source": [
    "import itertools\n",
    "\n",
    "def power_set(s):\n",
    "    # 집합 s의 모든 부분집합을 포함하는 파워집합을 생성\n",
    "    s_list = list(s)\n",
    "    power_set = []\n",
    "    \n",
    "    for r in range(len(s_list) + 1):\n",
    "        # 각 길이에 대해 가능한 모든 조합을 추가\n",
    "        for subset in itertools.combinations(s_list, r):\n",
    "            power_set.append(set(subset))\n",
    "\n",
    "    return power_set\n",
    "\n",
    "# 예제 집합\n",
    "s = {1, 2, 3}\n",
    "\n",
    "# 파워집합 구하기\n",
    "p_set = power_set(s)\n",
    "\n",
    "# 결과 출력\n",
    "print(p_set)"
   ]
  },
  {
   "cell_type": "code",
   "execution_count": 14,
   "id": "17ccf64c",
   "metadata": {},
   "outputs": [
    {
     "data": {
      "text/plain": [
       "8"
      ]
     },
     "execution_count": 14,
     "metadata": {},
     "output_type": "execute_result"
    }
   ],
   "source": [
    "len(p_set)"
   ]
  },
  {
   "cell_type": "markdown",
   "id": "51719fc6",
   "metadata": {},
   "source": [
    "## 집합 연산"
   ]
  },
  {
   "cell_type": "markdown",
   "id": "51838ed8",
   "metadata": {},
   "source": [
    "### 교집합 / 합집합 / 차집합"
   ]
  },
  {
   "cell_type": "code",
   "execution_count": 15,
   "id": "cad2cd39",
   "metadata": {},
   "outputs": [],
   "source": [
    "s1 = set([1, 2, 3, 4, 5, 6])\n",
    "s2 = set([4, 5, 6, 7, 8, 9])"
   ]
  },
  {
   "cell_type": "markdown",
   "id": "5caf66fe",
   "metadata": {},
   "source": [
    "- 교집합"
   ]
  },
  {
   "cell_type": "code",
   "execution_count": 16,
   "id": "3028e051",
   "metadata": {},
   "outputs": [
    {
     "data": {
      "text/plain": [
       "{4, 5, 6}"
      ]
     },
     "execution_count": 16,
     "metadata": {},
     "output_type": "execute_result"
    }
   ],
   "source": [
    "s1 & s2"
   ]
  },
  {
   "cell_type": "code",
   "execution_count": 17,
   "id": "c85a9849",
   "metadata": {},
   "outputs": [
    {
     "data": {
      "text/plain": [
       "{4, 5, 6}"
      ]
     },
     "execution_count": 17,
     "metadata": {},
     "output_type": "execute_result"
    }
   ],
   "source": [
    "s1.intersection(s2)"
   ]
  },
  {
   "cell_type": "markdown",
   "id": "2dc47b83",
   "metadata": {},
   "source": [
    "- 합집합"
   ]
  },
  {
   "cell_type": "code",
   "execution_count": 18,
   "id": "c34d2ea5",
   "metadata": {},
   "outputs": [
    {
     "data": {
      "text/plain": [
       "{1, 2, 3, 4, 5, 6, 7, 8, 9}"
      ]
     },
     "execution_count": 18,
     "metadata": {},
     "output_type": "execute_result"
    }
   ],
   "source": [
    "s1 | s2"
   ]
  },
  {
   "cell_type": "code",
   "execution_count": 19,
   "id": "a971f5a2",
   "metadata": {},
   "outputs": [
    {
     "data": {
      "text/plain": [
       "{1, 2, 3, 4, 5, 6, 7, 8, 9}"
      ]
     },
     "execution_count": 19,
     "metadata": {},
     "output_type": "execute_result"
    }
   ],
   "source": [
    "s1.union(s2)"
   ]
  },
  {
   "cell_type": "markdown",
   "id": "1c46a220",
   "metadata": {},
   "source": [
    "- 차집합"
   ]
  },
  {
   "cell_type": "code",
   "execution_count": 20,
   "id": "797b3aa1",
   "metadata": {},
   "outputs": [
    {
     "data": {
      "text/plain": [
       "{1, 2, 3}"
      ]
     },
     "execution_count": 20,
     "metadata": {},
     "output_type": "execute_result"
    }
   ],
   "source": [
    "s1 - s2"
   ]
  },
  {
   "cell_type": "code",
   "execution_count": 21,
   "id": "692b6b5d",
   "metadata": {},
   "outputs": [
    {
     "data": {
      "text/plain": [
       "{1, 2, 3}"
      ]
     },
     "execution_count": 21,
     "metadata": {},
     "output_type": "execute_result"
    }
   ],
   "source": [
    "s1.difference(s2)"
   ]
  },
  {
   "cell_type": "markdown",
   "id": "4117329c",
   "metadata": {},
   "source": [
    "- 세개 집합의 교집합 연산"
   ]
  },
  {
   "cell_type": "code",
   "execution_count": 22,
   "id": "56c72909",
   "metadata": {},
   "outputs": [
    {
     "data": {
      "text/plain": [
       "{4, 5}"
      ]
     },
     "execution_count": 22,
     "metadata": {},
     "output_type": "execute_result"
    }
   ],
   "source": [
    "s3 = {4, 5, 10, 11, 12}\n",
    "\n",
    "s1 & s2 & s3"
   ]
  },
  {
   "cell_type": "code",
   "execution_count": 23,
   "id": "1ec62e79",
   "metadata": {},
   "outputs": [
    {
     "data": {
      "text/plain": [
       "{4, 5}"
      ]
     },
     "execution_count": 23,
     "metadata": {},
     "output_type": "execute_result"
    }
   ],
   "source": [
    "s1.intersection(s2).intersection(s3)"
   ]
  },
  {
   "cell_type": "markdown",
   "id": "61c127e4",
   "metadata": {},
   "source": [
    "### 여집합"
   ]
  },
  {
   "cell_type": "code",
   "execution_count": 24,
   "id": "6ba20d39",
   "metadata": {},
   "outputs": [
    {
     "name": "stdout",
     "output_type": "stream",
     "text": [
      "{3, 4, 5}\n"
     ]
    }
   ],
   "source": [
    "A = {1, 2}\n",
    "B = {3, 4, 5}\n",
    "Union = A | B\n",
    " \n",
    "AC = Union.difference(A)\n",
    " \n",
    "print(AC)"
   ]
  },
  {
   "cell_type": "markdown",
   "id": "ed66decd",
   "metadata": {},
   "source": [
    "### 카르테지안 곱 (Cartesian Product)\n",
    "\n",
    "두 집합 A와 B의 카르테지안 곱(Cartesian product)은 A의 모든 원소와 B의 모든 원소로 이루어진 모든 가능한 순서쌍을 포함하는 집합이 됩니다.  \n",
    "카르테지안 곱(Cartesian product)의 개수는 두 집합에 있는 원소의 개수를 곱한 것과 같습니다. 따라서 집합 A와 B가 각각 n개와 m개의 원소를 갖고 있다면, 그들의 카르테지안 곱은 총 n×m개의 순서쌍을 갖게 됩니다."
   ]
  },
  {
   "cell_type": "code",
   "execution_count": 25,
   "id": "8991c1f9",
   "metadata": {},
   "outputs": [
    {
     "name": "stdout",
     "output_type": "stream",
     "text": [
      "{(2, 4), (1, 5), (1, 4), (2, 3), (2, 5), (1, 3)}\n"
     ]
    }
   ],
   "source": [
    "import itertools\n",
    "\n",
    "# 집합 A와 B 정의\n",
    "A = {1, 2}\n",
    "B = {3, 4, 5}\n",
    "\n",
    "# A와 B의 카르테지안 곱 계산\n",
    "cartesian_product = set(itertools.product(A, B))\n",
    "\n",
    "# 결과 출력\n",
    "print(cartesian_product)"
   ]
  },
  {
   "cell_type": "code",
   "execution_count": 26,
   "id": "72481256",
   "metadata": {},
   "outputs": [
    {
     "data": {
      "text/plain": [
       "True"
      ]
     },
     "execution_count": 26,
     "metadata": {},
     "output_type": "execute_result"
    }
   ],
   "source": [
    "len(cartesian_product) == len(A) * len(B)"
   ]
  },
  {
   "cell_type": "markdown",
   "id": "af391d55",
   "metadata": {},
   "source": [
    "## 연습문제\n",
    "### 자카드유사도 (Jaccard Similarity)\n",
    "\n",
    "$$J(A, B) = \\frac{|A\\cap B|}{|A\\cup B|} = \\frac{|A\\cap B|}{|A|+|B|-|A\\cap B|}$$\n",
    "\n",
    "- 자카드 유사도 공식을 이용한 두개의 문서간의 유사도\n",
    "$$J(doc1, doc2) = \\frac{doc1\\cap doc2}{doc1\\cup doc2} $$"
   ]
  },
  {
   "cell_type": "code",
   "execution_count": 27,
   "id": "e5ac4c35",
   "metadata": {},
   "outputs": [
    {
     "name": "stdout",
     "output_type": "stream",
     "text": [
      "['apple', 'banana', 'everyone', 'like', 'likely', 'watch', 'card', 'holder']\n",
      "['apple', 'banana', 'coupon', 'passport', 'love', 'you']\n"
     ]
    }
   ],
   "source": [
    "doc1 = \"apple banana everyone like likely watch card holder\"\n",
    "doc2 = \"apple banana coupon passport love you\"\n",
    "\n",
    "tokenized_doc1 = doc1.split()\n",
    "tokenized_doc2 = doc2.split()\n",
    "\n",
    "print(tokenized_doc1)\n",
    "print(tokenized_doc2)"
   ]
  },
  {
   "cell_type": "markdown",
   "id": "9d0099f8",
   "metadata": {},
   "source": [
    "**두 문서의 전체 단어 집합**"
   ]
  },
  {
   "cell_type": "code",
   "execution_count": 28,
   "id": "48c86fb3",
   "metadata": {},
   "outputs": [
    {
     "name": "stdout",
     "output_type": "stream",
     "text": [
      "{'everyone', 'watch', 'like', 'coupon', 'love', 'passport', 'holder', 'apple', 'likely', 'card', 'banana', 'you'}\n",
      "12\n"
     ]
    }
   ],
   "source": [
    "union = set(tokenized_doc1) | set(tokenized_doc2)\n",
    "print(union)\n",
    "print(len(union))"
   ]
  },
  {
   "cell_type": "markdown",
   "id": "cd392aca",
   "metadata": {},
   "source": [
    "**두 문서에 공통으로 나오는 단어**"
   ]
  },
  {
   "cell_type": "code",
   "execution_count": 29,
   "id": "545bf04f",
   "metadata": {},
   "outputs": [
    {
     "name": "stdout",
     "output_type": "stream",
     "text": [
      "{'banana', 'apple'}\n"
     ]
    }
   ],
   "source": [
    "inter = set(tokenized_doc1) & set(tokenized_doc2)\n",
    "print(inter)"
   ]
  },
  {
   "cell_type": "code",
   "execution_count": 30,
   "id": "bc057138",
   "metadata": {},
   "outputs": [
    {
     "name": "stdout",
     "output_type": "stream",
     "text": [
      "두 문서간의 Jaccard 유사도 : 0.17 \n"
     ]
    }
   ],
   "source": [
    "print(\"두 문서간의 Jaccard 유사도 : {:.2f} \".format(len(inter)/len(union)))"
   ]
  },
  {
   "cell_type": "code",
   "execution_count": null,
   "id": "06f984cf",
   "metadata": {},
   "outputs": [],
   "source": []
  }
 ],
 "metadata": {
  "kernelspec": {
   "display_name": "Python 3 (ipykernel)",
   "language": "python",
   "name": "python3"
  },
  "language_info": {
   "codemirror_mode": {
    "name": "ipython",
    "version": 3
   },
   "file_extension": ".py",
   "mimetype": "text/x-python",
   "name": "python",
   "nbconvert_exporter": "python",
   "pygments_lexer": "ipython3",
   "version": "3.9.16"
  }
 },
 "nbformat": 4,
 "nbformat_minor": 5
}
