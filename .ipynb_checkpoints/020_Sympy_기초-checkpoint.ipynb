{
 "cells": [
  {
   "cell_type": "markdown",
   "id": "1f8a2c02",
   "metadata": {},
   "source": [
    "# Sympy 기초\n",
    "\n",
    "SymPy는 기호 형식의 수학적 표현을 사용하기 위한 Python 라이브러리입니다. 수학에서는 변수를 사용하여 미지수를 나타내는 경우가 많습니다. 기호 계산을 사용하면 값이 할당되지 않은 변수로 표현식을 조작할 수 있습니다.\n",
    "\n",
    "또한 기호 계산은 소수점 이하 자릿수로 반올림하는 대신 표현식의 정확한 값을 유지합니다. 기호 계산의 대안은 수치 계산입니다. 수치 계산에서 모든 값은 정수 또는 부동 소수점 숫자로 표시됩니다."
   ]
  },
  {
   "cell_type": "code",
   "execution_count": 1,
   "id": "f8ca5119",
   "metadata": {},
   "outputs": [],
   "source": [
    "#!pip install sympy"
   ]
  },
  {
   "cell_type": "code",
   "execution_count": 2,
   "id": "d8e897e7",
   "metadata": {},
   "outputs": [],
   "source": [
    "from sympy import *"
   ]
  },
  {
   "cell_type": "markdown",
   "id": "35bb2939",
   "metadata": {},
   "source": [
    "## Symbols\n",
    "변수를 알 수 없는 변수로 사용하려면 기호()를 사용하여 변수를 정의합니다.\n",
    "\n",
    "기호()는 공백이나 쉼표로 구분된 문자열로 여러 변수를 한 번에 정의하는 데 사용할 수 있습니다."
   ]
  },
  {
   "cell_type": "code",
   "execution_count": 3,
   "id": "a3ce8c3e",
   "metadata": {},
   "outputs": [
    {
     "data": {
      "text/latex": [
       "$\\displaystyle x$"
      ],
      "text/plain": [
       "x"
      ]
     },
     "execution_count": 3,
     "metadata": {},
     "output_type": "execute_result"
    }
   ],
   "source": [
    "x = symbols('x')\n",
    "x"
   ]
  },
  {
   "cell_type": "code",
   "execution_count": 4,
   "id": "21c7f590",
   "metadata": {},
   "outputs": [
    {
     "data": {
      "text/latex": [
       "$\\displaystyle a$"
      ],
      "text/plain": [
       "a"
      ]
     },
     "metadata": {},
     "output_type": "display_data"
    },
    {
     "data": {
      "text/latex": [
       "$\\displaystyle b$"
      ],
      "text/plain": [
       "b"
      ]
     },
     "metadata": {},
     "output_type": "display_data"
    },
    {
     "data": {
      "text/latex": [
       "$\\displaystyle c$"
      ],
      "text/plain": [
       "c"
      ]
     },
     "metadata": {},
     "output_type": "display_data"
    }
   ],
   "source": [
    "a, b, c = symbols('a, b, c')\n",
    "display(a, b, c)"
   ]
  },
  {
   "cell_type": "code",
   "execution_count": 5,
   "id": "bd962bf4-c119-4a27-9a47-f96e7db1aee3",
   "metadata": {},
   "outputs": [
    {
     "data": {
      "text/latex": [
       "$\\displaystyle a + b + c$"
      ],
      "text/plain": [
       "a + b + c"
      ]
     },
     "metadata": {},
     "output_type": "display_data"
    },
    {
     "data": {
      "text/latex": [
       "$\\displaystyle 4$"
      ],
      "text/plain": [
       "4"
      ]
     },
     "execution_count": 5,
     "metadata": {},
     "output_type": "execute_result"
    }
   ],
   "source": [
    "expr = a + b + c\n",
    "display(expr)\n",
    "expr.subs({a:1, b:-2, c:5})"
   ]
  },
  {
   "cell_type": "code",
   "execution_count": 6,
   "id": "d4632326",
   "metadata": {},
   "outputs": [
    {
     "data": {
      "text/latex": [
       "$\\displaystyle \\tau$"
      ],
      "text/plain": [
       "tau"
      ]
     },
     "metadata": {},
     "output_type": "display_data"
    },
    {
     "data": {
      "text/latex": [
       "$\\displaystyle \\sigma$"
      ],
      "text/plain": [
       "sigma"
      ]
     },
     "metadata": {},
     "output_type": "display_data"
    },
    {
     "data": {
      "text/latex": [
       "$\\displaystyle \\mu$"
      ],
      "text/plain": [
       "mu"
      ]
     },
     "metadata": {},
     "output_type": "display_data"
    }
   ],
   "source": [
    "tau, sigma, mu = symbols('tau sigma mu')\n",
    "display(tau, sigma, mu)"
   ]
  },
  {
   "cell_type": "code",
   "execution_count": 7,
   "id": "8613843f",
   "metadata": {},
   "outputs": [
    {
     "data": {
      "text/latex": [
       "$\\displaystyle \\frac{3}{x}$"
      ],
      "text/plain": [
       "3/x"
      ]
     },
     "execution_count": 7,
     "metadata": {},
     "output_type": "execute_result"
    }
   ],
   "source": [
    "expr = 3/x\n",
    "expr"
   ]
  },
  {
   "cell_type": "code",
   "execution_count": 8,
   "id": "cb4da242",
   "metadata": {},
   "outputs": [
    {
     "data": {
      "text/latex": [
       "$\\displaystyle 2 a b$"
      ],
      "text/plain": [
       "2*a*b"
      ]
     },
     "execution_count": 8,
     "metadata": {},
     "output_type": "execute_result"
    }
   ],
   "source": [
    "a*b + b*a"
   ]
  },
  {
   "cell_type": "code",
   "execution_count": 9,
   "id": "1927bfb7",
   "metadata": {},
   "outputs": [
    {
     "data": {
      "text/latex": [
       "$\\displaystyle \\left(a + b\\right)^{2}$"
      ],
      "text/plain": [
       "(a + b)**2"
      ]
     },
     "execution_count": 9,
     "metadata": {},
     "output_type": "execute_result"
    }
   ],
   "source": [
    "(a+b)**2"
   ]
  },
  {
   "cell_type": "code",
   "execution_count": 10,
   "id": "98830265",
   "metadata": {},
   "outputs": [
    {
     "data": {
      "text/latex": [
       "$\\displaystyle a^{2} + 2 a b + b^{2}$"
      ],
      "text/plain": [
       "a**2 + 2*a*b + b**2"
      ]
     },
     "execution_count": 10,
     "metadata": {},
     "output_type": "execute_result"
    }
   ],
   "source": [
    "g = (a+b)**2\n",
    "\n",
    "#표현식을 대수적으로 전개\n",
    "g.expand()"
   ]
  },
  {
   "cell_type": "code",
   "execution_count": 11,
   "id": "4dae22c6",
   "metadata": {},
   "outputs": [
    {
     "data": {
      "text/latex": [
       "$\\displaystyle \\left(a - b\\right) \\left(a + b\\right)$"
      ],
      "text/plain": [
       "(a - b)*(a + b)"
      ]
     },
     "execution_count": 11,
     "metadata": {},
     "output_type": "execute_result"
    }
   ],
   "source": [
    "# 인수분해\n",
    "(a**2-b**2).factor()"
   ]
  },
  {
   "cell_type": "markdown",
   "id": "d5ad6b28",
   "metadata": {},
   "source": [
    "### 치환\n",
    "표현식에서 변수 x를 x = 5라는 값으로 대체한다고 가정해 보겠습니다.\n",
    "\n",
    "x = 5를 입력하면 표현식을 변경하는 대신 Python 변수만 재정의합니다.\n",
    "\n",
    "대신에 subs(x, 5)를 사용해야 합니다."
   ]
  },
  {
   "cell_type": "code",
   "execution_count": 12,
   "id": "6673a0e0",
   "metadata": {},
   "outputs": [
    {
     "data": {
      "text/latex": [
       "$\\displaystyle 2 x - 1$"
      ],
      "text/plain": [
       "2*x - 1"
      ]
     },
     "execution_count": 12,
     "metadata": {},
     "output_type": "execute_result"
    }
   ],
   "source": [
    "# symbol 정의\n",
    "x = symbols('x')\n",
    "# expression 정의\n",
    "expression = 2*x - 1\n",
    "expression"
   ]
  },
  {
   "cell_type": "code",
   "execution_count": 13,
   "id": "c487a9cf",
   "metadata": {},
   "outputs": [
    {
     "data": {
      "text/latex": [
       "$\\displaystyle 9$"
      ],
      "text/plain": [
       "9"
      ]
     },
     "execution_count": 13,
     "metadata": {},
     "output_type": "execute_result"
    }
   ],
   "source": [
    "# x를 5로 대체\n",
    "expression.subs(x, 5)"
   ]
  },
  {
   "cell_type": "code",
   "execution_count": 14,
   "id": "170a067f",
   "metadata": {},
   "outputs": [
    {
     "data": {
      "text/latex": [
       "$\\displaystyle 8 x^{4} - 4 x^{3} + 10 x^{2}$"
      ],
      "text/plain": [
       "8*x**4 - 4*x**3 + 10*x**2"
      ]
     },
     "execution_count": 14,
     "metadata": {},
     "output_type": "execute_result"
    }
   ],
   "source": [
    "f = 8*x**4 - 4*x**3 + 10*x**2\n",
    "f"
   ]
  },
  {
   "cell_type": "code",
   "execution_count": 15,
   "id": "ac70e8bd",
   "metadata": {},
   "outputs": [
    {
     "data": {
      "text/latex": [
       "$\\displaystyle 630$"
      ],
      "text/plain": [
       "630"
      ]
     },
     "execution_count": 15,
     "metadata": {},
     "output_type": "execute_result"
    }
   ],
   "source": [
    "f.subs(x, 3)"
   ]
  },
  {
   "cell_type": "code",
   "execution_count": 16,
   "id": "b65f4452",
   "metadata": {},
   "outputs": [
    {
     "data": {
      "text/latex": [
       "$\\displaystyle 2 x^{2} \\cdot \\left(4 x^{2} - 2 x + 5\\right)$"
      ],
      "text/plain": [
       "2*x**2*(4*x**2 - 2*x + 5)"
      ]
     },
     "execution_count": 16,
     "metadata": {},
     "output_type": "execute_result"
    }
   ],
   "source": [
    "f.factor()"
   ]
  },
  {
   "cell_type": "code",
   "execution_count": 17,
   "id": "f95d7a59",
   "metadata": {},
   "outputs": [
    {
     "data": {
      "text/latex": [
       "$\\displaystyle \\frac{8 x^{4} - 4 x^{3} + 10 x^{2}}{2 x^{2}}$"
      ],
      "text/plain": [
       "(8*x**4 - 4*x**3 + 10*x**2)/(2*x**2)"
      ]
     },
     "execution_count": 17,
     "metadata": {},
     "output_type": "execute_result"
    }
   ],
   "source": [
    "g = f / (2*x**2)\n",
    "g"
   ]
  },
  {
   "cell_type": "code",
   "execution_count": 18,
   "id": "bd044ffb",
   "metadata": {},
   "outputs": [
    {
     "data": {
      "text/latex": [
       "$\\displaystyle 4 x^{2} - 2 x + 5$"
      ],
      "text/plain": [
       "4*x**2 - 2*x + 5"
      ]
     },
     "execution_count": 18,
     "metadata": {},
     "output_type": "execute_result"
    }
   ],
   "source": [
    "# 단순화 (약분)\n",
    "g.simplify()"
   ]
  },
  {
   "cell_type": "code",
   "execution_count": 19,
   "id": "05b255fa",
   "metadata": {},
   "outputs": [
    {
     "data": {
      "text/latex": [
       "$\\displaystyle \\text{NaN}$"
      ],
      "text/plain": [
       "nan"
      ]
     },
     "execution_count": 19,
     "metadata": {},
     "output_type": "execute_result"
    }
   ],
   "source": [
    "# zero division\n",
    "g.subs(x, 0)"
   ]
  },
  {
   "cell_type": "code",
   "execution_count": 20,
   "id": "b88923a6",
   "metadata": {},
   "outputs": [
    {
     "data": {
      "text/latex": [
       "$\\displaystyle 5$"
      ],
      "text/plain": [
       "5"
      ]
     },
     "execution_count": 20,
     "metadata": {},
     "output_type": "execute_result"
    }
   ],
   "source": [
    "g.simplify().subs(x, 0)"
   ]
  },
  {
   "cell_type": "markdown",
   "id": "8b2c4953",
   "metadata": {},
   "source": [
    "## 유리수\n",
    "기호 계산의 또 다른 특징은 정확한 값을 유지한다는 것입니다.   \n",
    "\n",
    "Python에서 `/`로 나누면 정수 또는 부동 소수점 숫자가 생성됩니다. 몫이 종료되지 않는 소수인 경우 잘립니다. SymPy는 Python의 모든 산술 연산자에 대해 동일한 의미를 유지합니다.  \n",
    "\n",
    "Python에서 유리수를 정확하게 표현하고 계산하고자 할 때, SymPy 라이브러리의 Rational 클래스를 사용할 수 있습니다. Rational(a, b)는 분자 a와 분모 b를 가지는 분수를 나타냅니다. 이 방법은 유리수를 부동소수점으로 표현할 때 발생할 수 있는 오차 없이 정확한 값을 유지하고자 할 때 유용합니다. 예를 들어, Rational(1, 3)은 1/3을 정확한 분수 형태로 나타냅니다."
   ]
  },
  {
   "cell_type": "code",
   "execution_count": 21,
   "id": "ebbae6df",
   "metadata": {},
   "outputs": [
    {
     "data": {
      "text/plain": [
       "0.3333333333333333"
      ]
     },
     "execution_count": 21,
     "metadata": {},
     "output_type": "execute_result"
    }
   ],
   "source": [
    "1/3"
   ]
  },
  {
   "cell_type": "code",
   "execution_count": 22,
   "id": "b5769b0b",
   "metadata": {},
   "outputs": [
    {
     "data": {
      "text/latex": [
       "$\\displaystyle \\frac{1}{3}$"
      ],
      "text/plain": [
       "1/3"
      ]
     },
     "execution_count": 22,
     "metadata": {},
     "output_type": "execute_result"
    }
   ],
   "source": [
    "# 1/3은 유리수로 유지됩니다.\n",
    "Rational(1, 3)"
   ]
  },
  {
   "cell_type": "markdown",
   "id": "7cc6107b",
   "metadata": {},
   "source": [
    "### 평가하기\n",
    "\n",
    "SymPy 라이브러리를 사용하여 문제를 해결할 때 종종 정답의 소수점 근사값을 구하고 싶을 때가 있습니다. SymPy에서 표현식을 부동소수점 숫자로 변환하기 위해서는 evalf() 메서드를 사용할 수 있습니다.\n",
    "\n",
    "예를 들어, $\\sqrt{2}$는 무리수이므로, SymPy에서는 항상 sqrt(2)로 표현됩니다. $\\sqrt{2}$의 소수점 근사값을 찾기 위해서는 다음과 같은 코드를 사용할 수 있습니다."
   ]
  },
  {
   "cell_type": "code",
   "execution_count": 23,
   "id": "6154f646",
   "metadata": {},
   "outputs": [
    {
     "data": {
      "text/latex": [
       "$\\displaystyle \\sqrt{2}$"
      ],
      "text/plain": [
       "sqrt(2)"
      ]
     },
     "execution_count": 23,
     "metadata": {},
     "output_type": "execute_result"
    }
   ],
   "source": [
    "expr = sqrt(2)\n",
    "expr"
   ]
  },
  {
   "cell_type": "code",
   "execution_count": 24,
   "id": "f5082aab",
   "metadata": {},
   "outputs": [
    {
     "data": {
      "text/latex": [
       "$\\displaystyle 1.4142135623731$"
      ],
      "text/plain": [
       "1.41421356237310"
      ]
     },
     "execution_count": 24,
     "metadata": {},
     "output_type": "execute_result"
    }
   ],
   "source": [
    "expr.evalf()"
   ]
  },
  {
   "cell_type": "code",
   "execution_count": 25,
   "id": "547fba90-78c4-4b3d-b61f-d272835a03b8",
   "metadata": {},
   "outputs": [
    {
     "data": {
      "text/latex": [
       "$\\displaystyle e^{2}$"
      ],
      "text/plain": [
       "exp(2)"
      ]
     },
     "metadata": {},
     "output_type": "display_data"
    },
    {
     "data": {
      "text/latex": [
       "$\\displaystyle 7.38905609893065$"
      ],
      "text/plain": [
       "7.38905609893065"
      ]
     },
     "execution_count": 25,
     "metadata": {},
     "output_type": "execute_result"
    }
   ],
   "source": [
    "# e^2\n",
    "expr = exp(2)\n",
    "display(expr)\n",
    "expr.evalf()"
   ]
  },
  {
   "cell_type": "markdown",
   "id": "be97f4a3-f88d-4fc6-92cf-b1269d1f7dc0",
   "metadata": {},
   "source": [
    "각 표현식의 값 구하기.   \n",
    "(a) $\\ln\\left(\\frac{1}{e^3}\\right)$ \n",
    "\n",
    "\n",
    "(b) $e^{\\ln 2 - \\ln 4}$"
   ]
  },
  {
   "cell_type": "code",
   "execution_count": 26,
   "id": "2e253b1a-2673-437e-81cc-573a74342a94",
   "metadata": {},
   "outputs": [
    {
     "data": {
      "text/latex": [
       "$\\displaystyle -3.0$"
      ],
      "text/plain": [
       "-3.00000000000000"
      ]
     },
     "execution_count": 26,
     "metadata": {},
     "output_type": "execute_result"
    }
   ],
   "source": [
    "expr = log(1/exp(3))\n",
    "expr.evalf()"
   ]
  },
  {
   "cell_type": "code",
   "execution_count": 27,
   "id": "e61a8116-1cff-48c7-8964-cbe03a652864",
   "metadata": {},
   "outputs": [
    {
     "data": {
      "text/latex": [
       "$\\displaystyle 0.5$"
      ],
      "text/plain": [
       "0.500000000000000"
      ]
     },
     "execution_count": 27,
     "metadata": {},
     "output_type": "execute_result"
    }
   ],
   "source": [
    "expr = exp(log(2)-log(4))\n",
    "expr.evalf()"
   ]
  },
  {
   "cell_type": "markdown",
   "id": "bf5f1f3c-3436-4281-9dee-1e997f592c16",
   "metadata": {},
   "source": [
    "### SymPy를 활용한 지수법칙 이해"
   ]
  },
  {
   "cell_type": "code",
   "execution_count": 28,
   "id": "8ed871c5-9194-4025-a30c-d9e73c47006e",
   "metadata": {},
   "outputs": [
    {
     "data": {
      "text/latex": [
       "$\\displaystyle a^{m} a^{n}$"
      ],
      "text/plain": [
       "a**m*a**n"
      ]
     },
     "metadata": {},
     "output_type": "display_data"
    },
    {
     "data": {
      "text/latex": [
       "$\\displaystyle a^{m + n}$"
      ],
      "text/plain": [
       "a**(m + n)"
      ]
     },
     "execution_count": 28,
     "metadata": {},
     "output_type": "execute_result"
    }
   ],
   "source": [
    "a, m, n = symbols(\"a, m, n\")\n",
    "\n",
    "#곱셈법칙\n",
    "expr = a**m * a**n\n",
    "display(expr)\n",
    "expr.simplify()"
   ]
  },
  {
   "cell_type": "code",
   "execution_count": 29,
   "id": "7dcd0731-f466-4777-babd-310462fe665f",
   "metadata": {},
   "outputs": [
    {
     "data": {
      "text/latex": [
       "$\\displaystyle a^{m} a^{- n}$"
      ],
      "text/plain": [
       "a**m/a**n"
      ]
     },
     "metadata": {},
     "output_type": "display_data"
    },
    {
     "data": {
      "text/latex": [
       "$\\displaystyle a^{m - n}$"
      ],
      "text/plain": [
       "a**(m - n)"
      ]
     },
     "execution_count": 29,
     "metadata": {},
     "output_type": "execute_result"
    }
   ],
   "source": [
    "#나눗셈법칙\n",
    "expr = a**m / a**n\n",
    "display(expr)\n",
    "expr.simplify()"
   ]
  },
  {
   "cell_type": "markdown",
   "id": "1df4c003-2942-411a-96ce-205d5c4e843b",
   "metadata": {},
   "source": [
    "### Eq 함수 \n",
    "SymPy의 Eq 함수는 수학적인 방정식을 나타내기 위해 사용됩니다. 이 함수는 주로 두 표현식이나 값이 같다는 것을 표현하는 데 쓰입니다. Eq는 Equation의 약자로, 방정식을 정의할 때 사용됩니다."
   ]
  },
  {
   "cell_type": "code",
   "execution_count": 30,
   "id": "53543157-2130-4ea3-bc83-612b0a3acccf",
   "metadata": {},
   "outputs": [
    {
     "data": {
      "text/latex": [
       "$\\displaystyle \\text{True}$"
      ],
      "text/plain": [
       "True"
      ]
     },
     "execution_count": 30,
     "metadata": {},
     "output_type": "execute_result"
    }
   ],
   "source": [
    "from sympy import Eq, symbols\n",
    "\n",
    "Eq(2+4, 6)"
   ]
  },
  {
   "cell_type": "code",
   "execution_count": 31,
   "id": "11f767b0-a037-454b-adb9-60bcffcf88dc",
   "metadata": {},
   "outputs": [
    {
     "data": {
      "text/latex": [
       "$\\displaystyle x + y = 2$"
      ],
      "text/plain": [
       "Eq(x + y, 2)"
      ]
     },
     "execution_count": 31,
     "metadata": {},
     "output_type": "execute_result"
    }
   ],
   "source": [
    "# 변수 정의\n",
    "x, y = symbols('x y')\n",
    "\n",
    "# 방정식 생성: x + y = 2\n",
    "equation = Eq(x + y, 2)\n",
    "\n",
    "# 방정식 출력\n",
    "equation"
   ]
  },
  {
   "cell_type": "code",
   "execution_count": 32,
   "id": "16437d7f-2763-4b80-a82f-c423115d5394",
   "metadata": {},
   "outputs": [
    {
     "data": {
      "text/plain": [
       "[2 - y]"
      ]
     },
     "execution_count": 32,
     "metadata": {},
     "output_type": "execute_result"
    }
   ],
   "source": [
    "from sympy import solve\n",
    "\n",
    "# 방정식 풀기: x에 대해 풀기\n",
    "solution = solve(equation, x)\n",
    "\n",
    "# 해 출력\n",
    "solution"
   ]
  },
  {
   "cell_type": "markdown",
   "id": "afd684fa-2510-4c44-a347-b5091dcfce6d",
   "metadata": {},
   "source": [
    "## 분배법칙"
   ]
  },
  {
   "cell_type": "code",
   "execution_count": 33,
   "id": "1085a165-1b65-4735-9348-144745e327c9",
   "metadata": {},
   "outputs": [
    {
     "data": {
      "text/latex": [
       "$\\displaystyle x \\left(4 x + 5\\right)$"
      ],
      "text/plain": [
       "x*(4*x + 5)"
      ]
     },
     "metadata": {},
     "output_type": "display_data"
    },
    {
     "data": {
      "text/latex": [
       "$\\displaystyle 4 x^{2} + 5 x$"
      ],
      "text/plain": [
       "4*x**2 + 5*x"
      ]
     },
     "metadata": {},
     "output_type": "display_data"
    },
    {
     "data": {
      "text/latex": [
       "$\\displaystyle \\left(x - 7\\right) \\left(4 x + 5\\right)$"
      ],
      "text/plain": [
       "(x - 7)*(4*x + 5)"
      ]
     },
     "metadata": {},
     "output_type": "display_data"
    },
    {
     "data": {
      "text/latex": [
       "$\\displaystyle 4 x^{2} - 23 x - 35$"
      ],
      "text/plain": [
       "4*x**2 - 23*x - 35"
      ]
     },
     "metadata": {},
     "output_type": "display_data"
    }
   ],
   "source": [
    "x = symbols('x')\n",
    "term1 = 4*x + 5\n",
    "term2 = x\n",
    "term3 = x - 7\n",
    "\n",
    "display(term1 * term2)\n",
    "display(expand(term1 * term2))\n",
    "\n",
    "display(term1 * term3)\n",
    "display(expand(term1 * term3))"
   ]
  },
  {
   "cell_type": "code",
   "execution_count": 34,
   "id": "c4bf2edb-e393-4511-bca9-c5212fd02795",
   "metadata": {},
   "outputs": [
    {
     "data": {
      "text/latex": [
       "$\\displaystyle x \\left(- \\frac{5^{x}}{x} + 2 y^{2}\\right)$"
      ],
      "text/plain": [
       "x*(-5**x/x + 2*y**2)"
      ]
     },
     "metadata": {},
     "output_type": "display_data"
    },
    {
     "data": {
      "text/latex": [
       "$\\displaystyle - 5^{x} + 2 x y^{2}$"
      ],
      "text/plain": [
       "-5**x + 2*x*y**2"
      ]
     },
     "metadata": {},
     "output_type": "display_data"
    }
   ],
   "source": [
    "x, y = symbols('x, y')\n",
    "\n",
    "expr = x*(2*y**2 - 5**x/x)\n",
    "\n",
    "display(expr)\n",
    "display(expr.expand())"
   ]
  },
  {
   "cell_type": "code",
   "execution_count": 35,
   "id": "6dc96fbc-cec5-4a06-b915-6bb18a226a29",
   "metadata": {},
   "outputs": [
    {
     "data": {
      "text/latex": [
       "$\\displaystyle \\left(y + z\\right) \\left(\\left(w \\left(4 - w\\right) + w + 1 + \\frac{1}{w^{2}}\\right)^{2} + \\frac{3}{w \\left(4 - w\\right) + w + 1 + \\frac{1}{w^{2}}}\\right) \\left(w \\left(4 - w\\right) + w + 1 + \\frac{1}{w^{2}}\\right)$"
      ],
      "text/plain": [
       "(y + z)*((w*(4 - w) + w + 1 + w**(-2))**2 + 3/(w*(4 - w) + w + 1 + w**(-2)))*(w*(4 - w) + w + 1 + w**(-2))"
      ]
     },
     "metadata": {},
     "output_type": "display_data"
    },
    {
     "data": {
      "text/latex": [
       "$\\displaystyle \\frac{\\left(3 w^{6} + \\left(w^{2} \\left(- w \\left(w - 4\\right) + w + 1\\right) + 1\\right)^{3}\\right) \\left(y + z\\right)}{w^{6}}$"
      ],
      "text/plain": [
       "(3*w**6 + (w**2*(-w*(w - 4) + w + 1) + 1)**3)*(y + z)/w**6"
      ]
     },
     "metadata": {},
     "output_type": "display_data"
    },
    {
     "data": {
      "text/latex": [
       "$\\displaystyle 0$"
      ],
      "text/plain": [
       "0"
      ]
     },
     "metadata": {},
     "output_type": "display_data"
    }
   ],
   "source": [
    "x, y, z, w = symbols('x, y, z, w')\n",
    "\n",
    "x = w*(4-w) + 1/w**2 + (1+w)\n",
    "f1 = x*(y+z)\n",
    "f2 = 3/x + x**2\n",
    "display(f1*f2)\n",
    "display(simplify(f1*f2))\n",
    "display(simplify(f1*f2 - f2*f1))"
   ]
  },
  {
   "cell_type": "markdown",
   "id": "97a0066d-9f63-43cb-9832-128a822192d9",
   "metadata": {},
   "source": [
    "### 소인수분해\n",
    "factorint 함수는 주어진 정수를 소인수분해하는 데 사용됩니다. 이 함수는 정수를 소인수로 분해하고, 각 소인수의 지수를 포함한 딕셔너리를 반환합니다. "
   ]
  },
  {
   "cell_type": "code",
   "execution_count": 36,
   "id": "9b883392-e33d-46e0-97ea-b8d2df045a7b",
   "metadata": {},
   "outputs": [
    {
     "data": {
      "text/plain": [
       "{2: 2, 3: 1, 5: 1}"
      ]
     },
     "execution_count": 36,
     "metadata": {},
     "output_type": "execute_result"
    }
   ],
   "source": [
    "# 60의 소인수분해는 2^2 + 3^1 + 5^1\n",
    "result = factorint(60)\n",
    "result"
   ]
  },
  {
   "cell_type": "code",
   "execution_count": 37,
   "id": "5d9f5c13-bed0-4543-ae5b-eb1ec89a6ebf",
   "metadata": {},
   "outputs": [
    {
     "data": {
      "text/latex": [
       "$\\displaystyle 2^2\\times3^1\\times5^1$"
      ],
      "text/plain": [
       "<IPython.core.display.Math object>"
      ]
     },
     "metadata": {},
     "output_type": "display_data"
    }
   ],
   "source": [
    "from sympy import latex\n",
    "from IPython.display import Math\n",
    "\n",
    "# 위에서 얻은 result 딕셔너리를 사용하여 LaTeX 형식으로 출력\n",
    "latex_expression = '\\\\times'.join([f'{factor}^{exponent}' for factor, exponent in result.items()])\n",
    "\n",
    "display(Math(latex_expression))"
   ]
  },
  {
   "cell_type": "markdown",
   "id": "6edbf66c-2bfc-41dd-ac14-f40fb2b80457",
   "metadata": {},
   "source": [
    "### 로그 표시\n",
    "$\\ln x - 3 \\ln y + 4 \\ln(z + 1)$을 단일 로그로 표현"
   ]
  },
  {
   "cell_type": "code",
   "execution_count": 38,
   "id": "93427377-7f5e-4d41-ab64-91e398d10685",
   "metadata": {},
   "outputs": [
    {
     "name": "stdout",
     "output_type": "stream",
     "text": [
      "log(x) - 3*log(y) + 4*log(z + 1)\n"
     ]
    },
    {
     "data": {
      "text/latex": [
       "$\\displaystyle \\log{\\left(\\frac{x \\left(z + 1\\right)^{4}}{y^{3}} \\right)}$"
      ],
      "text/plain": [
       "log(x*(z + 1)**4/y**3)"
      ]
     },
     "execution_count": 38,
     "metadata": {},
     "output_type": "execute_result"
    }
   ],
   "source": [
    "from sympy import symbols, ln, logcombine\n",
    "\n",
    "# 변수 x, y, z를 양수로 정의\n",
    "x, y, z = symbols('x y z', positive=True)\n",
    "\n",
    "# 로그 표현식 정의\n",
    "k = ln(x) - 3*ln(y) + 4*ln(z + 1)\n",
    "print(k)\n",
    "\n",
    "# 로그 조합\n",
    "combined_log = logcombine(k)\n",
    "\n",
    "# 조합된 로그 표현식 출력\n",
    "combined_log"
   ]
  },
  {
   "cell_type": "code",
   "execution_count": null,
   "id": "56ff70bc-235f-4c3c-bf70-cf8236cef73a",
   "metadata": {},
   "outputs": [],
   "source": []
  }
 ],
 "metadata": {
  "kernelspec": {
   "display_name": "Python 3 (ipykernel)",
   "language": "python",
   "name": "python3"
  },
  "language_info": {
   "codemirror_mode": {
    "name": "ipython",
    "version": 3
   },
   "file_extension": ".py",
   "mimetype": "text/x-python",
   "name": "python",
   "nbconvert_exporter": "python",
   "pygments_lexer": "ipython3",
   "version": "3.9.16"
  }
 },
 "nbformat": 4,
 "nbformat_minor": 5
}
