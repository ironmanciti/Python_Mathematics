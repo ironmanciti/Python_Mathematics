{
  "cells": [
    {
      "cell_type": "markdown",
      "id": "187e6419-ac3e-4c12-acd7-8343c40969e3",
      "metadata": {
        "id": "187e6419-ac3e-4c12-acd7-8343c40969e3"
      },
      "source": [
        "# 기본 계산식"
      ]
    },
    {
      "cell_type": "markdown",
      "id": "d5c7c5fe-f4c7-493d-92e3-dd58b5590aab",
      "metadata": {
        "id": "d5c7c5fe-f4c7-493d-92e3-dd58b5590aab"
      },
      "source": [
        "## 함수를 이용한 섭씨 / 화씨 온도 변환\n",
        "\n",
        "$$C=(F-32)\\times(\\frac{5}{9})$$\n",
        "$$F=\\left(C\\times\\frac{9}{5}\\right)+32$$"
      ]
    },
    {
      "cell_type": "code",
      "execution_count": 1,
      "id": "33e6105e-cada-421f-a897-a217247d7391",
      "metadata": {
        "colab": {
          "base_uri": "https://localhost:8080/"
        },
        "id": "33e6105e-cada-421f-a897-a217247d7391",
        "outputId": "be3aa974-9a66-4d93-d233-e20bba39a537"
      },
      "outputs": [
        {
          "output_type": "execute_result",
          "data": {
            "text/plain": [
              "98.60000000000001"
            ]
          },
          "metadata": {},
          "execution_count": 1
        }
      ],
      "source": [
        "def C_F_convert(C):\n",
        "    return C * (9/5) + 32\n",
        "\n",
        "C_F_convert(37)"
      ]
    },
    {
      "cell_type": "code",
      "execution_count": 2,
      "id": "64daef1e-ae16-4e1a-8721-198ab0781387",
      "metadata": {
        "colab": {
          "base_uri": "https://localhost:8080/"
        },
        "id": "64daef1e-ae16-4e1a-8721-198ab0781387",
        "outputId": "7b8675ad-abbb-4abe-a8af-826ab199e775"
      },
      "outputs": [
        {
          "output_type": "execute_result",
          "data": {
            "text/plain": [
              "37.0"
            ]
          },
          "metadata": {},
          "execution_count": 2
        }
      ],
      "source": [
        "def F_C_convert(F):\n",
        "    return (F-32) * (5/9)\n",
        "\n",
        "F_C_convert(98.6)"
      ]
    },
    {
      "cell_type": "markdown",
      "id": "8ba12200-679f-47c2-909b-0da990a42e55",
      "metadata": {
        "id": "8ba12200-679f-47c2-909b-0da990a42e55"
      },
      "source": [
        "## 이차방정식의 근 구하기\n",
        "$$ax^2+bx+c=0$$\n",
        "$$x1=\\frac{-b+\\sqrt{b^2-4ac}}{2a},\\ \\ \\ \\  x2=\\frac{-b-\\sqrt{b^2-4ac}}{2a}$$"
      ]
    },
    {
      "cell_type": "code",
      "execution_count": 3,
      "id": "52c203fe-b7fa-423f-85d6-527f89b0bc3a",
      "metadata": {
        "colab": {
          "base_uri": "https://localhost:8080/"
        },
        "id": "52c203fe-b7fa-423f-85d6-527f89b0bc3a",
        "outputId": "e59e0755-54e6-494d-b696-a496148cbdcb"
      },
      "outputs": [
        {
          "output_type": "stream",
          "name": "stdout",
          "text": [
            "-1.0 -1.0\n"
          ]
        }
      ],
      "source": [
        "# a=1, b=2, c=1 일때 x_1, x_2 는 ?\n",
        "a = 1\n",
        "b = 2\n",
        "c = 1\n",
        "\n",
        "D = (b**2 - 4*a*c)**0.5\n",
        "\n",
        "x_1 = (-b+D) / (2*a)\n",
        "x_2 = (-b-D) / (2*a)\n",
        "print(x_1, x_2)    # 이 경우 2차방정식의 근의 값 두개는 동일하다."
      ]
    },
    {
      "cell_type": "code",
      "execution_count": 4,
      "id": "d0a9a5c8-5624-421d-8249-f7db4da4cf19",
      "metadata": {
        "colab": {
          "base_uri": "https://localhost:8080/"
        },
        "id": "d0a9a5c8-5624-421d-8249-f7db4da4cf19",
        "outputId": "62f980b9-81b1-4820-c3e2-a42ed1a6960b"
      },
      "outputs": [
        {
          "output_type": "stream",
          "name": "stdout",
          "text": [
            "x1: -1.0, x2: -1.0\n"
          ]
        }
      ],
      "source": [
        "# 이차방정식의 해 계산기\n",
        "def roots(a, b, c):\n",
        "    D = (b*b - 4*a*c)**0.5\n",
        "    x_1 = (-b+D) / (2*a)\n",
        "    x_2 = (-b-D) / (2*a)\n",
        "    print(f'x1: {x_1}, x2: {x_2}')\n",
        "\n",
        "roots(a, b, c)"
      ]
    },
    {
      "cell_type": "markdown",
      "source": [
        "파이썬에서는 복소수를 표현할 때 j를 사용하여 허수부를 나타냅니다.\n",
        "$x^2 + x + 1 = 0$의 근은  $x_1$ = -0.5 + 0.8660254037844386j  와 $x_2$ = 0.5 - 0.8660254037844386j\n"
      ],
      "metadata": {
        "id": "37tJv_ila4vx"
      },
      "id": "37tJv_ila4vx"
    },
    {
      "cell_type": "code",
      "execution_count": 7,
      "id": "a025ae16-ad44-4736-a561-e910352cc71b",
      "metadata": {
        "colab": {
          "base_uri": "https://localhost:8080/"
        },
        "id": "a025ae16-ad44-4736-a561-e910352cc71b",
        "outputId": "f39703be-2f43-44d2-f29d-3b4955c5ceb5"
      },
      "outputs": [
        {
          "output_type": "stream",
          "name": "stdout",
          "text": [
            "x1: (-0.49999999999999994+0.8660254037844386j), x2: (-0.5-0.8660254037844386j)\n"
          ]
        }
      ],
      "source": [
        "# x^2+x+1=0의 근은 둘 다 복소수\n",
        "roots(1, 1, 1)"
      ]
    },
    {
      "cell_type": "markdown",
      "id": "d5ab1ba7-d12c-4e75-bd2b-bb5224a4c24d",
      "metadata": {
        "id": "d5ab1ba7-d12c-4e75-bd2b-bb5224a4c24d"
      },
      "source": [
        "## 프로그램 실습"
      ]
    },
    {
      "cell_type": "markdown",
      "id": "a1a14f3b-deeb-4601-a640-222f28ade3e7",
      "metadata": {
        "id": "a1a14f3b-deeb-4601-a640-222f28ade3e7"
      },
      "source": [
        "-. 짝수 / 홀수 분류 함수\n",
        "   - 입력 받은 숫자가 짝수면 0, 홀수면 1을 반환\n",
        "   - 입력 받은 숫자 다음에 위치하는 5개의 짝수 혹은 혹수 숫자를 반환  \n",
        "     ex) even_odd(2) --> 0, (4, 6, 8, 10, 12)  \n",
        "         even_odd(1) --> 1, (3, 5, 7, 9, 11)"
      ]
    },
    {
      "cell_type": "code",
      "execution_count": null,
      "id": "cfe5882a-01ad-40b1-8a7e-42d8eb8048fb",
      "metadata": {
        "id": "cfe5882a-01ad-40b1-8a7e-42d8eb8048fb"
      },
      "outputs": [],
      "source": [
        "def even_odd(x):\n",
        "    # 코딩하세요"
      ]
    }
  ],
  "metadata": {
    "kernelspec": {
      "display_name": "Python 3 (ipykernel)",
      "language": "python",
      "name": "python3"
    },
    "language_info": {
      "codemirror_mode": {
        "name": "ipython",
        "version": 3
      },
      "file_extension": ".py",
      "mimetype": "text/x-python",
      "name": "python",
      "nbconvert_exporter": "python",
      "pygments_lexer": "ipython3",
      "version": "3.9.16"
    },
    "colab": {
      "provenance": []
    }
  },
  "nbformat": 4,
  "nbformat_minor": 5
}