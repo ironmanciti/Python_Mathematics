{
 "cells": [
  {
   "cell_type": "markdown",
   "id": "4d22427a-ea34-4d4d-8cfd-6eab19f1499b",
   "metadata": {},
   "source": [
    "# Math module\n",
    "\n",
    "Python의 math 모듈은 수학적 연산을 위한 다양한 함수와 상수를 제공하는 표준 라이브러리입니다. 이 모듈에는 기본적인 산술 연산, 삼각함수, 지수 및 로그 함수, 복잡한 수의 연산 등이 포함되어 있습니다."
   ]
  },
  {
   "cell_type": "code",
   "execution_count": 2,
   "id": "2c841c55-2562-47dd-a257-41588063d137",
   "metadata": {},
   "outputs": [],
   "source": [
    "import math"
   ]
  },
  {
   "cell_type": "code",
   "execution_count": 13,
   "id": "daf12c2c-298a-41be-ba7d-631e68b89db2",
   "metadata": {},
   "outputs": [
    {
     "data": {
      "text/plain": [
       "8"
      ]
     },
     "execution_count": 13,
     "metadata": {},
     "output_type": "execute_result"
    }
   ],
   "source": [
    "# 최대 공약수\n",
    "a = 16\n",
    "b = 88\n",
    "math.gcd(a, b)"
   ]
  },
  {
   "cell_type": "code",
   "execution_count": 10,
   "id": "5172aefd-0976-44bf-bff5-e69b82336c9e",
   "metadata": {
    "scrolled": true
   },
   "outputs": [
    {
     "data": {
      "text/plain": [
       "['__doc__',\n",
       " '__loader__',\n",
       " '__name__',\n",
       " '__package__',\n",
       " '__spec__',\n",
       " 'acos',\n",
       " 'acosh',\n",
       " 'asin',\n",
       " 'asinh',\n",
       " 'atan',\n",
       " 'atan2',\n",
       " 'atanh',\n",
       " 'ceil',\n",
       " 'comb',\n",
       " 'copysign',\n",
       " 'cos',\n",
       " 'cosh',\n",
       " 'degrees',\n",
       " 'dist',\n",
       " 'e',\n",
       " 'erf',\n",
       " 'erfc',\n",
       " 'exp',\n",
       " 'expm1',\n",
       " 'fabs',\n",
       " 'factorial',\n",
       " 'floor',\n",
       " 'fmod',\n",
       " 'frexp',\n",
       " 'fsum',\n",
       " 'gamma',\n",
       " 'gcd',\n",
       " 'hypot',\n",
       " 'inf',\n",
       " 'isclose',\n",
       " 'isfinite',\n",
       " 'isinf',\n",
       " 'isnan',\n",
       " 'isqrt',\n",
       " 'lcm',\n",
       " 'ldexp',\n",
       " 'lgamma',\n",
       " 'log',\n",
       " 'log10',\n",
       " 'log1p',\n",
       " 'log2',\n",
       " 'modf',\n",
       " 'nan',\n",
       " 'nextafter',\n",
       " 'perm',\n",
       " 'pi',\n",
       " 'pow',\n",
       " 'prod',\n",
       " 'radians',\n",
       " 'remainder',\n",
       " 'sin',\n",
       " 'sinh',\n",
       " 'sqrt',\n",
       " 'tan',\n",
       " 'tanh',\n",
       " 'tau',\n",
       " 'trunc',\n",
       " 'ulp']"
      ]
     },
     "execution_count": 10,
     "metadata": {},
     "output_type": "execute_result"
    }
   ],
   "source": [
    "dir(math)"
   ]
  },
  {
   "cell_type": "code",
   "execution_count": 12,
   "id": "141d2f24-2bed-4cc4-bbbe-8d5aefa14d9f",
   "metadata": {},
   "outputs": [
    {
     "data": {
      "text/plain": [
       "(4.0,\n",
       " 8.0,\n",
       " 2.718281828459045,\n",
       " 1.0,\n",
       " 1.0,\n",
       " 6.123233995736766e-17,\n",
       " 0.9999999999999999,\n",
       " 120,\n",
       " 3.141592653589793,\n",
       " 2.718281828459045)"
      ]
     },
     "execution_count": 12,
     "metadata": {},
     "output_type": "execute_result"
    }
   ],
   "source": [
    "# 제곱근 함수 예제\n",
    "sqrt_example = math.sqrt(16)\n",
    "\n",
    "# 거듭제곱 함수 예제\n",
    "pow_example = math.pow(2, 3)\n",
    "\n",
    "# 지수 함수 예제\n",
    "exp_example = math.exp(1)\n",
    "\n",
    "# 로그 함수 예제 (자연로그)\n",
    "log_example = math.log(math.e)\n",
    "\n",
    "# 사인, 코사인, 탄젠트 함수 예제 (π/2 라디안 사용)\n",
    "sin_example = math.sin(math.pi / 2)\n",
    "cos_example = math.cos(math.pi / 2)\n",
    "tan_example = math.tan(math.pi / 4)\n",
    "\n",
    "# 팩토리얼 함수 예제\n",
    "factorial_example = math.factorial(5)\n",
    "\n",
    "# math 모듈의 상수 예제 (π와 e)\n",
    "pi_example = math.pi\n",
    "e_example = math.e\n",
    "\n",
    "# 결과들을 모두 출력\n",
    "(sqrt_example, pow_example, exp_example, log_example, sin_example, cos_example, tan_example, factorial_example, pi_example, e_example)"
   ]
  },
  {
   "cell_type": "markdown",
   "id": "40bf7e07-9268-4801-8bc5-46edd52c0950",
   "metadata": {},
   "source": [
    "## 연습문제: 수학 함수와 상수 활용하기  \n",
    "Python의 math 모듈을 사용하여 다음 문제를 해결하세요.  \n",
    "\n",
    "제곱근 구하기: 숫자 25의 제곱근을 구하세요.  \n",
    "거듭제곱 계산하기: 5를 3번 거듭제곱한 값을 계산하세요.  \n",
    "지수 함수 값 구하기: e의 2승 값을 구하세요.  \n",
    "자연로그 계산하기: 숫자 10의 자연로그 값을 구하세요.  \n",
    "삼각 함수 계산하기: 30도(π/6 라디안)의 사인, 코사인, 탄젠트 값을 각각 구하세요.  \n",
    "팩토리얼 계산하기: 7의 팩토리얼 값을 구하세요.  \n",
    "상수 사용하기: math 모듈의 π와 e 값을 출력하고, 이를 사용하여 원의 둘레와 면적을 구하는 공식(반지름이 10인 원 기준)과 자연로그의 밑 e를 사용하여 $e^\\pi$ 값과 $\\pi^e$ 값을 각각 계산하세요.  \n",
    "각 문제에 대한 답을 구한 후, Python 코드를 작성하여 확인해보세요."
   ]
  },
  {
   "cell_type": "code",
   "execution_count": null,
   "id": "26f63d1f-a6f0-4d16-915a-c1ffa6cd4ede",
   "metadata": {},
   "outputs": [],
   "source": []
  }
 ],
 "metadata": {
  "kernelspec": {
   "display_name": "Python 3 (ipykernel)",
   "language": "python",
   "name": "python3"
  },
  "language_info": {
   "codemirror_mode": {
    "name": "ipython",
    "version": 3
   },
   "file_extension": ".py",
   "mimetype": "text/x-python",
   "name": "python",
   "nbconvert_exporter": "python",
   "pygments_lexer": "ipython3",
   "version": "3.9.16"
  }
 },
 "nbformat": 4,
 "nbformat_minor": 5
}
